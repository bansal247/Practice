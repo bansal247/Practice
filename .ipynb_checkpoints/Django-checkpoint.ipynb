{
 "cells": [
  {
   "cell_type": "code",
   "execution_count": 2,
   "id": "a1347201",
   "metadata": {},
   "outputs": [],
   "source": [
    "!django-admin startproject test2 //to create a django project"
   ]
  },
  {
   "cell_type": "code",
   "execution_count": 11,
   "id": "dbfc6ab9",
   "metadata": {},
   "outputs": [
    {
     "data": {
      "text/plain": [
       "'C:\\\\Users\\\\Shashwat\\\\Desktop\\\\Ineuron\\\\Practice\\\\test2'"
      ]
     },
     "execution_count": 11,
     "metadata": {},
     "output_type": "execute_result"
    }
   ],
   "source": [
    "pwd()"
   ]
  },
  {
   "cell_type": "code",
   "execution_count": 5,
   "id": "8e7a1652",
   "metadata": {},
   "outputs": [],
   "source": [
    "import os"
   ]
  },
  {
   "cell_type": "code",
   "execution_count": 9,
   "id": "a425f342",
   "metadata": {},
   "outputs": [],
   "source": [
    "os.chdir(os.curdir+'\\\\test2')"
   ]
  },
  {
   "cell_type": "code",
   "execution_count": 10,
   "id": "4c73b069",
   "metadata": {},
   "outputs": [
    {
     "data": {
      "text/plain": [
       "'C:\\\\Users\\\\Shashwat\\\\Desktop\\\\Ineuron\\\\Practice\\\\test2'"
      ]
     },
     "execution_count": 10,
     "metadata": {},
     "output_type": "execute_result"
    }
   ],
   "source": [
    "pwd()"
   ]
  },
  {
   "cell_type": "code",
   "execution_count": 12,
   "id": "b7f6c1b4",
   "metadata": {},
   "outputs": [
    {
     "name": "stdout",
     "output_type": "stream",
     "text": [
      " Volume in drive C has no label.\n",
      " Volume Serial Number is 4AFF-1155\n",
      "\n",
      " Directory of C:\\Users\\Shashwat\\Desktop\\Ineuron\\Practice\\test2\n",
      "\n",
      "04-01-2022  18:28    <DIR>          .\n",
      "04-01-2022  18:28    <DIR>          ..\n",
      "04-01-2022  18:28               683 manage.py\n",
      "04-01-2022  18:28    <DIR>          test2\n",
      "               1 File(s)            683 bytes\n",
      "               3 Dir(s)  30,233,989,120 bytes free\n"
     ]
    }
   ],
   "source": [
    "ls"
   ]
  },
  {
   "cell_type": "code",
   "execution_count": 13,
   "id": "dd7fabd0",
   "metadata": {},
   "outputs": [
    {
     "name": "stdout",
     "output_type": "stream",
     "text": [
      "^C\n"
     ]
    }
   ],
   "source": [
    "!python manage.py runserver"
   ]
  },
  {
   "cell_type": "code",
   "execution_count": 14,
   "id": "2bbf6c67",
   "metadata": {},
   "outputs": [],
   "source": [
    "!python manage.py startapp hello_app"
   ]
  },
  {
   "cell_type": "code",
   "execution_count": 15,
   "id": "ed6d9ec4",
   "metadata": {},
   "outputs": [
    {
     "name": "stdout",
     "output_type": "stream",
     "text": [
      " Volume in drive C has no label.\n",
      " Volume Serial Number is 4AFF-1155\n",
      "\n",
      " Directory of C:\\Users\\Shashwat\\Desktop\\Ineuron\\Practice\\test2\n",
      "\n",
      "04-01-2022  18:54    <DIR>          .\n",
      "04-01-2022  18:54    <DIR>          ..\n",
      "04-01-2022  18:32                 0 db.sqlite3\n",
      "04-01-2022  18:54    <DIR>          hello_app\n",
      "04-01-2022  18:28               683 manage.py\n",
      "04-01-2022  18:32    <DIR>          test2\n",
      "               2 File(s)            683 bytes\n",
      "               4 Dir(s)  29,943,025,664 bytes free\n"
     ]
    }
   ],
   "source": [
    "ls"
   ]
  },
  {
   "cell_type": "code",
   "execution_count": null,
   "id": "46ff784b",
   "metadata": {},
   "outputs": [],
   "source": []
  }
 ],
 "metadata": {
  "kernelspec": {
   "display_name": "Python 3 (ipykernel)",
   "language": "python",
   "name": "python3"
  },
  "language_info": {
   "codemirror_mode": {
    "name": "ipython",
    "version": 3
   },
   "file_extension": ".py",
   "mimetype": "text/x-python",
   "name": "python",
   "nbconvert_exporter": "python",
   "pygments_lexer": "ipython3",
   "version": "3.9.7"
  }
 },
 "nbformat": 4,
 "nbformat_minor": 5
}
