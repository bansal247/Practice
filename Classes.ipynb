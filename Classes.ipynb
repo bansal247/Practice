{
 "cells": [
  {
   "cell_type": "code",
   "execution_count": 1,
   "id": "710b0c2c",
   "metadata": {},
   "outputs": [
    {
     "name": "stdout",
     "output_type": "stream",
     "text": [
      "this is my first eveer module\n"
     ]
    }
   ],
   "source": [
    "import test1"
   ]
  },
  {
   "cell_type": "code",
   "execution_count": 2,
   "id": "cb855422",
   "metadata": {},
   "outputs": [],
   "source": [
    "import test1"
   ]
  },
  {
   "cell_type": "code",
   "execution_count": 3,
   "id": "8e8a9319",
   "metadata": {},
   "outputs": [],
   "source": [
    "import imp"
   ]
  },
  {
   "cell_type": "code",
   "execution_count": 20,
   "id": "c1139581",
   "metadata": {},
   "outputs": [
    {
     "data": {
      "text/plain": [
       "<module 'test6' from 'C:\\\\Users\\\\Shashwat\\\\Desktop\\\\Ineuron\\\\Practice\\\\test6.py'>"
      ]
     },
     "execution_count": 20,
     "metadata": {},
     "output_type": "execute_result"
    }
   ],
   "source": [
    "imp.reload(test6)"
   ]
  },
  {
   "cell_type": "code",
   "execution_count": 6,
   "id": "871c5df5",
   "metadata": {},
   "outputs": [],
   "source": [
    "import addition"
   ]
  },
  {
   "cell_type": "code",
   "execution_count": 7,
   "id": "04e8e6f8",
   "metadata": {},
   "outputs": [
    {
     "data": {
      "text/plain": [
       "5"
      ]
     },
     "execution_count": 7,
     "metadata": {},
     "output_type": "execute_result"
    }
   ],
   "source": [
    "addition.addition1(2,3)"
   ]
  },
  {
   "cell_type": "code",
   "execution_count": 21,
   "id": "37c25bb4",
   "metadata": {},
   "outputs": [],
   "source": [
    "import test6"
   ]
  },
  {
   "cell_type": "code",
   "execution_count": 15,
   "id": "a0291287",
   "metadata": {},
   "outputs": [
    {
     "data": {
      "text/plain": [
       "10000000000000000000000000000000000000000000000000000000000000000"
      ]
     },
     "execution_count": 15,
     "metadata": {},
     "output_type": "execute_result"
    }
   ],
   "source": [
    "test5.power(10,test5.power(2,6))"
   ]
  },
  {
   "cell_type": "code",
   "execution_count": 16,
   "id": "f0607d96",
   "metadata": {},
   "outputs": [
    {
     "data": {
      "text/plain": [
       "5"
      ]
     },
     "execution_count": 16,
     "metadata": {},
     "output_type": "execute_result"
    }
   ],
   "source": [
    "test5.addition(2,3)"
   ]
  },
  {
   "cell_type": "code",
   "execution_count": 22,
   "id": "c70f451e",
   "metadata": {},
   "outputs": [
    {
     "data": {
      "text/plain": [
       "'this is my class'"
      ]
     },
     "execution_count": 22,
     "metadata": {},
     "output_type": "execute_result"
    }
   ],
   "source": [
    "test6.msg()"
   ]
  },
  {
   "cell_type": "code",
   "execution_count": 23,
   "id": "0748af76",
   "metadata": {},
   "outputs": [],
   "source": [
    "from test6 import get_course"
   ]
  },
  {
   "cell_type": "code",
   "execution_count": 24,
   "id": "935b34f0",
   "metadata": {},
   "outputs": [
    {
     "data": {
      "text/plain": [
       "['ml', 'dl', 'stats']"
      ]
     },
     "execution_count": 24,
     "metadata": {},
     "output_type": "execute_result"
    }
   ],
   "source": [
    "get_course()"
   ]
  },
  {
   "cell_type": "code",
   "execution_count": 25,
   "id": "1f66170b",
   "metadata": {},
   "outputs": [],
   "source": [
    "import os"
   ]
  },
  {
   "cell_type": "code",
   "execution_count": 26,
   "id": "94eb2450",
   "metadata": {},
   "outputs": [],
   "source": [
    "os.mkdir('test')"
   ]
  },
  {
   "cell_type": "code",
   "execution_count": 28,
   "id": "a26c63cb",
   "metadata": {},
   "outputs": [],
   "source": [
    "os.chdir(os.getcwd()+'\\\\test')"
   ]
  },
  {
   "cell_type": "code",
   "execution_count": 29,
   "id": "d5969ed4",
   "metadata": {},
   "outputs": [],
   "source": [
    "a = 7\n"
   ]
  },
  {
   "cell_type": "code",
   "execution_count": 43,
   "id": "4652e1d5",
   "metadata": {},
   "outputs": [
    {
     "data": {
      "text/plain": [
       "3"
      ]
     },
     "execution_count": 43,
     "metadata": {},
     "output_type": "execute_result"
    }
   ],
   "source": [
    "int(\"11\",2)"
   ]
  },
  {
   "cell_type": "code",
   "execution_count": null,
   "id": "0baa81bf",
   "metadata": {},
   "outputs": [],
   "source": []
  },
  {
   "cell_type": "code",
   "execution_count": null,
   "id": "fdbe6f7c",
   "metadata": {},
   "outputs": [],
   "source": []
  },
  {
   "cell_type": "code",
   "execution_count": 44,
   "id": "30017e02",
   "metadata": {},
   "outputs": [],
   "source": [
    "class car:\n",
    "    pass"
   ]
  },
  {
   "cell_type": "code",
   "execution_count": 47,
   "id": "b0af4178",
   "metadata": {},
   "outputs": [],
   "source": [
    "audi = car()"
   ]
  },
  {
   "cell_type": "code",
   "execution_count": 51,
   "id": "55cd2ddd",
   "metadata": {},
   "outputs": [],
   "source": [
    "audi.milage = 10\n",
    "audi.year = 2017\n",
    "audi.make = \"yuo\"\n",
    "audi.model = \"new\""
   ]
  },
  {
   "cell_type": "code",
   "execution_count": 52,
   "id": "788d317f",
   "metadata": {},
   "outputs": [
    {
     "data": {
      "text/plain": [
       "'yuo'"
      ]
     },
     "execution_count": 52,
     "metadata": {},
     "output_type": "execute_result"
    }
   ],
   "source": [
    "audi.make"
   ]
  },
  {
   "cell_type": "code",
   "execution_count": 53,
   "id": "c65729e4",
   "metadata": {},
   "outputs": [],
   "source": [
    "aud = car()"
   ]
  },
  {
   "cell_type": "code",
   "execution_count": 55,
   "id": "2cd41f3f",
   "metadata": {},
   "outputs": [
    {
     "ename": "AttributeError",
     "evalue": "'car' object has no attribute 'make'",
     "output_type": "error",
     "traceback": [
      "\u001b[1;31m---------------------------------------------------------------------------\u001b[0m",
      "\u001b[1;31mAttributeError\u001b[0m                            Traceback (most recent call last)",
      "\u001b[1;32m~\\AppData\\Local\\Temp/ipykernel_11652/1772271021.py\u001b[0m in \u001b[0;36m<module>\u001b[1;34m\u001b[0m\n\u001b[1;32m----> 1\u001b[1;33m \u001b[0maud\u001b[0m\u001b[1;33m.\u001b[0m\u001b[0mmake\u001b[0m\u001b[1;33m\u001b[0m\u001b[1;33m\u001b[0m\u001b[0m\n\u001b[0m",
      "\u001b[1;31mAttributeError\u001b[0m: 'car' object has no attribute 'make'"
     ]
    }
   ],
   "source": [
    "aud.make"
   ]
  },
  {
   "cell_type": "code",
   "execution_count": 56,
   "id": "9b77810d",
   "metadata": {},
   "outputs": [],
   "source": [
    "import pandas as pd"
   ]
  },
  {
   "cell_type": "code",
   "execution_count": 57,
   "id": "0a6db611",
   "metadata": {},
   "outputs": [],
   "source": [
    "pd.hello = \"yohoo\""
   ]
  },
  {
   "cell_type": "code",
   "execution_count": 58,
   "id": "8d0afb64",
   "metadata": {},
   "outputs": [
    {
     "data": {
      "text/plain": [
       "'yohoo'"
      ]
     },
     "execution_count": 58,
     "metadata": {},
     "output_type": "execute_result"
    }
   ],
   "source": [
    "pd.hello"
   ]
  },
  {
   "cell_type": "code",
   "execution_count": 60,
   "id": "75f61544",
   "metadata": {},
   "outputs": [],
   "source": [
    "class car:\n",
    "    def __init__(self,milage,year,make,model):\n",
    "        self.milage = milage\n",
    "        self.year = year\n",
    "        self.make = make\n",
    "        self.model = model\n",
    "    def show(self):\n",
    "        print(\"milage:\",self.milage)\n",
    "        print(\"year:\",self.year)\n",
    "        print(\"make:\",self.make)\n",
    "        print(\"model:\",self.model)"
   ]
  },
  {
   "cell_type": "code",
   "execution_count": 61,
   "id": "f2f9f786",
   "metadata": {},
   "outputs": [],
   "source": [
    "nano = car(100,1999,1998,\"yo\")"
   ]
  },
  {
   "cell_type": "code",
   "execution_count": 63,
   "id": "2f2daea1",
   "metadata": {},
   "outputs": [
    {
     "name": "stdout",
     "output_type": "stream",
     "text": [
      "milage: 100\n",
      "year: 1999\n",
      "make: 1998\n",
      "model: yo\n"
     ]
    }
   ],
   "source": [
    "nano.show()"
   ]
  },
  {
   "cell_type": "code",
   "execution_count": 67,
   "id": "1ab77af6",
   "metadata": {},
   "outputs": [],
   "source": [
    "class car:\n",
    "    def __init__(milage,year,make,model):\n",
    "        milage.year = year\n",
    "        milage.make = make\n",
    "        milage.model = model"
   ]
  },
  {
   "cell_type": "code",
   "execution_count": 68,
   "id": "30e2a8ef",
   "metadata": {},
   "outputs": [],
   "source": [
    "nano1 = car(10,10,10)"
   ]
  },
  {
   "cell_type": "code",
   "execution_count": 75,
   "id": "f698ca4b",
   "metadata": {},
   "outputs": [],
   "source": [
    "class car:\n",
    "    \"\"\"Yohoo\"\"\"\n",
    "    def __init__(self,milage,year,make,model):\n",
    "        \"\"\"Hello\"\"\"\n",
    "        self.milage = milage\n",
    "        self.year = year\n",
    "        self.make = make\n",
    "        self.model = model\n",
    "    def age(self,current_year=2021):\n",
    "        return current_year - self.year"
   ]
  },
  {
   "cell_type": "code",
   "execution_count": 72,
   "id": "9ce7a41a",
   "metadata": {},
   "outputs": [],
   "source": [
    "nano = car(100,1999,1998,\"yo\")"
   ]
  },
  {
   "cell_type": "code",
   "execution_count": 73,
   "id": "16562e0d",
   "metadata": {},
   "outputs": [
    {
     "data": {
      "text/plain": [
       "22"
      ]
     },
     "execution_count": 73,
     "metadata": {},
     "output_type": "execute_result"
    }
   ],
   "source": [
    "nano.age()"
   ]
  },
  {
   "cell_type": "code",
   "execution_count": 76,
   "id": "6202dac7",
   "metadata": {},
   "outputs": [
    {
     "data": {
      "text/plain": [
       "<__main__.car at 0x2771f951370>"
      ]
     },
     "execution_count": 76,
     "metadata": {},
     "output_type": "execute_result"
    }
   ],
   "source": [
    "nano"
   ]
  },
  {
   "cell_type": "code",
   "execution_count": null,
   "id": "3367a13b",
   "metadata": {},
   "outputs": [],
   "source": []
  },
  {
   "cell_type": "code",
   "execution_count": null,
   "id": "8a13f01b",
   "metadata": {},
   "outputs": [],
   "source": []
  },
  {
   "cell_type": "code",
   "execution_count": 81,
   "id": "9dcfc2f8",
   "metadata": {},
   "outputs": [],
   "source": [
    "class car:\n",
    "    def __init__(self,milage,year,make,model):\n",
    "        self.milage = milage\n",
    "        self.year = year\n",
    "        self.make = make\n",
    "        self.model = model\n",
    "    def age(self,current_year=2021):\n",
    "        return current_year - self.year\n",
    "    def __str__(self): ##to print objects\n",
    "        return \"This is my car class\""
   ]
  },
  {
   "cell_type": "code",
   "execution_count": 82,
   "id": "0554902a",
   "metadata": {},
   "outputs": [],
   "source": [
    "nano2 = car(100,1999,1998,\"yo\")"
   ]
  },
  {
   "cell_type": "code",
   "execution_count": 83,
   "id": "47223071",
   "metadata": {},
   "outputs": [
    {
     "name": "stdout",
     "output_type": "stream",
     "text": [
      "This is my car class\n"
     ]
    }
   ],
   "source": [
    "print(nano2)"
   ]
  },
  {
   "cell_type": "code",
   "execution_count": 84,
   "id": "efb0bf3c",
   "metadata": {},
   "outputs": [],
   "source": [
    "import numpy as np"
   ]
  },
  {
   "cell_type": "code",
   "execution_count": 87,
   "id": "53c428f8",
   "metadata": {},
   "outputs": [
    {
     "data": {
      "text/plain": [
       "<module 'numpy' from 'C:\\\\ProgramData\\\\Anaconda3\\\\lib\\\\site-packages\\\\numpy\\\\__init__.py'>"
      ]
     },
     "execution_count": 87,
     "metadata": {},
     "output_type": "execute_result"
    }
   ],
   "source": [
    "np"
   ]
  },
  {
   "cell_type": "code",
   "execution_count": 89,
   "id": "275c6731",
   "metadata": {},
   "outputs": [
    {
     "data": {
      "text/plain": [
       "'This is my car class'"
      ]
     },
     "execution_count": 89,
     "metadata": {},
     "output_type": "execute_result"
    }
   ],
   "source": [
    "nano2.__str__()"
   ]
  },
  {
   "cell_type": "code",
   "execution_count": 101,
   "id": "90fc142b",
   "metadata": {},
   "outputs": [],
   "source": [
    "class student:\n",
    "    \n",
    "    def __init__(self, name, rollno, joining_date, current_topic):\n",
    "        self.name = name\n",
    "        self.rollno = rollno\n",
    "        self.joining_date = joining_date\n",
    "        self.current_topic = current_topic\n",
    "    \n",
    "    def name_parsing(self):\n",
    "        if type(self.name) == list:\n",
    "            for i in self.name:\n",
    "                print(i)\n",
    "        else:\n",
    "            print(\"not in list\")\n",
    "        \n",
    "    def crt_topic(self):\n",
    "        print(\"current topic discussed in my class is \",self.current_topic)\n",
    "    \n",
    "    def str_roollno(self):\n",
    "        try:\n",
    "            if type(self.rollno) == str:\n",
    "                print(\"do nothing\")\n",
    "            else:\n",
    "                return str(self.rollno)\n",
    "        except Exception as e:\n",
    "            print(e)\n",
    "    \n",
    "    def duration(self,c_date):\n",
    "        print(\"duration\",c_date-self.joining_date)\n",
    "        \n",
    "    def __str__(self):\n",
    "        return \"this a studnt class where they can try to input there data and they can try to fetch it\""
   ]
  },
  {
   "cell_type": "code",
   "execution_count": 102,
   "id": "dece6f09",
   "metadata": {},
   "outputs": [],
   "source": [
    "s1 = student(\"mohan\",25,2001,\"data science\")"
   ]
  },
  {
   "cell_type": "code",
   "execution_count": 103,
   "id": "bdaa3b13",
   "metadata": {},
   "outputs": [
    {
     "name": "stdout",
     "output_type": "stream",
     "text": [
      "current topic discussed in my class is  data science\n"
     ]
    }
   ],
   "source": [
    "s1.crt_topic()"
   ]
  },
  {
   "cell_type": "code",
   "execution_count": 104,
   "id": "b36946e3",
   "metadata": {},
   "outputs": [
    {
     "data": {
      "text/plain": [
       "'25'"
      ]
     },
     "execution_count": 104,
     "metadata": {},
     "output_type": "execute_result"
    }
   ],
   "source": [
    "s1.str_roollno()"
   ]
  },
  {
   "cell_type": "code",
   "execution_count": 105,
   "id": "cd947f18",
   "metadata": {},
   "outputs": [
    {
     "name": "stdout",
     "output_type": "stream",
     "text": [
      "duration 20\n"
     ]
    }
   ],
   "source": [
    "s1.duration(2021)"
   ]
  },
  {
   "cell_type": "code",
   "execution_count": 106,
   "id": "41280fcd",
   "metadata": {},
   "outputs": [
    {
     "name": "stdout",
     "output_type": "stream",
     "text": [
      "this a studnt class where they can try to input there data and they can try to fetch it\n"
     ]
    }
   ],
   "source": [
    "print(s1)"
   ]
  },
  {
   "cell_type": "code",
   "execution_count": 107,
   "id": "1fe6abd5",
   "metadata": {},
   "outputs": [],
   "source": [
    "s1 = student([\"mohan\",\"jay\"],[25,87],[2001,2002],\"data science\")"
   ]
  },
  {
   "cell_type": "code",
   "execution_count": 108,
   "id": "f524f273",
   "metadata": {},
   "outputs": [
    {
     "name": "stdout",
     "output_type": "stream",
     "text": [
      "mohan\n",
      "jay\n"
     ]
    }
   ],
   "source": [
    "s1.name_parsing()"
   ]
  },
  {
   "cell_type": "code",
   "execution_count": 110,
   "id": "689188b3",
   "metadata": {},
   "outputs": [],
   "source": [
    "from sClass import student as st"
   ]
  },
  {
   "cell_type": "code",
   "execution_count": 111,
   "id": "11baa0b9",
   "metadata": {},
   "outputs": [],
   "source": [
    "mina = st(\"mina\",25,2021,\"data\")"
   ]
  },
  {
   "cell_type": "code",
   "execution_count": 112,
   "id": "8639e809",
   "metadata": {},
   "outputs": [
    {
     "name": "stdout",
     "output_type": "stream",
     "text": [
      "current topic discussed in my class is  data\n"
     ]
    }
   ],
   "source": [
    "mina.crt_topic()"
   ]
  },
  {
   "cell_type": "code",
   "execution_count": null,
   "id": "1fb62b98",
   "metadata": {},
   "outputs": [],
   "source": []
  },
  {
   "cell_type": "code",
   "execution_count": 4,
   "id": "cdb4b6f4",
   "metadata": {},
   "outputs": [],
   "source": []
  },
  {
   "cell_type": "code",
   "execution_count": 1,
   "id": "e6b729fb",
   "metadata": {},
   "outputs": [],
   "source": [
    "import logging as lg\n",
    "class data:\n",
    "    \n",
    "    def __init__(self,file_name,file_type,date,size):\n",
    "        self.file_name = file_name\n",
    "        self.file_type = file_type\n",
    "        self.date = date\n",
    "        self.size = size\n",
    "        lg.basicConfig(filename = 'test_log.log', level = lg.DEBUG, format = '%(asctime)s %(name)s %(levelname)s %(message)s')\n",
    "        self.logger = lg.getLogger(self.file_name)\n",
    "    \n",
    "    def __str__(self):\n",
    "        return \"Create files\"\n",
    "    \n",
    "    def logIt(self,d):\n",
    "        self.logger.error(d)\n",
    "    \n",
    "    def file_open(self):\n",
    "        \"\"\"Create file if not exists and write something in a file\"\"\"\n",
    "        try:\n",
    "            self.f = open(self.file_name+\".\"+self.file_type,\"w+\")\n",
    "            self.f.write(\"writing something here\")\n",
    "            self.f.close()\n",
    "        except Exception as e:\n",
    "            self.logIt(e)\n",
    "    \n",
    "    def file_read(self):\n",
    "        \"\"\"Read the file and return\"\"\"\n",
    "        try:\n",
    "            self.f = open(self.file_name+\".\"+self.file_type,\"r\")\n",
    "            r = self.f.read()\n",
    "            self.f.close()\n",
    "            return r\n",
    "        except Exception as e:\n",
    "            self.logIt(e)\n",
    "    \n",
    "    def file_append(self):\n",
    "        \"\"\"Append new data in same file and so\"\"\"\n",
    "        try:\n",
    "            self.f = open(self.file_name+\".\"+self.file_type,\"a\")\n",
    "            self.f.write(\"appending something\")\n",
    "        except Exception as e:\n",
    "            self.logIt(e)\n"
   ]
  },
  {
   "cell_type": "code",
   "execution_count": 2,
   "id": "9563a356",
   "metadata": {},
   "outputs": [],
   "source": [
    "d1 = data(\"new_file\",\"txt\",2021,200)"
   ]
  },
  {
   "cell_type": "code",
   "execution_count": 3,
   "id": "48f043ad",
   "metadata": {},
   "outputs": [],
   "source": [
    "d1.file_open()"
   ]
  },
  {
   "cell_type": "code",
   "execution_count": 4,
   "id": "d583beb7",
   "metadata": {},
   "outputs": [
    {
     "data": {
      "text/plain": [
       "'C:\\\\Users\\\\Shashwat\\\\Desktop\\\\Ineuron\\\\Practice'"
      ]
     },
     "execution_count": 4,
     "metadata": {},
     "output_type": "execute_result"
    }
   ],
   "source": [
    "pwd()"
   ]
  },
  {
   "cell_type": "code",
   "execution_count": 5,
   "id": "1507334d",
   "metadata": {},
   "outputs": [
    {
     "data": {
      "text/plain": [
       "'writing something here'"
      ]
     },
     "execution_count": 5,
     "metadata": {},
     "output_type": "execute_result"
    }
   ],
   "source": [
    "d1.file_read()"
   ]
  },
  {
   "cell_type": "code",
   "execution_count": 6,
   "id": "d921e0ee",
   "metadata": {},
   "outputs": [],
   "source": [
    "d1.file_append()"
   ]
  },
  {
   "cell_type": "code",
   "execution_count": 7,
   "id": "d2c0fd87",
   "metadata": {},
   "outputs": [
    {
     "data": {
      "text/plain": [
       "'writing something hereappending something'"
      ]
     },
     "execution_count": 7,
     "metadata": {},
     "output_type": "execute_result"
    }
   ],
   "source": [
    "d1.file_read()"
   ]
  },
  {
   "cell_type": "code",
   "execution_count": 8,
   "id": "7d1a8daf",
   "metadata": {},
   "outputs": [],
   "source": [
    "d2 = data(\"new_file_2\",\"txt\",2021,200)"
   ]
  },
  {
   "cell_type": "code",
   "execution_count": 9,
   "id": "1b8de8e7",
   "metadata": {},
   "outputs": [],
   "source": [
    "d2.file_read()"
   ]
  },
  {
   "cell_type": "code",
   "execution_count": null,
   "id": "05f36bc1",
   "metadata": {},
   "outputs": [],
   "source": []
  },
  {
   "cell_type": "code",
   "execution_count": null,
   "id": "810cf270",
   "metadata": {},
   "outputs": [],
   "source": []
  },
  {
   "cell_type": "markdown",
   "id": "abbb3684",
   "metadata": {},
   "source": [
    "# Abstraction"
   ]
  },
  {
   "cell_type": "code",
   "execution_count": 21,
   "id": "6f526271",
   "metadata": {},
   "outputs": [],
   "source": [
    "class test:\n",
    "    def __init__(self,a,b,c,d):\n",
    "        self.__a=a\n",
    "        self.b=b\n",
    "        self.c=c\n",
    "        self.d=d\n",
    "    def test_custome(self,v):\n",
    "        return v - self.__a\n",
    "    \n",
    "    def __str__(self):\n",
    "        return \"this is my test code for abstraction\""
   ]
  },
  {
   "cell_type": "code",
   "execution_count": 22,
   "id": "7001a05c",
   "metadata": {},
   "outputs": [],
   "source": [
    "o = test(1,2,3,4)"
   ]
  },
  {
   "cell_type": "code",
   "execution_count": 23,
   "id": "25e26abd",
   "metadata": {},
   "outputs": [
    {
     "data": {
      "text/plain": [
       "6"
      ]
     },
     "execution_count": 23,
     "metadata": {},
     "output_type": "execute_result"
    }
   ],
   "source": [
    "o.test_custome(7)"
   ]
  },
  {
   "cell_type": "code",
   "execution_count": 24,
   "id": "bec3e996",
   "metadata": {},
   "outputs": [
    {
     "ename": "AttributeError",
     "evalue": "'test' object has no attribute '__a'",
     "output_type": "error",
     "traceback": [
      "\u001b[1;31m---------------------------------------------------------------------------\u001b[0m",
      "\u001b[1;31mAttributeError\u001b[0m                            Traceback (most recent call last)",
      "\u001b[1;32m~\\AppData\\Local\\Temp/ipykernel_13136/924825990.py\u001b[0m in \u001b[0;36m<module>\u001b[1;34m\u001b[0m\n\u001b[1;32m----> 1\u001b[1;33m \u001b[0mo\u001b[0m\u001b[1;33m.\u001b[0m\u001b[0m__a\u001b[0m\u001b[1;33m\u001b[0m\u001b[1;33m\u001b[0m\u001b[0m\n\u001b[0m",
      "\u001b[1;31mAttributeError\u001b[0m: 'test' object has no attribute '__a'"
     ]
    }
   ],
   "source": [
    "o.__a"
   ]
  },
  {
   "cell_type": "code",
   "execution_count": 26,
   "id": "31e80984",
   "metadata": {},
   "outputs": [
    {
     "data": {
      "text/plain": [
       "1"
      ]
     },
     "execution_count": 26,
     "metadata": {},
     "output_type": "execute_result"
    }
   ],
   "source": [
    "o._test__a"
   ]
  },
  {
   "cell_type": "markdown",
   "id": "6e010208",
   "metadata": {},
   "source": [
    "# Inheritance"
   ]
  },
  {
   "cell_type": "code",
   "execution_count": 64,
   "id": "c5008833",
   "metadata": {},
   "outputs": [],
   "source": [
    "class test1(test):\n",
    "    def __init__(self,j,*args):\n",
    "        super(test1,self).__init__(*args) #super of test1 class \n",
    "        self.j = j\n",
    "    \n",
    "    def show_a(self):\n",
    "        print(self.__a)\n",
    "    def show_b(self):\n",
    "        print(self.b)"
   ]
  },
  {
   "cell_type": "code",
   "execution_count": 65,
   "id": "a1c25c2b",
   "metadata": {},
   "outputs": [],
   "source": [
    "tr = test1(1,2,3,4,5)"
   ]
  },
  {
   "cell_type": "code",
   "execution_count": 66,
   "id": "3ce43d96",
   "metadata": {},
   "outputs": [
    {
     "ename": "AttributeError",
     "evalue": "'test1' object has no attribute '_test1__a'",
     "output_type": "error",
     "traceback": [
      "\u001b[1;31m---------------------------------------------------------------------------\u001b[0m",
      "\u001b[1;31mAttributeError\u001b[0m                            Traceback (most recent call last)",
      "\u001b[1;32m~\\AppData\\Local\\Temp/ipykernel_13136/3763649292.py\u001b[0m in \u001b[0;36m<module>\u001b[1;34m\u001b[0m\n\u001b[1;32m----> 1\u001b[1;33m \u001b[0mtr\u001b[0m\u001b[1;33m.\u001b[0m\u001b[0mshow_a\u001b[0m\u001b[1;33m(\u001b[0m\u001b[1;33m)\u001b[0m\u001b[1;33m\u001b[0m\u001b[1;33m\u001b[0m\u001b[0m\n\u001b[0m",
      "\u001b[1;32m~\\AppData\\Local\\Temp/ipykernel_13136/980934291.py\u001b[0m in \u001b[0;36mshow_a\u001b[1;34m(self)\u001b[0m\n\u001b[0;32m      5\u001b[0m \u001b[1;33m\u001b[0m\u001b[0m\n\u001b[0;32m      6\u001b[0m     \u001b[1;32mdef\u001b[0m \u001b[0mshow_a\u001b[0m\u001b[1;33m(\u001b[0m\u001b[0mself\u001b[0m\u001b[1;33m)\u001b[0m\u001b[1;33m:\u001b[0m\u001b[1;33m\u001b[0m\u001b[1;33m\u001b[0m\u001b[0m\n\u001b[1;32m----> 7\u001b[1;33m         \u001b[0mprint\u001b[0m\u001b[1;33m(\u001b[0m\u001b[0mself\u001b[0m\u001b[1;33m.\u001b[0m\u001b[0m__a\u001b[0m\u001b[1;33m)\u001b[0m\u001b[1;33m\u001b[0m\u001b[1;33m\u001b[0m\u001b[0m\n\u001b[0m\u001b[0;32m      8\u001b[0m     \u001b[1;32mdef\u001b[0m \u001b[0mshow_b\u001b[0m\u001b[1;33m(\u001b[0m\u001b[0mself\u001b[0m\u001b[1;33m)\u001b[0m\u001b[1;33m:\u001b[0m\u001b[1;33m\u001b[0m\u001b[1;33m\u001b[0m\u001b[0m\n\u001b[0;32m      9\u001b[0m         \u001b[0mprint\u001b[0m\u001b[1;33m(\u001b[0m\u001b[0mself\u001b[0m\u001b[1;33m.\u001b[0m\u001b[0mb\u001b[0m\u001b[1;33m)\u001b[0m\u001b[1;33m\u001b[0m\u001b[1;33m\u001b[0m\u001b[0m\n",
      "\u001b[1;31mAttributeError\u001b[0m: 'test1' object has no attribute '_test1__a'"
     ]
    }
   ],
   "source": [
    "tr.show_a()"
   ]
  },
  {
   "cell_type": "code",
   "execution_count": 67,
   "id": "72ca52e2",
   "metadata": {},
   "outputs": [
    {
     "name": "stdout",
     "output_type": "stream",
     "text": [
      "3\n"
     ]
    }
   ],
   "source": [
    "tr.show_b()"
   ]
  },
  {
   "cell_type": "code",
   "execution_count": 70,
   "id": "8996022a",
   "metadata": {},
   "outputs": [],
   "source": [
    "class test1(test,data):\n",
    "    def __init__(self,j,*args):\n",
    "        super().__init__(*args) #super of test1 class \n",
    "        self.j = j\n",
    "    \n",
    "    def show_a(self):\n",
    "        print(self.__a)\n",
    "    def show_b(self):\n",
    "        print(self.b)"
   ]
  },
  {
   "cell_type": "code",
   "execution_count": 71,
   "id": "546ab475",
   "metadata": {},
   "outputs": [
    {
     "name": "stdout",
     "output_type": "stream",
     "text": [
      "3\n"
     ]
    }
   ],
   "source": [
    "tr = test1(1,2,3,4,5)\n",
    "tr.show_b()"
   ]
  },
  {
   "cell_type": "code",
   "execution_count": null,
   "id": "eb2a4d70",
   "metadata": {},
   "outputs": [],
   "source": []
  },
  {
   "cell_type": "code",
   "execution_count": null,
   "id": "4332988e",
   "metadata": {},
   "outputs": [],
   "source": []
  },
  {
   "cell_type": "code",
   "execution_count": 108,
   "id": "9d0aa3e2",
   "metadata": {},
   "outputs": [],
   "source": [
    "class Test():\n",
    "    def __init__(self,a):\n",
    "        self.a = a\n",
    "    def A(self):\n",
    "        print(\"this is Test\")\n",
    "class Test1():\n",
    "    def __init__(self,a,b):\n",
    "        self.a=a\n",
    "        self.b=b\n",
    "    def Add(self):\n",
    "        return a+b\n",
    "\n",
    "class Test3():\n",
    "    def __init__(self,a,b):\n",
    "        self.a=a\n",
    "        self.b=b\n",
    "    def A(self):\n",
    "        print(\"this is Test3\")\n",
    "        \n",
    "class Test2(Test,Test1): #gives priority to first class\n",
    "    def __init__(self,a,b):\n",
    "        super(Test2,self).__init__(a,b)\n",
    "    "
   ]
  },
  {
   "cell_type": "code",
   "execution_count": 109,
   "id": "0c818941",
   "metadata": {},
   "outputs": [
    {
     "ename": "TypeError",
     "evalue": "__init__() takes 2 positional arguments but 3 were given",
     "output_type": "error",
     "traceback": [
      "\u001b[1;31m---------------------------------------------------------------------------\u001b[0m",
      "\u001b[1;31mTypeError\u001b[0m                                 Traceback (most recent call last)",
      "\u001b[1;32m~\\AppData\\Local\\Temp/ipykernel_13136/1574940531.py\u001b[0m in \u001b[0;36m<module>\u001b[1;34m\u001b[0m\n\u001b[1;32m----> 1\u001b[1;33m \u001b[0my\u001b[0m \u001b[1;33m=\u001b[0m \u001b[0mTest2\u001b[0m\u001b[1;33m(\u001b[0m\u001b[1;36m1\u001b[0m\u001b[1;33m,\u001b[0m\u001b[1;36m2\u001b[0m\u001b[1;33m)\u001b[0m\u001b[1;33m\u001b[0m\u001b[1;33m\u001b[0m\u001b[0m\n\u001b[0m",
      "\u001b[1;32m~\\AppData\\Local\\Temp/ipykernel_13136/121998071.py\u001b[0m in \u001b[0;36m__init__\u001b[1;34m(self, a, b)\u001b[0m\n\u001b[0;32m     20\u001b[0m \u001b[1;32mclass\u001b[0m \u001b[0mTest2\u001b[0m\u001b[1;33m(\u001b[0m\u001b[0mTest\u001b[0m\u001b[1;33m,\u001b[0m\u001b[0mTest1\u001b[0m\u001b[1;33m)\u001b[0m\u001b[1;33m:\u001b[0m \u001b[1;31m#gives priority to first class\u001b[0m\u001b[1;33m\u001b[0m\u001b[1;33m\u001b[0m\u001b[0m\n\u001b[0;32m     21\u001b[0m     \u001b[1;32mdef\u001b[0m \u001b[0m__init__\u001b[0m\u001b[1;33m(\u001b[0m\u001b[0mself\u001b[0m\u001b[1;33m,\u001b[0m\u001b[0ma\u001b[0m\u001b[1;33m,\u001b[0m\u001b[0mb\u001b[0m\u001b[1;33m)\u001b[0m\u001b[1;33m:\u001b[0m\u001b[1;33m\u001b[0m\u001b[1;33m\u001b[0m\u001b[0m\n\u001b[1;32m---> 22\u001b[1;33m         \u001b[0msuper\u001b[0m\u001b[1;33m(\u001b[0m\u001b[0mTest2\u001b[0m\u001b[1;33m,\u001b[0m\u001b[0mself\u001b[0m\u001b[1;33m)\u001b[0m\u001b[1;33m.\u001b[0m\u001b[0m__init__\u001b[0m\u001b[1;33m(\u001b[0m\u001b[0ma\u001b[0m\u001b[1;33m,\u001b[0m\u001b[0mb\u001b[0m\u001b[1;33m)\u001b[0m\u001b[1;33m\u001b[0m\u001b[1;33m\u001b[0m\u001b[0m\n\u001b[0m\u001b[0;32m     23\u001b[0m \u001b[1;33m\u001b[0m\u001b[0m\n",
      "\u001b[1;31mTypeError\u001b[0m: __init__() takes 2 positional arguments but 3 were given"
     ]
    }
   ],
   "source": [
    "y = Test2(1,2)"
   ]
  },
  {
   "cell_type": "code",
   "execution_count": 105,
   "id": "c532279b",
   "metadata": {},
   "outputs": [
    {
     "name": "stdout",
     "output_type": "stream",
     "text": [
      "this is Test\n",
      "this is Test1\n",
      "this is Test3\n"
     ]
    }
   ],
   "source": [
    "y.A()"
   ]
  },
  {
   "cell_type": "code",
   "execution_count": null,
   "id": "1476cbd8",
   "metadata": {},
   "outputs": [],
   "source": []
  },
  {
   "cell_type": "code",
   "execution_count": null,
   "id": "853b60db",
   "metadata": {},
   "outputs": [],
   "source": []
  },
  {
   "cell_type": "markdown",
   "id": "d5cf2e7d",
   "metadata": {},
   "source": [
    "# Encapsulation"
   ]
  },
  {
   "cell_type": "code",
   "execution_count": 122,
   "id": "80fc547c",
   "metadata": {},
   "outputs": [],
   "source": [
    "class test:\n",
    "    def __init__(self,a,b,c):\n",
    "        self.a = a\n",
    "        self.b = b\n",
    "        self.c = c\n",
    "        \n",
    "    def __str__(self):\n",
    "        return \"thsi is return from test\"\n",
    "    \n",
    "class test1:\n",
    "    def __init__(self,a,b,c):\n",
    "        self.a = a\n",
    "        self.b = b\n",
    "        self.c = c\n",
    "        \n",
    "    def __str__(self):\n",
    "        return \"thsi is return from test1\"\n",
    "    \n",
    "class test2:\n",
    "    def __init__(self,a,b,c):\n",
    "        self.a = a\n",
    "        self.b = b\n",
    "        self.c = c\n",
    "        \n",
    "    def __str__(self):\n",
    "        return \"thsi is return from test2\"\n",
    "    \n",
    "class final:\n",
    "    def __init__(self,test,test1,test2):\n",
    "        self.test = test\n",
    "        self.test1 = test1\n",
    "        self.test2 = test2\n",
    "        \n",
    "    def __str__(self):\n",
    "        return \"thsi is final class \\n\"+str(self.test.a)+\" \\n\"+str(self.test1)+\" \\n\"+str(self.test1)"
   ]
  },
  {
   "cell_type": "code",
   "execution_count": 123,
   "id": "7134ec33",
   "metadata": {},
   "outputs": [],
   "source": [
    "t = test(4,5,6)\n",
    "t1 = test1(3,4,5)\n",
    "t2 = test2(5,6,7)\n",
    "\n",
    "f = final(t,t1,t2)"
   ]
  },
  {
   "cell_type": "code",
   "execution_count": 124,
   "id": "b51c49ad",
   "metadata": {},
   "outputs": [
    {
     "name": "stdout",
     "output_type": "stream",
     "text": [
      "thsi is final class \n",
      "4 \n",
      "thsi is return from test1 \n",
      "thsi is return from test1\n"
     ]
    }
   ],
   "source": [
    "print(f)"
   ]
  },
  {
   "cell_type": "code",
   "execution_count": null,
   "id": "e8d2d47b",
   "metadata": {},
   "outputs": [],
   "source": []
  },
  {
   "cell_type": "code",
   "execution_count": 4,
   "id": "e2fdbe05",
   "metadata": {},
   "outputs": [],
   "source": [
    "class parent:\n",
    "    a = 10\n",
    "    b = 20\n",
    "    \n",
    "    def __init__(self,parent_a,parent_b):\n",
    "        self.parent_a = parent_a\n",
    "        self.parent_b = parent_b\n",
    "\n",
    "class child(parent):\n",
    "    def __init__(self,*args):\n",
    "        super().__init__(*args)\n",
    "        \n",
    "    def print_it(self):\n",
    "        print(self.parent_a,self.parent_b)"
   ]
  },
  {
   "cell_type": "code",
   "execution_count": 5,
   "id": "d20d535c",
   "metadata": {},
   "outputs": [],
   "source": [
    "c = child(11,12)"
   ]
  },
  {
   "cell_type": "code",
   "execution_count": 10,
   "id": "fec65eb4",
   "metadata": {},
   "outputs": [
    {
     "name": "stdout",
     "output_type": "stream",
     "text": [
      "11 12\n"
     ]
    }
   ],
   "source": [
    "c.print_it()"
   ]
  },
  {
   "cell_type": "code",
   "execution_count": 9,
   "id": "851cf56a",
   "metadata": {},
   "outputs": [],
   "source": [
    "p = parent(13,14)"
   ]
  },
  {
   "cell_type": "markdown",
   "id": "f15fbe51",
   "metadata": {},
   "source": [
    "# Polymorphism"
   ]
  },
  {
   "cell_type": "markdown",
   "id": "a100b52b",
   "metadata": {},
   "source": [
    "# Overriding *\n",
    "Operator Overloading"
   ]
  },
  {
   "cell_type": "code",
   "execution_count": 26,
   "id": "89806a55",
   "metadata": {},
   "outputs": [],
   "source": [
    "class multiplynumeric():\n",
    "    def __init__(self,a):\n",
    "        self.a = a\n",
    "        \n",
    "    def __mul__(self,other):\n",
    "        return self.a * other.a**2 + 5\n",
    "    "
   ]
  },
  {
   "cell_type": "code",
   "execution_count": 27,
   "id": "2161691c",
   "metadata": {},
   "outputs": [],
   "source": [
    "mul = multiplynumeric(9)\n",
    "mul1 = multiplynumeric(10)"
   ]
  },
  {
   "cell_type": "code",
   "execution_count": 28,
   "id": "be84c794",
   "metadata": {},
   "outputs": [
    {
     "data": {
      "text/plain": [
       "90"
      ]
     },
     "execution_count": 28,
     "metadata": {},
     "output_type": "execute_result"
    }
   ],
   "source": [
    "mul.a * mul1.a"
   ]
  },
  {
   "cell_type": "code",
   "execution_count": 29,
   "id": "0c7a8a0a",
   "metadata": {},
   "outputs": [
    {
     "data": {
      "text/plain": [
       "905"
      ]
     },
     "execution_count": 29,
     "metadata": {},
     "output_type": "execute_result"
    }
   ],
   "source": [
    "mul*mul1"
   ]
  },
  {
   "cell_type": "code",
   "execution_count": 34,
   "id": "34e07692",
   "metadata": {},
   "outputs": [],
   "source": [
    "def test(a,b):\n",
    "    return a+b"
   ]
  },
  {
   "cell_type": "code",
   "execution_count": 35,
   "id": "767948a9",
   "metadata": {},
   "outputs": [
    {
     "name": "stdout",
     "output_type": "stream",
     "text": [
      "11\n",
      "sudh kumar\n",
      "[3, 2, 4, 5, 1, 2, 1, 4, 5]\n"
     ]
    }
   ],
   "source": [
    "print(test(5,6))\n",
    "print(test(\"sudh \",\"kumar\"))\n",
    "print(test([3,2,4,5,1],[2,1,4,5]))"
   ]
  },
  {
   "cell_type": "code",
   "execution_count": 37,
   "id": "56d4b705",
   "metadata": {},
   "outputs": [],
   "source": [
    "class ineuron():\n",
    "    def msg(self):\n",
    "        return \"hello\"\n",
    "        \n",
    "class xyz():\n",
    "    def msg(self,z):\n",
    "        print(z.msg())"
   ]
  },
  {
   "cell_type": "code",
   "execution_count": 38,
   "id": "8b8d3511",
   "metadata": {},
   "outputs": [],
   "source": [
    "k = xyz()"
   ]
  },
  {
   "cell_type": "code",
   "execution_count": 40,
   "id": "5870c63f",
   "metadata": {},
   "outputs": [
    {
     "name": "stdout",
     "output_type": "stream",
     "text": [
      "hello\n"
     ]
    }
   ],
   "source": [
    "k.msg(ineuron())"
   ]
  },
  {
   "cell_type": "code",
   "execution_count": null,
   "id": "e26875fa",
   "metadata": {},
   "outputs": [],
   "source": []
  }
 ],
 "metadata": {
  "kernelspec": {
   "display_name": "Python 3 (ipykernel)",
   "language": "python",
   "name": "python3"
  },
  "language_info": {
   "codemirror_mode": {
    "name": "ipython",
    "version": 3
   },
   "file_extension": ".py",
   "mimetype": "text/x-python",
   "name": "python",
   "nbconvert_exporter": "python",
   "pygments_lexer": "ipython3",
   "version": "3.9.7"
  }
 },
 "nbformat": 4,
 "nbformat_minor": 5
}
