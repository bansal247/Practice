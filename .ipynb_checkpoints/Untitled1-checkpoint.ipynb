{
 "cells": [
  {
   "cell_type": "code",
   "execution_count": 16,
   "id": "fa25e7bf",
   "metadata": {},
   "outputs": [
    {
     "name": "stdout",
     "output_type": "stream",
     "text": [
      "60\n"
     ]
    }
   ],
   "source": [
    "import requests\n",
    "\n",
    "reponse = requests.post('http://127.0.0.1:5000/sudh',json = data)\n",
    "\n",
    "print(reponse.json())"
   ]
  },
  {
   "cell_type": "code",
   "execution_count": 4,
   "id": "c94a2d04",
   "metadata": {},
   "outputs": [],
   "source": [
    "import json\n",
    "\n",
    "data = {\n",
    "    \"num1\":4,\n",
    "    \"num2\":51,\n",
    "    \"num0\":5\n",
    "    \n",
    "}"
   ]
  },
  {
   "cell_type": "code",
   "execution_count": 5,
   "id": "227d83e9",
   "metadata": {},
   "outputs": [],
   "source": [
    "json_object = json.dumps(data, indent = 1)"
   ]
  },
  {
   "cell_type": "code",
   "execution_count": 6,
   "id": "ce7f32c9",
   "metadata": {},
   "outputs": [
    {
     "data": {
      "text/plain": [
       "'{\\n \"num1\": 4,\\n \"num2\": 51,\\n \"num0\": 5\\n}'"
      ]
     },
     "execution_count": 6,
     "metadata": {},
     "output_type": "execute_result"
    }
   ],
   "source": [
    "json_object"
   ]
  },
  {
   "cell_type": "code",
   "execution_count": 25,
   "id": "458e3b1e",
   "metadata": {},
   "outputs": [
    {
     "name": "stdout",
     "output_type": "stream",
     "text": [
      "<h1>val is 34</h1>\n"
     ]
    }
   ],
   "source": [
    "\n",
    "reponse = requests.get('http://127.0.0.1:5000/sudh_func',params = {'val1':3,'val2':4})\n",
    "\n",
    "print(reponse.text)"
   ]
  },
  {
   "cell_type": "code",
   "execution_count": null,
   "id": "7fa47b62",
   "metadata": {},
   "outputs": [],
   "source": []
  }
 ],
 "metadata": {
  "kernelspec": {
   "display_name": "Python 3 (ipykernel)",
   "language": "python",
   "name": "python3"
  },
  "language_info": {
   "codemirror_mode": {
    "name": "ipython",
    "version": 3
   },
   "file_extension": ".py",
   "mimetype": "text/x-python",
   "name": "python",
   "nbconvert_exporter": "python",
   "pygments_lexer": "ipython3",
   "version": "3.9.7"
  }
 },
 "nbformat": 4,
 "nbformat_minor": 5
}
