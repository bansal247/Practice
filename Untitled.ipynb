{
 "cells": [
  {
   "cell_type": "code",
   "execution_count": 1,
   "id": "39c2767d",
   "metadata": {},
   "outputs": [],
   "source": [
    "import numpy as np\n",
    "import pandas as pd\n",
    "import matplotlib.pyplot as plt"
   ]
  },
  {
   "cell_type": "code",
   "execution_count": 2,
   "id": "5636ea67",
   "metadata": {},
   "outputs": [
    {
     "data": {
      "text/plain": [
       "1725"
      ]
     },
     "execution_count": 2,
     "metadata": {},
     "output_type": "execute_result"
    }
   ],
   "source": [
    "575*3"
   ]
  },
  {
   "cell_type": "code",
   "execution_count": 3,
   "id": "dc4b99d8",
   "metadata": {},
   "outputs": [
    {
     "data": {
      "text/plain": [
       "287.5"
      ]
     },
     "execution_count": 3,
     "metadata": {},
     "output_type": "execute_result"
    }
   ],
   "source": [
    "1725/6"
   ]
  },
  {
   "cell_type": "code",
   "execution_count": 4,
   "id": "1dbd8ea6",
   "metadata": {},
   "outputs": [
    {
     "data": {
      "text/plain": [
       "9.566666666666666"
      ]
     },
     "execution_count": 4,
     "metadata": {},
     "output_type": "execute_result"
    }
   ],
   "source": [
    "287/30"
   ]
  },
  {
   "cell_type": "code",
   "execution_count": 12,
   "id": "836244cc",
   "metadata": {},
   "outputs": [
    {
     "data": {
      "text/plain": [
       "'1111'"
      ]
     },
     "execution_count": 12,
     "metadata": {},
     "output_type": "execute_result"
    }
   ],
   "source": [
    "min([\"1111\",\"12\"])"
   ]
  },
  {
   "cell_type": "code",
   "execution_count": 13,
   "id": "2cc67c8e",
   "metadata": {},
   "outputs": [],
   "source": [
    "l = [1,2,3,4,5,6,7]"
   ]
  },
  {
   "cell_type": "code",
   "execution_count": 14,
   "id": "55c061e7",
   "metadata": {},
   "outputs": [],
   "source": [
    "l.insert(2,0)"
   ]
  },
  {
   "cell_type": "code",
   "execution_count": 15,
   "id": "5fe19f1c",
   "metadata": {},
   "outputs": [
    {
     "data": {
      "text/plain": [
       "[1, 2, 0, 3, 4, 5, 6, 7]"
      ]
     },
     "execution_count": 15,
     "metadata": {},
     "output_type": "execute_result"
    }
   ],
   "source": [
    "l"
   ]
  },
  {
   "cell_type": "code",
   "execution_count": 16,
   "id": "527c9936",
   "metadata": {},
   "outputs": [],
   "source": [
    "l.insert(-2,10)"
   ]
  },
  {
   "cell_type": "code",
   "execution_count": 17,
   "id": "5bb4c161",
   "metadata": {},
   "outputs": [
    {
     "data": {
      "text/plain": [
       "[1, 2, 0, 3, 4, 5, 10, 6, 7]"
      ]
     },
     "execution_count": 17,
     "metadata": {},
     "output_type": "execute_result"
    }
   ],
   "source": [
    "l"
   ]
  },
  {
   "cell_type": "code",
   "execution_count": 18,
   "id": "18533155",
   "metadata": {},
   "outputs": [],
   "source": [
    "l = [1,2,3,4]"
   ]
  },
  {
   "cell_type": "code",
   "execution_count": 19,
   "id": "560885f3",
   "metadata": {},
   "outputs": [],
   "source": [
    "l.append(\"sudh\")"
   ]
  },
  {
   "cell_type": "code",
   "execution_count": 20,
   "id": "400c4598",
   "metadata": {},
   "outputs": [],
   "source": [
    "l.append([1,2,3,4])"
   ]
  },
  {
   "cell_type": "code",
   "execution_count": 21,
   "id": "644b97df",
   "metadata": {},
   "outputs": [
    {
     "data": {
      "text/plain": [
       "[1, 2, 3, 4, 'sudh', [1, 2, 3, 4]]"
      ]
     },
     "execution_count": 21,
     "metadata": {},
     "output_type": "execute_result"
    }
   ],
   "source": [
    "l"
   ]
  },
  {
   "cell_type": "code",
   "execution_count": 22,
   "id": "7e58fe9f",
   "metadata": {},
   "outputs": [],
   "source": [
    "l.extend([1,2,3,45])"
   ]
  },
  {
   "cell_type": "code",
   "execution_count": 23,
   "id": "4e10da09",
   "metadata": {},
   "outputs": [
    {
     "data": {
      "text/plain": [
       "[1, 2, 3, 4, 'sudh', [1, 2, 3, 4], 1, 2, 3, 45]"
      ]
     },
     "execution_count": 23,
     "metadata": {},
     "output_type": "execute_result"
    }
   ],
   "source": [
    "l"
   ]
  },
  {
   "cell_type": "code",
   "execution_count": 25,
   "id": "3a4305c2",
   "metadata": {},
   "outputs": [],
   "source": [
    "l.extend([23])"
   ]
  },
  {
   "cell_type": "code",
   "execution_count": 26,
   "id": "547739c0",
   "metadata": {},
   "outputs": [
    {
     "data": {
      "text/plain": [
       "[1, 2, 3, 4, 'sudh', [1, 2, 3, 4], 1, 2, 3, 45, 23]"
      ]
     },
     "execution_count": 26,
     "metadata": {},
     "output_type": "execute_result"
    }
   ],
   "source": [
    "l"
   ]
  },
  {
   "cell_type": "code",
   "execution_count": 28,
   "id": "05ecfa45",
   "metadata": {},
   "outputs": [
    {
     "data": {
      "text/plain": [
       "[1, 2, 3, 4]"
      ]
     },
     "execution_count": 28,
     "metadata": {},
     "output_type": "execute_result"
    }
   ],
   "source": [
    "l.pop(5)"
   ]
  },
  {
   "cell_type": "code",
   "execution_count": 29,
   "id": "207979ac",
   "metadata": {},
   "outputs": [
    {
     "data": {
      "text/plain": [
       "[1, 2, 3, 4, 'sudh', 1, 2, 3, 45]"
      ]
     },
     "execution_count": 29,
     "metadata": {},
     "output_type": "execute_result"
    }
   ],
   "source": [
    "l"
   ]
  },
  {
   "cell_type": "code",
   "execution_count": 30,
   "id": "314873b8",
   "metadata": {},
   "outputs": [],
   "source": [
    "l.remove('sudh')"
   ]
  },
  {
   "cell_type": "code",
   "execution_count": 31,
   "id": "b4a339e7",
   "metadata": {},
   "outputs": [
    {
     "data": {
      "text/plain": [
       "[1, 2, 3, 4, 1, 2, 3, 45]"
      ]
     },
     "execution_count": 31,
     "metadata": {},
     "output_type": "execute_result"
    }
   ],
   "source": [
    "l"
   ]
  },
  {
   "cell_type": "code",
   "execution_count": 32,
   "id": "be5bc120",
   "metadata": {},
   "outputs": [
    {
     "data": {
      "text/plain": [
       "45"
      ]
     },
     "execution_count": 32,
     "metadata": {},
     "output_type": "execute_result"
    }
   ],
   "source": [
    "max(l)"
   ]
  },
  {
   "cell_type": "code",
   "execution_count": 43,
   "id": "eb09fb67",
   "metadata": {},
   "outputs": [],
   "source": [
    "l = [[1,2,\"hi\",\"bye\"],[2,3,4,\"yo\",5]]"
   ]
  },
  {
   "cell_type": "code",
   "execution_count": 48,
   "id": "48d28d7e",
   "metadata": {},
   "outputs": [],
   "source": [
    "index = []\n",
    "k=0\n",
    "count = 0\n",
    "for i in l:\n",
    "    count = 0\n",
    "    if type(i) == list:\n",
    "        for j in i:\n",
    "            if type(j) == str:\n",
    "                count = count+1\n",
    "        index.append([k,count])\n",
    "    k=k+1"
   ]
  },
  {
   "cell_type": "code",
   "execution_count": 49,
   "id": "69421c11",
   "metadata": {},
   "outputs": [
    {
     "data": {
      "text/plain": [
       "[[0, 2], [1, 1]]"
      ]
     },
     "execution_count": 49,
     "metadata": {},
     "output_type": "execute_result"
    }
   ],
   "source": [
    "index"
   ]
  },
  {
   "cell_type": "code",
   "execution_count": 51,
   "id": "0e992e49",
   "metadata": {},
   "outputs": [],
   "source": [
    "for i in index:\n",
    "    for j in range(i[1]):\n",
    "        l[i[0]].pop()"
   ]
  },
  {
   "cell_type": "code",
   "execution_count": 52,
   "id": "60032bf9",
   "metadata": {},
   "outputs": [
    {
     "data": {
      "text/plain": [
       "[[1, 2], [2, 3, 4]]"
      ]
     },
     "execution_count": 52,
     "metadata": {},
     "output_type": "execute_result"
    }
   ],
   "source": [
    "l"
   ]
  },
  {
   "cell_type": "code",
   "execution_count": 57,
   "id": "52172ddf",
   "metadata": {},
   "outputs": [
    {
     "data": {
      "text/plain": [
       "[0, 2, 4, 6, 8]"
      ]
     },
     "execution_count": 57,
     "metadata": {},
     "output_type": "execute_result"
    }
   ],
   "source": [
    "[ i for i in range(0,10) if i%2==0]"
   ]
  },
  {
   "cell_type": "code",
   "execution_count": 59,
   "id": "db382f94",
   "metadata": {},
   "outputs": [
    {
     "data": {
      "text/plain": [
       "['even', 'odd', 'even', 'odd', 'even', 'odd', 'even', 'odd', 'even', 'odd']"
      ]
     },
     "execution_count": 59,
     "metadata": {},
     "output_type": "execute_result"
    }
   ],
   "source": [
    "[ \"even\" if i%2==0 else \"odd\" for i in range(0,10)]"
   ]
  },
  {
   "cell_type": "code",
   "execution_count": 62,
   "id": "65cd4aca",
   "metadata": {},
   "outputs": [
    {
     "data": {
      "text/plain": [
       "[[0, 1, 2], [0, 1, 2], [0, 1, 2]]"
      ]
     },
     "execution_count": 62,
     "metadata": {},
     "output_type": "execute_result"
    }
   ],
   "source": [
    "[[i for i in range(3)] for j in range(3) ]"
   ]
  },
  {
   "cell_type": "code",
   "execution_count": 67,
   "id": "b54f4b29",
   "metadata": {},
   "outputs": [
    {
     "data": {
      "text/plain": [
       "[0, 6]"
      ]
     },
     "execution_count": 67,
     "metadata": {},
     "output_type": "execute_result"
    }
   ],
   "source": [
    "[i for i in range(8) if i%2==0 and i%3==0]"
   ]
  },
  {
   "cell_type": "code",
   "execution_count": 68,
   "id": "2513bb25",
   "metadata": {},
   "outputs": [
    {
     "data": {
      "text/plain": [
       "['yes', 'hooo', 'no', 'hooo', 'hooo', 'hooo', 'hooo', 'hooo', 'hooo', 'hooo']"
      ]
     },
     "execution_count": 68,
     "metadata": {},
     "output_type": "execute_result"
    }
   ],
   "source": [
    "['yes' if i == 0 else 'no' if i==2 else 'hooo' for i in range(0,10) ]"
   ]
  },
  {
   "cell_type": "code",
   "execution_count": 1,
   "id": "4bf67c2b",
   "metadata": {},
   "outputs": [],
   "source": [
    "t1 = (234,34,\"sudh\",3.45,True)"
   ]
  },
  {
   "cell_type": "code",
   "execution_count": 2,
   "id": "b0cac24b",
   "metadata": {},
   "outputs": [
    {
     "data": {
      "text/plain": [
       "tuple"
      ]
     },
     "execution_count": 2,
     "metadata": {},
     "output_type": "execute_result"
    }
   ],
   "source": [
    "type(t1)"
   ]
  },
  {
   "cell_type": "code",
   "execution_count": 3,
   "id": "a0be6fdf",
   "metadata": {},
   "outputs": [],
   "source": [
    "se = {2,3,4,5,6,2}"
   ]
  },
  {
   "cell_type": "code",
   "execution_count": 4,
   "id": "df4da187",
   "metadata": {},
   "outputs": [
    {
     "data": {
      "text/plain": [
       "{2, 3, 4, 5, 6}"
      ]
     },
     "execution_count": 4,
     "metadata": {},
     "output_type": "execute_result"
    }
   ],
   "source": [
    "se"
   ]
  },
  {
   "cell_type": "code",
   "execution_count": 5,
   "id": "a8a83126",
   "metadata": {},
   "outputs": [
    {
     "data": {
      "text/plain": [
       "set"
      ]
     },
     "execution_count": 5,
     "metadata": {},
     "output_type": "execute_result"
    }
   ],
   "source": [
    "type(se)"
   ]
  },
  {
   "cell_type": "code",
   "execution_count": 6,
   "id": "8a081b12",
   "metadata": {},
   "outputs": [],
   "source": [
    "s = {2:3,\n",
    "    4:5}"
   ]
  },
  {
   "cell_type": "code",
   "execution_count": 7,
   "id": "7f8742d1",
   "metadata": {},
   "outputs": [
    {
     "data": {
      "text/plain": [
       "{2: 3, 4: 5}"
      ]
     },
     "execution_count": 7,
     "metadata": {},
     "output_type": "execute_result"
    }
   ],
   "source": [
    "s"
   ]
  },
  {
   "cell_type": "code",
   "execution_count": 8,
   "id": "8c04e114",
   "metadata": {},
   "outputs": [
    {
     "data": {
      "text/plain": [
       "dict"
      ]
     },
     "execution_count": 8,
     "metadata": {},
     "output_type": "execute_result"
    }
   ],
   "source": [
    "type(s)"
   ]
  },
  {
   "cell_type": "code",
   "execution_count": 11,
   "id": "2e71e425",
   "metadata": {},
   "outputs": [],
   "source": [
    "l2 = {1:2}"
   ]
  },
  {
   "cell_type": "code",
   "execution_count": 12,
   "id": "82c7b074",
   "metadata": {},
   "outputs": [
    {
     "data": {
      "text/plain": [
       "True"
      ]
     },
     "execution_count": 12,
     "metadata": {},
     "output_type": "execute_result"
    }
   ],
   "source": [
    "t1[-1]"
   ]
  },
  {
   "cell_type": "code",
   "execution_count": 13,
   "id": "3424c74f",
   "metadata": {},
   "outputs": [
    {
     "ename": "TypeError",
     "evalue": "'tuple' object is not callable",
     "output_type": "error",
     "traceback": [
      "\u001b[1;31m---------------------------------------------------------------------------\u001b[0m",
      "\u001b[1;31mTypeError\u001b[0m                                 Traceback (most recent call last)",
      "\u001b[1;32m~\\AppData\\Local\\Temp/ipykernel_5732/2790360760.py\u001b[0m in \u001b[0;36m<module>\u001b[1;34m\u001b[0m\n\u001b[1;32m----> 1\u001b[1;33m \u001b[0mt1\u001b[0m\u001b[1;33m(\u001b[0m\u001b[1;33m-\u001b[0m\u001b[1;36m1\u001b[0m\u001b[1;33m)\u001b[0m\u001b[1;33m\u001b[0m\u001b[1;33m\u001b[0m\u001b[0m\n\u001b[0m",
      "\u001b[1;31mTypeError\u001b[0m: 'tuple' object is not callable"
     ]
    }
   ],
   "source": [
    "t1(-1)"
   ]
  },
  {
   "cell_type": "code",
   "execution_count": 14,
   "id": "dc3bbc87",
   "metadata": {},
   "outputs": [
    {
     "ename": "SyntaxError",
     "evalue": "invalid syntax (Temp/ipykernel_5732/1544814840.py, line 1)",
     "output_type": "error",
     "traceback": [
      "\u001b[1;36m  File \u001b[1;32m\"C:\\Users\\Shashwat\\AppData\\Local\\Temp/ipykernel_5732/1544814840.py\"\u001b[1;36m, line \u001b[1;32m1\u001b[0m\n\u001b[1;33m    t1{-1}\u001b[0m\n\u001b[1;37m      ^\u001b[0m\n\u001b[1;31mSyntaxError\u001b[0m\u001b[1;31m:\u001b[0m invalid syntax\n"
     ]
    }
   ],
   "source": [
    "t1{-1}"
   ]
  },
  {
   "cell_type": "code",
   "execution_count": 15,
   "id": "783635d9",
   "metadata": {},
   "outputs": [
    {
     "data": {
      "text/plain": [
       "1"
      ]
     },
     "execution_count": 15,
     "metadata": {},
     "output_type": "execute_result"
    }
   ],
   "source": [
    "t1.count(34)"
   ]
  },
  {
   "cell_type": "code",
   "execution_count": 16,
   "id": "bd4509d8",
   "metadata": {},
   "outputs": [
    {
     "data": {
      "text/plain": [
       "1"
      ]
     },
     "execution_count": 16,
     "metadata": {},
     "output_type": "execute_result"
    }
   ],
   "source": [
    "t1.index(34)"
   ]
  },
  {
   "cell_type": "code",
   "execution_count": 17,
   "id": "f28aed47",
   "metadata": {},
   "outputs": [
    {
     "data": {
      "text/plain": [
       "(234, 34, 'sudh', 3.45, True)"
      ]
     },
     "execution_count": 17,
     "metadata": {},
     "output_type": "execute_result"
    }
   ],
   "source": [
    "t1"
   ]
  },
  {
   "cell_type": "code",
   "execution_count": 29,
   "id": "239b099b",
   "metadata": {},
   "outputs": [],
   "source": [
    "t9 = tuple([39])"
   ]
  },
  {
   "cell_type": "code",
   "execution_count": 30,
   "id": "4650cef4",
   "metadata": {},
   "outputs": [
    {
     "data": {
      "text/plain": [
       "tuple"
      ]
     },
     "execution_count": 30,
     "metadata": {},
     "output_type": "execute_result"
    }
   ],
   "source": [
    "type(t9)"
   ]
  },
  {
   "cell_type": "code",
   "execution_count": 35,
   "id": "222c0558",
   "metadata": {},
   "outputs": [
    {
     "data": {
      "text/plain": [
       "(234, 34, [39], 'sudh', 3.45, True)"
      ]
     },
     "execution_count": 35,
     "metadata": {},
     "output_type": "execute_result"
    }
   ],
   "source": [
    "t1[:2]+tuple([[39]])+t1[2:]"
   ]
  },
  {
   "cell_type": "code",
   "execution_count": 38,
   "id": "3d488bec",
   "metadata": {},
   "outputs": [],
   "source": [
    "t = ((3,5,32,2),\"shdbjvh\",(5,2,99))"
   ]
  },
  {
   "cell_type": "code",
   "execution_count": 40,
   "id": "d716fa4a",
   "metadata": {},
   "outputs": [
    {
     "data": {
      "text/plain": [
       "99"
      ]
     },
     "execution_count": 40,
     "metadata": {},
     "output_type": "execute_result"
    }
   ],
   "source": [
    "t[-1][-1]"
   ]
  },
  {
   "cell_type": "code",
   "execution_count": 49,
   "id": "0e1a130c",
   "metadata": {},
   "outputs": [],
   "source": [
    "try:\n",
    "    if t1.index('sud')>-1:\n",
    "        print(\"hey\")\n",
    "except :\n",
    "    pass"
   ]
  },
  {
   "cell_type": "code",
   "execution_count": 50,
   "id": "44c839aa",
   "metadata": {},
   "outputs": [],
   "source": [
    "s = {1,2,3,4,\"sdvsf\",(3,2,1)}"
   ]
  },
  {
   "cell_type": "code",
   "execution_count": 51,
   "id": "66c33ec0",
   "metadata": {},
   "outputs": [
    {
     "ename": "TypeError",
     "evalue": "'set' object is not subscriptable",
     "output_type": "error",
     "traceback": [
      "\u001b[1;31m---------------------------------------------------------------------------\u001b[0m",
      "\u001b[1;31mTypeError\u001b[0m                                 Traceback (most recent call last)",
      "\u001b[1;32m~\\AppData\\Local\\Temp/ipykernel_5732/243613605.py\u001b[0m in \u001b[0;36m<module>\u001b[1;34m\u001b[0m\n\u001b[1;32m----> 1\u001b[1;33m \u001b[0ms\u001b[0m\u001b[1;33m[\u001b[0m\u001b[1;36m0\u001b[0m\u001b[1;33m]\u001b[0m\u001b[1;33m\u001b[0m\u001b[1;33m\u001b[0m\u001b[0m\n\u001b[0m",
      "\u001b[1;31mTypeError\u001b[0m: 'set' object is not subscriptable"
     ]
    }
   ],
   "source": [
    "s[0]"
   ]
  },
  {
   "cell_type": "code",
   "execution_count": 53,
   "id": "a33b9aa8",
   "metadata": {},
   "outputs": [],
   "source": [
    "l = list(s)"
   ]
  },
  {
   "cell_type": "code",
   "execution_count": 56,
   "id": "6fa9b324",
   "metadata": {},
   "outputs": [
    {
     "data": {
      "text/plain": [
       "4"
      ]
     },
     "execution_count": 56,
     "metadata": {},
     "output_type": "execute_result"
    }
   ],
   "source": [
    "l.pop()"
   ]
  },
  {
   "cell_type": "code",
   "execution_count": 57,
   "id": "a86e8d65",
   "metadata": {},
   "outputs": [
    {
     "data": {
      "text/plain": [
       "['sdvsf', 1, 2, 3]"
      ]
     },
     "execution_count": 57,
     "metadata": {},
     "output_type": "execute_result"
    }
   ],
   "source": [
    "l"
   ]
  },
  {
   "cell_type": "code",
   "execution_count": 58,
   "id": "80a4e124",
   "metadata": {},
   "outputs": [
    {
     "data": {
      "text/plain": [
       "'sdvsf'"
      ]
     },
     "execution_count": 58,
     "metadata": {},
     "output_type": "execute_result"
    }
   ],
   "source": [
    "l.pop(0)"
   ]
  },
  {
   "cell_type": "code",
   "execution_count": 59,
   "id": "49da3308",
   "metadata": {},
   "outputs": [
    {
     "data": {
      "text/plain": [
       "[1, 2, 3]"
      ]
     },
     "execution_count": 59,
     "metadata": {},
     "output_type": "execute_result"
    }
   ],
   "source": [
    "l"
   ]
  },
  {
   "cell_type": "code",
   "execution_count": 60,
   "id": "668148dd",
   "metadata": {},
   "outputs": [],
   "source": [
    "l.sort()"
   ]
  },
  {
   "cell_type": "code",
   "execution_count": 61,
   "id": "0474f7e8",
   "metadata": {},
   "outputs": [],
   "source": [
    "s = set(l)"
   ]
  },
  {
   "cell_type": "code",
   "execution_count": 62,
   "id": "24947054",
   "metadata": {},
   "outputs": [
    {
     "data": {
      "text/plain": [
       "{1, 2, 3}"
      ]
     },
     "execution_count": 62,
     "metadata": {},
     "output_type": "execute_result"
    }
   ],
   "source": [
    "s"
   ]
  },
  {
   "cell_type": "code",
   "execution_count": 65,
   "id": "4e0a8e7d",
   "metadata": {},
   "outputs": [],
   "source": [
    "s = {1,2,3}"
   ]
  },
  {
   "cell_type": "code",
   "execution_count": 66,
   "id": "26aee1dc",
   "metadata": {},
   "outputs": [],
   "source": [
    "s = {'a':'b','a':'c'}"
   ]
  },
  {
   "cell_type": "code",
   "execution_count": 67,
   "id": "25b5a5f4",
   "metadata": {},
   "outputs": [
    {
     "data": {
      "text/plain": [
       "{'a': 'c'}"
      ]
     },
     "execution_count": 67,
     "metadata": {},
     "output_type": "execute_result"
    }
   ],
   "source": [
    "s"
   ]
  },
  {
   "cell_type": "code",
   "execution_count": 69,
   "id": "af2cd715",
   "metadata": {},
   "outputs": [],
   "source": [
    "s = {'a':s}"
   ]
  },
  {
   "cell_type": "code",
   "execution_count": 70,
   "id": "88d4178c",
   "metadata": {},
   "outputs": [
    {
     "data": {
      "text/plain": [
       "{'a': {'a': 'c'}}"
      ]
     },
     "execution_count": 70,
     "metadata": {},
     "output_type": "execute_result"
    }
   ],
   "source": [
    "s"
   ]
  },
  {
   "cell_type": "code",
   "execution_count": 73,
   "id": "2e9bc61e",
   "metadata": {},
   "outputs": [],
   "source": [
    "s['a'] = {'h':'e'}"
   ]
  },
  {
   "cell_type": "code",
   "execution_count": 74,
   "id": "0183b411",
   "metadata": {},
   "outputs": [
    {
     "data": {
      "text/plain": [
       "{'a': {'h': 'e'}}"
      ]
     },
     "execution_count": 74,
     "metadata": {},
     "output_type": "execute_result"
    }
   ],
   "source": [
    "s"
   ]
  },
  {
   "cell_type": "code",
   "execution_count": 76,
   "id": "2bd85563",
   "metadata": {},
   "outputs": [
    {
     "data": {
      "text/plain": [
       "{23.34: 45}"
      ]
     },
     "execution_count": 76,
     "metadata": {},
     "output_type": "execute_result"
    }
   ],
   "source": [
    "{23.34:45}"
   ]
  },
  {
   "cell_type": "code",
   "execution_count": 77,
   "id": "009dcbac",
   "metadata": {},
   "outputs": [],
   "source": [
    "s2 = s"
   ]
  },
  {
   "cell_type": "code",
   "execution_count": 78,
   "id": "02656027",
   "metadata": {},
   "outputs": [
    {
     "ename": "TypeError",
     "evalue": "unsupported operand type(s) for +: 'dict' and 'dict'",
     "output_type": "error",
     "traceback": [
      "\u001b[1;31m---------------------------------------------------------------------------\u001b[0m",
      "\u001b[1;31mTypeError\u001b[0m                                 Traceback (most recent call last)",
      "\u001b[1;32m~\\AppData\\Local\\Temp/ipykernel_5732/46107460.py\u001b[0m in \u001b[0;36m<module>\u001b[1;34m\u001b[0m\n\u001b[1;32m----> 1\u001b[1;33m \u001b[0ms\u001b[0m\u001b[1;33m+\u001b[0m\u001b[0ms2\u001b[0m\u001b[1;33m\u001b[0m\u001b[1;33m\u001b[0m\u001b[0m\n\u001b[0m",
      "\u001b[1;31mTypeError\u001b[0m: unsupported operand type(s) for +: 'dict' and 'dict'"
     ]
    }
   ],
   "source": [
    "s+s2"
   ]
  },
  {
   "cell_type": "code",
   "execution_count": 79,
   "id": "14f5bdba",
   "metadata": {},
   "outputs": [
    {
     "data": {
      "text/plain": [
       "{'a': {'h': 'e'}}"
      ]
     },
     "execution_count": 79,
     "metadata": {},
     "output_type": "execute_result"
    }
   ],
   "source": [
    "s\n"
   ]
  },
  {
   "cell_type": "code",
   "execution_count": 85,
   "id": "5750a2bd",
   "metadata": {},
   "outputs": [],
   "source": [
    "s['a']['h'] = (20,)"
   ]
  },
  {
   "cell_type": "code",
   "execution_count": 86,
   "id": "c8b0fc20",
   "metadata": {},
   "outputs": [
    {
     "data": {
      "text/plain": [
       "{'a': {'h': (20,)}}"
      ]
     },
     "execution_count": 86,
     "metadata": {},
     "output_type": "execute_result"
    }
   ],
   "source": [
    "s"
   ]
  },
  {
   "cell_type": "code",
   "execution_count": 88,
   "id": "20e36d08",
   "metadata": {},
   "outputs": [
    {
     "data": {
      "text/plain": [
       "tuple"
      ]
     },
     "execution_count": 88,
     "metadata": {},
     "output_type": "execute_result"
    }
   ],
   "source": [
    "type((20,))"
   ]
  },
  {
   "cell_type": "code",
   "execution_count": 94,
   "id": "9affd810",
   "metadata": {},
   "outputs": [
    {
     "data": {
      "text/plain": [
       "10"
      ]
     },
     "execution_count": 94,
     "metadata": {},
     "output_type": "execute_result"
    }
   ],
   "source": [
    "s.get('b',10)"
   ]
  },
  {
   "cell_type": "code",
   "execution_count": 98,
   "id": "944039d9",
   "metadata": {},
   "outputs": [
    {
     "name": "stdout",
     "output_type": "stream",
     "text": [
      "a : {'h': (20,)}\n",
      "\n",
      "h : (20,)\n"
     ]
    }
   ],
   "source": [
    "for k,v in s.items():\n",
    "    \n",
    "    print(k,\":\",v)\n",
    "    if type(v) == dict:\n",
    "        for k1,v1 in v.items():\n",
    "            print()\n",
    "            print(k1,\":\",v1)"
   ]
  },
  {
   "cell_type": "code",
   "execution_count": 102,
   "id": "f940d51b",
   "metadata": {},
   "outputs": [
    {
     "data": {
      "text/plain": [
       "(29, 20, 20, 30, 29)"
      ]
     },
     "execution_count": 102,
     "metadata": {},
     "output_type": "execute_result"
    }
   ],
   "source": [
    "(29,20)+(20,)+(30,29)"
   ]
  },
  {
   "cell_type": "code",
   "execution_count": 107,
   "id": "246583cb",
   "metadata": {},
   "outputs": [],
   "source": [
    "s = {\n",
    "    (20,30):90\n",
    "}"
   ]
  },
  {
   "cell_type": "code",
   "execution_count": 108,
   "id": "2912a442",
   "metadata": {},
   "outputs": [
    {
     "data": {
      "text/plain": [
       "{(20, 30): 90}"
      ]
     },
     "execution_count": 108,
     "metadata": {},
     "output_type": "execute_result"
    }
   ],
   "source": [
    "s"
   ]
  },
  {
   "cell_type": "code",
   "execution_count": 109,
   "id": "259a6ead",
   "metadata": {},
   "outputs": [
    {
     "name": "stdout",
     "output_type": "stream",
     "text": [
      "Anime (Japanese: アニメ, IPA: [aɲime] (About this soundlisten)) is hand-drawn and computer animation originating from Japan. In Japan and in Japanese, anime (a term derived from the English word animation) describes all animated works, regardless of style or origin. However, outside of Japan and in English, anime is colloquial for Japanese animation and refers specifically to animation produced in Japan.[1] Animation produced outside of Japan with similar style to Japanese animation is referred to as anime-influenced animation.  The earliest commercial Japanese animations date to 1917. A characteristic art style emerged in the 1960s with the works of cartoonist Osamu Tezuka and spread in following decades, developing a large domestic audience. Anime is distributed theatrically, through television broadcasts, directly to home media, and over the Internet. In addition to original works, anime are often adaptations of Japanese comics (manga), light novels, or video games. It is classified into numerous genres targeting various broad and niche audiences.  Anime is a diverse medium with distinctive production methods that have adapted in response to emergent technologies. It combines graphic art, characterization, cinematography, and other forms of imaginative and individualistic techniques.[2] Compared to Western animation, anime production generally focuses less on movement, and more on the detail of settings and use of \"camera effects\", such as panning, zooming, and angle shots.[2] Diverse art styles are used, and character proportions and features can be quite varied, with a common characteristic feature being large and emotive eyes.[3]  The anime industry consists of over 430 production companies, including major studios like Studio Ghibli, Sunrise, and Toei Animation. Since the 1980s, the medium has also seen international success with the rise of foreign dubbed and subtitled programming. As of 2016, Japanese anime accounted for 60% of the world's animated television shows.[4]\n"
     ]
    }
   ],
   "source": [
    "string = input()"
   ]
  },
  {
   "cell_type": "code",
   "execution_count": 110,
   "id": "1cc54382",
   "metadata": {},
   "outputs": [
    {
     "data": {
      "text/plain": [
       "'Anime (Japanese: アニメ, IPA: [aɲime] (About this soundlisten)) is hand-drawn and computer animation originating from Japan. In Japan and in Japanese, anime (a term derived from the English word animation) describes all animated works, regardless of style or origin. However, outside of Japan and in English, anime is colloquial for Japanese animation and refers specifically to animation produced in Japan.[1] Animation produced outside of Japan with similar style to Japanese animation is referred to as anime-influenced animation.  The earliest commercial Japanese animations date to 1917. A characteristic art style emerged in the 1960s with the works of cartoonist Osamu Tezuka and spread in following decades, developing a large domestic audience. Anime is distributed theatrically, through television broadcasts, directly to home media, and over the Internet. In addition to original works, anime are often adaptations of Japanese comics (manga), light novels, or video games. It is classified into numerous genres targeting various broad and niche audiences.  Anime is a diverse medium with distinctive production methods that have adapted in response to emergent technologies. It combines graphic art, characterization, cinematography, and other forms of imaginative and individualistic techniques.[2] Compared to Western animation, anime production generally focuses less on movement, and more on the detail of settings and use of \"camera effects\", such as panning, zooming, and angle shots.[2] Diverse art styles are used, and character proportions and features can be quite varied, with a common characteristic feature being large and emotive eyes.[3]  The anime industry consists of over 430 production companies, including major studios like Studio Ghibli, Sunrise, and Toei Animation. Since the 1980s, the medium has also seen international success with the rise of foreign dubbed and subtitled programming. As of 2016, Japanese anime accounted for 60% of the world\\'s animated television shows.[4]'"
      ]
     },
     "execution_count": 110,
     "metadata": {},
     "output_type": "execute_result"
    }
   ],
   "source": [
    "string"
   ]
  },
  {
   "cell_type": "code",
   "execution_count": 111,
   "id": "3522a6a3",
   "metadata": {},
   "outputs": [],
   "source": [
    "string = string.split(\" \")"
   ]
  },
  {
   "cell_type": "code",
   "execution_count": 112,
   "id": "b8d0fa1b",
   "metadata": {
    "collapsed": true
   },
   "outputs": [
    {
     "data": {
      "text/plain": [
       "['Anime',\n",
       " '(Japanese:',\n",
       " 'アニメ,',\n",
       " 'IPA:',\n",
       " '[aɲime]',\n",
       " '(About',\n",
       " 'this',\n",
       " 'soundlisten))',\n",
       " 'is',\n",
       " 'hand-drawn',\n",
       " 'and',\n",
       " 'computer',\n",
       " 'animation',\n",
       " 'originating',\n",
       " 'from',\n",
       " 'Japan.',\n",
       " 'In',\n",
       " 'Japan',\n",
       " 'and',\n",
       " 'in',\n",
       " 'Japanese,',\n",
       " 'anime',\n",
       " '(a',\n",
       " 'term',\n",
       " 'derived',\n",
       " 'from',\n",
       " 'the',\n",
       " 'English',\n",
       " 'word',\n",
       " 'animation)',\n",
       " 'describes',\n",
       " 'all',\n",
       " 'animated',\n",
       " 'works,',\n",
       " 'regardless',\n",
       " 'of',\n",
       " 'style',\n",
       " 'or',\n",
       " 'origin.',\n",
       " 'However,',\n",
       " 'outside',\n",
       " 'of',\n",
       " 'Japan',\n",
       " 'and',\n",
       " 'in',\n",
       " 'English,',\n",
       " 'anime',\n",
       " 'is',\n",
       " 'colloquial',\n",
       " 'for',\n",
       " 'Japanese',\n",
       " 'animation',\n",
       " 'and',\n",
       " 'refers',\n",
       " 'specifically',\n",
       " 'to',\n",
       " 'animation',\n",
       " 'produced',\n",
       " 'in',\n",
       " 'Japan.[1]',\n",
       " 'Animation',\n",
       " 'produced',\n",
       " 'outside',\n",
       " 'of',\n",
       " 'Japan',\n",
       " 'with',\n",
       " 'similar',\n",
       " 'style',\n",
       " 'to',\n",
       " 'Japanese',\n",
       " 'animation',\n",
       " 'is',\n",
       " 'referred',\n",
       " 'to',\n",
       " 'as',\n",
       " 'anime-influenced',\n",
       " 'animation.',\n",
       " '',\n",
       " 'The',\n",
       " 'earliest',\n",
       " 'commercial',\n",
       " 'Japanese',\n",
       " 'animations',\n",
       " 'date',\n",
       " 'to',\n",
       " '1917.',\n",
       " 'A',\n",
       " 'characteristic',\n",
       " 'art',\n",
       " 'style',\n",
       " 'emerged',\n",
       " 'in',\n",
       " 'the',\n",
       " '1960s',\n",
       " 'with',\n",
       " 'the',\n",
       " 'works',\n",
       " 'of',\n",
       " 'cartoonist',\n",
       " 'Osamu',\n",
       " 'Tezuka',\n",
       " 'and',\n",
       " 'spread',\n",
       " 'in',\n",
       " 'following',\n",
       " 'decades,',\n",
       " 'developing',\n",
       " 'a',\n",
       " 'large',\n",
       " 'domestic',\n",
       " 'audience.',\n",
       " 'Anime',\n",
       " 'is',\n",
       " 'distributed',\n",
       " 'theatrically,',\n",
       " 'through',\n",
       " 'television',\n",
       " 'broadcasts,',\n",
       " 'directly',\n",
       " 'to',\n",
       " 'home',\n",
       " 'media,',\n",
       " 'and',\n",
       " 'over',\n",
       " 'the',\n",
       " 'Internet.',\n",
       " 'In',\n",
       " 'addition',\n",
       " 'to',\n",
       " 'original',\n",
       " 'works,',\n",
       " 'anime',\n",
       " 'are',\n",
       " 'often',\n",
       " 'adaptations',\n",
       " 'of',\n",
       " 'Japanese',\n",
       " 'comics',\n",
       " '(manga),',\n",
       " 'light',\n",
       " 'novels,',\n",
       " 'or',\n",
       " 'video',\n",
       " 'games.',\n",
       " 'It',\n",
       " 'is',\n",
       " 'classified',\n",
       " 'into',\n",
       " 'numerous',\n",
       " 'genres',\n",
       " 'targeting',\n",
       " 'various',\n",
       " 'broad',\n",
       " 'and',\n",
       " 'niche',\n",
       " 'audiences.',\n",
       " '',\n",
       " 'Anime',\n",
       " 'is',\n",
       " 'a',\n",
       " 'diverse',\n",
       " 'medium',\n",
       " 'with',\n",
       " 'distinctive',\n",
       " 'production',\n",
       " 'methods',\n",
       " 'that',\n",
       " 'have',\n",
       " 'adapted',\n",
       " 'in',\n",
       " 'response',\n",
       " 'to',\n",
       " 'emergent',\n",
       " 'technologies.',\n",
       " 'It',\n",
       " 'combines',\n",
       " 'graphic',\n",
       " 'art,',\n",
       " 'characterization,',\n",
       " 'cinematography,',\n",
       " 'and',\n",
       " 'other',\n",
       " 'forms',\n",
       " 'of',\n",
       " 'imaginative',\n",
       " 'and',\n",
       " 'individualistic',\n",
       " 'techniques.[2]',\n",
       " 'Compared',\n",
       " 'to',\n",
       " 'Western',\n",
       " 'animation,',\n",
       " 'anime',\n",
       " 'production',\n",
       " 'generally',\n",
       " 'focuses',\n",
       " 'less',\n",
       " 'on',\n",
       " 'movement,',\n",
       " 'and',\n",
       " 'more',\n",
       " 'on',\n",
       " 'the',\n",
       " 'detail',\n",
       " 'of',\n",
       " 'settings',\n",
       " 'and',\n",
       " 'use',\n",
       " 'of',\n",
       " '\"camera',\n",
       " 'effects\",',\n",
       " 'such',\n",
       " 'as',\n",
       " 'panning,',\n",
       " 'zooming,',\n",
       " 'and',\n",
       " 'angle',\n",
       " 'shots.[2]',\n",
       " 'Diverse',\n",
       " 'art',\n",
       " 'styles',\n",
       " 'are',\n",
       " 'used,',\n",
       " 'and',\n",
       " 'character',\n",
       " 'proportions',\n",
       " 'and',\n",
       " 'features',\n",
       " 'can',\n",
       " 'be',\n",
       " 'quite',\n",
       " 'varied,',\n",
       " 'with',\n",
       " 'a',\n",
       " 'common',\n",
       " 'characteristic',\n",
       " 'feature',\n",
       " 'being',\n",
       " 'large',\n",
       " 'and',\n",
       " 'emotive',\n",
       " 'eyes.[3]',\n",
       " '',\n",
       " 'The',\n",
       " 'anime',\n",
       " 'industry',\n",
       " 'consists',\n",
       " 'of',\n",
       " 'over',\n",
       " '430',\n",
       " 'production',\n",
       " 'companies,',\n",
       " 'including',\n",
       " 'major',\n",
       " 'studios',\n",
       " 'like',\n",
       " 'Studio',\n",
       " 'Ghibli,',\n",
       " 'Sunrise,',\n",
       " 'and',\n",
       " 'Toei',\n",
       " 'Animation.',\n",
       " 'Since',\n",
       " 'the',\n",
       " '1980s,',\n",
       " 'the',\n",
       " 'medium',\n",
       " 'has',\n",
       " 'also',\n",
       " 'seen',\n",
       " 'international',\n",
       " 'success',\n",
       " 'with',\n",
       " 'the',\n",
       " 'rise',\n",
       " 'of',\n",
       " 'foreign',\n",
       " 'dubbed',\n",
       " 'and',\n",
       " 'subtitled',\n",
       " 'programming.',\n",
       " 'As',\n",
       " 'of',\n",
       " '2016,',\n",
       " 'Japanese',\n",
       " 'anime',\n",
       " 'accounted',\n",
       " 'for',\n",
       " '60%',\n",
       " 'of',\n",
       " 'the',\n",
       " \"world's\",\n",
       " 'animated',\n",
       " 'television',\n",
       " 'shows.[4]']"
      ]
     },
     "execution_count": 112,
     "metadata": {},
     "output_type": "execute_result"
    }
   ],
   "source": [
    "string"
   ]
  },
  {
   "cell_type": "code",
   "execution_count": 113,
   "id": "209c5fc9",
   "metadata": {},
   "outputs": [],
   "source": [
    "para = set(string)"
   ]
  },
  {
   "cell_type": "code",
   "execution_count": 114,
   "id": "a99bfdf3",
   "metadata": {},
   "outputs": [
    {
     "data": {
      "text/plain": [
       "{'',\n",
       " '\"camera',\n",
       " '(About',\n",
       " '(Japanese:',\n",
       " '(a',\n",
       " '(manga),',\n",
       " '1917.',\n",
       " '1960s',\n",
       " '1980s,',\n",
       " '2016,',\n",
       " '430',\n",
       " '60%',\n",
       " 'A',\n",
       " 'Animation',\n",
       " 'Animation.',\n",
       " 'Anime',\n",
       " 'As',\n",
       " 'Compared',\n",
       " 'Diverse',\n",
       " 'English',\n",
       " 'English,',\n",
       " 'Ghibli,',\n",
       " 'However,',\n",
       " 'IPA:',\n",
       " 'In',\n",
       " 'Internet.',\n",
       " 'It',\n",
       " 'Japan',\n",
       " 'Japan.',\n",
       " 'Japan.[1]',\n",
       " 'Japanese',\n",
       " 'Japanese,',\n",
       " 'Osamu',\n",
       " 'Since',\n",
       " 'Studio',\n",
       " 'Sunrise,',\n",
       " 'Tezuka',\n",
       " 'The',\n",
       " 'Toei',\n",
       " 'Western',\n",
       " '[aɲime]',\n",
       " 'a',\n",
       " 'accounted',\n",
       " 'adaptations',\n",
       " 'adapted',\n",
       " 'addition',\n",
       " 'all',\n",
       " 'also',\n",
       " 'and',\n",
       " 'angle',\n",
       " 'animated',\n",
       " 'animation',\n",
       " 'animation)',\n",
       " 'animation,',\n",
       " 'animation.',\n",
       " 'animations',\n",
       " 'anime',\n",
       " 'anime-influenced',\n",
       " 'are',\n",
       " 'art',\n",
       " 'art,',\n",
       " 'as',\n",
       " 'audience.',\n",
       " 'audiences.',\n",
       " 'be',\n",
       " 'being',\n",
       " 'broad',\n",
       " 'broadcasts,',\n",
       " 'can',\n",
       " 'cartoonist',\n",
       " 'character',\n",
       " 'characteristic',\n",
       " 'characterization,',\n",
       " 'cinematography,',\n",
       " 'classified',\n",
       " 'colloquial',\n",
       " 'combines',\n",
       " 'comics',\n",
       " 'commercial',\n",
       " 'common',\n",
       " 'companies,',\n",
       " 'computer',\n",
       " 'consists',\n",
       " 'date',\n",
       " 'decades,',\n",
       " 'derived',\n",
       " 'describes',\n",
       " 'detail',\n",
       " 'developing',\n",
       " 'directly',\n",
       " 'distinctive',\n",
       " 'distributed',\n",
       " 'diverse',\n",
       " 'domestic',\n",
       " 'dubbed',\n",
       " 'earliest',\n",
       " 'effects\",',\n",
       " 'emerged',\n",
       " 'emergent',\n",
       " 'emotive',\n",
       " 'eyes.[3]',\n",
       " 'feature',\n",
       " 'features',\n",
       " 'focuses',\n",
       " 'following',\n",
       " 'for',\n",
       " 'foreign',\n",
       " 'forms',\n",
       " 'from',\n",
       " 'games.',\n",
       " 'generally',\n",
       " 'genres',\n",
       " 'graphic',\n",
       " 'hand-drawn',\n",
       " 'has',\n",
       " 'have',\n",
       " 'home',\n",
       " 'imaginative',\n",
       " 'in',\n",
       " 'including',\n",
       " 'individualistic',\n",
       " 'industry',\n",
       " 'international',\n",
       " 'into',\n",
       " 'is',\n",
       " 'large',\n",
       " 'less',\n",
       " 'light',\n",
       " 'like',\n",
       " 'major',\n",
       " 'media,',\n",
       " 'medium',\n",
       " 'methods',\n",
       " 'more',\n",
       " 'movement,',\n",
       " 'niche',\n",
       " 'novels,',\n",
       " 'numerous',\n",
       " 'of',\n",
       " 'often',\n",
       " 'on',\n",
       " 'or',\n",
       " 'origin.',\n",
       " 'original',\n",
       " 'originating',\n",
       " 'other',\n",
       " 'outside',\n",
       " 'over',\n",
       " 'panning,',\n",
       " 'produced',\n",
       " 'production',\n",
       " 'programming.',\n",
       " 'proportions',\n",
       " 'quite',\n",
       " 'referred',\n",
       " 'refers',\n",
       " 'regardless',\n",
       " 'response',\n",
       " 'rise',\n",
       " 'seen',\n",
       " 'settings',\n",
       " 'shots.[2]',\n",
       " 'shows.[4]',\n",
       " 'similar',\n",
       " 'soundlisten))',\n",
       " 'specifically',\n",
       " 'spread',\n",
       " 'studios',\n",
       " 'style',\n",
       " 'styles',\n",
       " 'subtitled',\n",
       " 'success',\n",
       " 'such',\n",
       " 'targeting',\n",
       " 'techniques.[2]',\n",
       " 'technologies.',\n",
       " 'television',\n",
       " 'term',\n",
       " 'that',\n",
       " 'the',\n",
       " 'theatrically,',\n",
       " 'this',\n",
       " 'through',\n",
       " 'to',\n",
       " 'use',\n",
       " 'used,',\n",
       " 'varied,',\n",
       " 'various',\n",
       " 'video',\n",
       " 'with',\n",
       " 'word',\n",
       " 'works',\n",
       " 'works,',\n",
       " \"world's\",\n",
       " 'zooming,',\n",
       " 'アニメ,'}"
      ]
     },
     "execution_count": 114,
     "metadata": {},
     "output_type": "execute_result"
    }
   ],
   "source": [
    "para"
   ]
  },
  {
   "cell_type": "code",
   "execution_count": 115,
   "id": "5b6e8814",
   "metadata": {},
   "outputs": [],
   "source": [
    "s ={}\n",
    "for i in para:\n",
    "    s[i] = \"shashwat\""
   ]
  },
  {
   "cell_type": "code",
   "execution_count": 116,
   "id": "bf46c51c",
   "metadata": {
    "collapsed": true
   },
   "outputs": [
    {
     "data": {
      "text/plain": [
       "{'': 'shashwat',\n",
       " 'The': 'shashwat',\n",
       " 'emergent': 'shashwat',\n",
       " 'rise': 'shashwat',\n",
       " 'original': 'shashwat',\n",
       " 'It': 'shashwat',\n",
       " 'Animation': 'shashwat',\n",
       " 'computer': 'shashwat',\n",
       " 'specifically': 'shashwat',\n",
       " 'generally': 'shashwat',\n",
       " 'directly': 'shashwat',\n",
       " 'use': 'shashwat',\n",
       " 'Ghibli,': 'shashwat',\n",
       " 'origin.': 'shashwat',\n",
       " 'outside': 'shashwat',\n",
       " 'novels,': 'shashwat',\n",
       " 'production': 'shashwat',\n",
       " 'feature': 'shashwat',\n",
       " 'focuses': 'shashwat',\n",
       " 'English,': 'shashwat',\n",
       " 'techniques.[2]': 'shashwat',\n",
       " 'varied,': 'shashwat',\n",
       " '430': 'shashwat',\n",
       " 'characterization,': 'shashwat',\n",
       " 'regardless': 'shashwat',\n",
       " 'seen': 'shashwat',\n",
       " 'animation)': 'shashwat',\n",
       " 'audience.': 'shashwat',\n",
       " 'this': 'shashwat',\n",
       " 'originating': 'shashwat',\n",
       " 'niche': 'shashwat',\n",
       " 'shots.[2]': 'shashwat',\n",
       " 'like': 'shashwat',\n",
       " 'also': 'shashwat',\n",
       " 'be': 'shashwat',\n",
       " 'that': 'shashwat',\n",
       " 'following': 'shashwat',\n",
       " 'Studio': 'shashwat',\n",
       " 'soundlisten))': 'shashwat',\n",
       " 'graphic': 'shashwat',\n",
       " 'other': 'shashwat',\n",
       " 'more': 'shashwat',\n",
       " 'distinctive': 'shashwat',\n",
       " 'earliest': 'shashwat',\n",
       " 'proportions': 'shashwat',\n",
       " 'derived': 'shashwat',\n",
       " 'animations': 'shashwat',\n",
       " 'date': 'shashwat',\n",
       " 'imaginative': 'shashwat',\n",
       " 'features': 'shashwat',\n",
       " 'characteristic': 'shashwat',\n",
       " 'classified': 'shashwat',\n",
       " 'combines': 'shashwat',\n",
       " 'cinematography,': 'shashwat',\n",
       " 'emotive': 'shashwat',\n",
       " 'Since': 'shashwat',\n",
       " 'has': 'shashwat',\n",
       " 'including': 'shashwat',\n",
       " 'animation.': 'shashwat',\n",
       " 'In': 'shashwat',\n",
       " '[aɲime]': 'shashwat',\n",
       " 'forms': 'shashwat',\n",
       " 'or': 'shashwat',\n",
       " '2016,': 'shashwat',\n",
       " 'television': 'shashwat',\n",
       " '1917.': 'shashwat',\n",
       " 'movement,': 'shashwat',\n",
       " 'decades,': 'shashwat',\n",
       " 'panning,': 'shashwat',\n",
       " 'style': 'shashwat',\n",
       " 'numerous': 'shashwat',\n",
       " 'major': 'shashwat',\n",
       " 'programming.': 'shashwat',\n",
       " 'is': 'shashwat',\n",
       " 'English': 'shashwat',\n",
       " 'distributed': 'shashwat',\n",
       " 'Compared': 'shashwat',\n",
       " 'foreign': 'shashwat',\n",
       " 'comics': 'shashwat',\n",
       " 'animation,': 'shashwat',\n",
       " 'As': 'shashwat',\n",
       " 'addition': 'shashwat',\n",
       " 'anime': 'shashwat',\n",
       " 'used,': 'shashwat',\n",
       " 'for': 'shashwat',\n",
       " 'methods': 'shashwat',\n",
       " 'industry': 'shashwat',\n",
       " 'Anime': 'shashwat',\n",
       " 'less': 'shashwat',\n",
       " 'over': 'shashwat',\n",
       " 'IPA:': 'shashwat',\n",
       " 'broad': 'shashwat',\n",
       " 'being': 'shashwat',\n",
       " 'on': 'shashwat',\n",
       " 'targeting': 'shashwat',\n",
       " 'medium': 'shashwat',\n",
       " 'spread': 'shashwat',\n",
       " 'studios': 'shashwat',\n",
       " 'can': 'shashwat',\n",
       " 'anime-influenced': 'shashwat',\n",
       " '(a': 'shashwat',\n",
       " 'are': 'shashwat',\n",
       " 'A': 'shashwat',\n",
       " 'settings': 'shashwat',\n",
       " 'However,': 'shashwat',\n",
       " 'domestic': 'shashwat',\n",
       " 'broadcasts,': 'shashwat',\n",
       " 'zooming,': 'shashwat',\n",
       " 'consists': 'shashwat',\n",
       " 'word': 'shashwat',\n",
       " 'refers': 'shashwat',\n",
       " 'art,': 'shashwat',\n",
       " '(About': 'shashwat',\n",
       " 'have': 'shashwat',\n",
       " 'companies,': 'shashwat',\n",
       " 'success': 'shashwat',\n",
       " 'common': 'shashwat',\n",
       " 'Toei': 'shashwat',\n",
       " 'art': 'shashwat',\n",
       " 'animated': 'shashwat',\n",
       " 'term': 'shashwat',\n",
       " 'from': 'shashwat',\n",
       " 'into': 'shashwat',\n",
       " 'Japan.[1]': 'shashwat',\n",
       " 'referred': 'shashwat',\n",
       " 'quite': 'shashwat',\n",
       " 'media,': 'shashwat',\n",
       " 'Japanese': 'shashwat',\n",
       " '1960s': 'shashwat',\n",
       " 'Diverse': 'shashwat',\n",
       " 'cartoonist': 'shashwat',\n",
       " 'adaptations': 'shashwat',\n",
       " '60%': 'shashwat',\n",
       " 'in': 'shashwat',\n",
       " 'Japan': 'shashwat',\n",
       " 'such': 'shashwat',\n",
       " 'individualistic': 'shashwat',\n",
       " 'with': 'shashwat',\n",
       " 'theatrically,': 'shashwat',\n",
       " 'Sunrise,': 'shashwat',\n",
       " 'subtitled': 'shashwat',\n",
       " 'games.': 'shashwat',\n",
       " 'Osamu': 'shashwat',\n",
       " 'eyes.[3]': 'shashwat',\n",
       " 'dubbed': 'shashwat',\n",
       " 'shows.[4]': 'shashwat',\n",
       " 'detail': 'shashwat',\n",
       " '(manga),': 'shashwat',\n",
       " '1980s,': 'shashwat',\n",
       " 'response': 'shashwat',\n",
       " 'to': 'shashwat',\n",
       " 'through': 'shashwat',\n",
       " 'colloquial': 'shashwat',\n",
       " 'large': 'shashwat',\n",
       " 'diverse': 'shashwat',\n",
       " 'works,': 'shashwat',\n",
       " 'commercial': 'shashwat',\n",
       " 'often': 'shashwat',\n",
       " 'light': 'shashwat',\n",
       " 'describes': 'shashwat',\n",
       " 'emerged': 'shashwat',\n",
       " 'Western': 'shashwat',\n",
       " 'styles': 'shashwat',\n",
       " 'アニメ,': 'shashwat',\n",
       " 'home': 'shashwat',\n",
       " 'accounted': 'shashwat',\n",
       " 'international': 'shashwat',\n",
       " 'all': 'shashwat',\n",
       " 'works': 'shashwat',\n",
       " 'character': 'shashwat',\n",
       " 'of': 'shashwat',\n",
       " 'Tezuka': 'shashwat',\n",
       " 'developing': 'shashwat',\n",
       " 'hand-drawn': 'shashwat',\n",
       " 'as': 'shashwat',\n",
       " 'audiences.': 'shashwat',\n",
       " 'Internet.': 'shashwat',\n",
       " 'Animation.': 'shashwat',\n",
       " 'genres': 'shashwat',\n",
       " 'technologies.': 'shashwat',\n",
       " 'Japanese,': 'shashwat',\n",
       " \"world's\": 'shashwat',\n",
       " 'Japan.': 'shashwat',\n",
       " 'angle': 'shashwat',\n",
       " 'effects\",': 'shashwat',\n",
       " 'the': 'shashwat',\n",
       " 'video': 'shashwat',\n",
       " 'animation': 'shashwat',\n",
       " '(Japanese:': 'shashwat',\n",
       " 'and': 'shashwat',\n",
       " 'produced': 'shashwat',\n",
       " 'a': 'shashwat',\n",
       " 'adapted': 'shashwat',\n",
       " 'various': 'shashwat',\n",
       " 'similar': 'shashwat',\n",
       " '\"camera': 'shashwat'}"
      ]
     },
     "execution_count": 116,
     "metadata": {},
     "output_type": "execute_result"
    }
   ],
   "source": [
    "s"
   ]
  },
  {
   "cell_type": "code",
   "execution_count": 119,
   "id": "e060115e",
   "metadata": {
    "collapsed": true
   },
   "outputs": [
    {
     "name": "stdout",
     "output_type": "stream",
     "text": [
      "keys: ['', 'The', 'emergent', 'rise', 'original', 'It', 'Animation', 'computer', 'specifically', 'generally', 'directly', 'use', 'Ghibli,', 'origin.', 'outside', 'novels,', 'production', 'feature', 'focuses', 'English,', 'techniques.[2]', 'varied,', '430', 'characterization,', 'regardless', 'seen', 'animation)', 'audience.', 'this', 'originating', 'niche', 'shots.[2]', 'like', 'also', 'be', 'that', 'following', 'Studio', 'soundlisten))', 'graphic', 'other', 'more', 'distinctive', 'earliest', 'proportions', 'derived', 'animations', 'date', 'imaginative', 'features', 'characteristic', 'classified', 'combines', 'cinematography,', 'emotive', 'Since', 'has', 'including', 'animation.', 'In', '[aɲime]', 'forms', 'or', '2016,', 'television', '1917.', 'movement,', 'decades,', 'panning,', 'style', 'numerous', 'major', 'programming.', 'is', 'English', 'distributed', 'Compared', 'foreign', 'comics', 'animation,', 'As', 'addition', 'anime', 'used,', 'for', 'methods', 'industry', 'Anime', 'less', 'over', 'IPA:', 'broad', 'being', 'on', 'targeting', 'medium', 'spread', 'studios', 'can', 'anime-influenced', '(a', 'are', 'A', 'settings', 'However,', 'domestic', 'broadcasts,', 'zooming,', 'consists', 'word', 'refers', 'art,', '(About', 'have', 'companies,', 'success', 'common', 'Toei', 'art', 'animated', 'term', 'from', 'into', 'Japan.[1]', 'referred', 'quite', 'media,', 'Japanese', '1960s', 'Diverse', 'cartoonist', 'adaptations', '60%', 'in', 'Japan', 'such', 'individualistic', 'with', 'theatrically,', 'Sunrise,', 'subtitled', 'games.', 'Osamu', 'eyes.[3]', 'dubbed', 'shows.[4]', 'detail', '(manga),', '1980s,', 'response', 'to', 'through', 'colloquial', 'large', 'diverse', 'works,', 'commercial', 'often', 'light', 'describes', 'emerged', 'Western', 'styles', 'アニメ,', 'home', 'accounted', 'international', 'all', 'works', 'character', 'of', 'Tezuka', 'developing', 'hand-drawn', 'as', 'audiences.', 'Internet.', 'Animation.', 'genres', 'technologies.', 'Japanese,', \"world's\", 'Japan.', 'angle', 'effects\",', 'the', 'video', 'animation', '(Japanese:', 'and', 'produced', 'a', 'adapted', 'various', 'similar', '\"camera']\n",
      "\n",
      "\n",
      "\n",
      "values: ('shashwat', 'shashwat', 'shashwat', 'shashwat', 'shashwat', 'shashwat', 'shashwat', 'shashwat', 'shashwat', 'shashwat', 'shashwat', 'shashwat', 'shashwat', 'shashwat', 'shashwat', 'shashwat', 'shashwat', 'shashwat', 'shashwat', 'shashwat', 'shashwat', 'shashwat', 'shashwat', 'shashwat', 'shashwat', 'shashwat', 'shashwat', 'shashwat', 'shashwat', 'shashwat', 'shashwat', 'shashwat', 'shashwat', 'shashwat', 'shashwat', 'shashwat', 'shashwat', 'shashwat', 'shashwat', 'shashwat', 'shashwat', 'shashwat', 'shashwat', 'shashwat', 'shashwat', 'shashwat', 'shashwat', 'shashwat', 'shashwat', 'shashwat', 'shashwat', 'shashwat', 'shashwat', 'shashwat', 'shashwat', 'shashwat', 'shashwat', 'shashwat', 'shashwat', 'shashwat', 'shashwat', 'shashwat', 'shashwat', 'shashwat', 'shashwat', 'shashwat', 'shashwat', 'shashwat', 'shashwat', 'shashwat', 'shashwat', 'shashwat', 'shashwat', 'shashwat', 'shashwat', 'shashwat', 'shashwat', 'shashwat', 'shashwat', 'shashwat', 'shashwat', 'shashwat', 'shashwat', 'shashwat', 'shashwat', 'shashwat', 'shashwat', 'shashwat', 'shashwat', 'shashwat', 'shashwat', 'shashwat', 'shashwat', 'shashwat', 'shashwat', 'shashwat', 'shashwat', 'shashwat', 'shashwat', 'shashwat', 'shashwat', 'shashwat', 'shashwat', 'shashwat', 'shashwat', 'shashwat', 'shashwat', 'shashwat', 'shashwat', 'shashwat', 'shashwat', 'shashwat', 'shashwat', 'shashwat', 'shashwat', 'shashwat', 'shashwat', 'shashwat', 'shashwat', 'shashwat', 'shashwat', 'shashwat', 'shashwat', 'shashwat', 'shashwat', 'shashwat', 'shashwat', 'shashwat', 'shashwat', 'shashwat', 'shashwat', 'shashwat', 'shashwat', 'shashwat', 'shashwat', 'shashwat', 'shashwat', 'shashwat', 'shashwat', 'shashwat', 'shashwat', 'shashwat', 'shashwat', 'shashwat', 'shashwat', 'shashwat', 'shashwat', 'shashwat', 'shashwat', 'shashwat', 'shashwat', 'shashwat', 'shashwat', 'shashwat', 'shashwat', 'shashwat', 'shashwat', 'shashwat', 'shashwat', 'shashwat', 'shashwat', 'shashwat', 'shashwat', 'shashwat', 'shashwat', 'shashwat', 'shashwat', 'shashwat', 'shashwat', 'shashwat', 'shashwat', 'shashwat', 'shashwat', 'shashwat', 'shashwat', 'shashwat', 'shashwat', 'shashwat', 'shashwat', 'shashwat', 'shashwat', 'shashwat', 'shashwat', 'shashwat', 'shashwat', 'shashwat', 'shashwat', 'shashwat', 'shashwat', 'shashwat', 'shashwat', 'shashwat', 'shashwat', 'shashwat', 'shashwat', 'shashwat')\n"
     ]
    }
   ],
   "source": [
    "t1=[]\n",
    "t2=[]\n",
    "for k,v in s.items():\n",
    "    t1.append(k)\n",
    "    t2.append(v)\n",
    "print(\"keys:\",t1)\n",
    "print(\"\\n\\n\")\n",
    "print(\"values:\",tuple(t2))"
   ]
  },
  {
   "cell_type": "code",
   "execution_count": 131,
   "id": "1faa1034",
   "metadata": {},
   "outputs": [],
   "source": [
    "dict1 = dict.fromkeys(para,\"shah\")"
   ]
  },
  {
   "cell_type": "code",
   "execution_count": 132,
   "id": "df644b51",
   "metadata": {},
   "outputs": [],
   "source": [
    "dict2 = dict.fromkeys(tuple(dict1.values()))"
   ]
  },
  {
   "cell_type": "code",
   "execution_count": 133,
   "id": "9d5e236c",
   "metadata": {},
   "outputs": [
    {
     "data": {
      "text/plain": [
       "{'shah': None}"
      ]
     },
     "execution_count": 133,
     "metadata": {},
     "output_type": "execute_result"
    }
   ],
   "source": [
    "dict2"
   ]
  },
  {
   "cell_type": "code",
   "execution_count": 136,
   "id": "050da22a",
   "metadata": {},
   "outputs": [
    {
     "name": "stdout",
     "output_type": "stream",
     "text": [
      "no\n"
     ]
    }
   ],
   "source": [
    "if \"anim\" in dict1:\n",
    "    print(\"yes\")\n",
    "else:\n",
    "    print(\"no\")"
   ]
  },
  {
   "cell_type": "code",
   "execution_count": 147,
   "id": "2fe9c440",
   "metadata": {},
   "outputs": [],
   "source": [
    "my_iterator = iter(list(dict1.keys()))\n",
    "{i:next(my_iterator) for i in range(len(dict1))}"
   ]
  },
  {
   "cell_type": "code",
   "execution_count": null,
   "id": "a1aded4d",
   "metadata": {},
   "outputs": [],
   "source": []
  },
  {
   "cell_type": "code",
   "execution_count": 150,
   "id": "8d0863bc",
   "metadata": {},
   "outputs": [
    {
     "name": "stdout",
     "output_type": "stream",
     "text": [
      "0 0\n",
      "1 1\n",
      "2 2\n",
      "3 3\n",
      "4 4\n",
      "5 5\n",
      "6 6\n",
      "7 7\n",
      "8 8\n",
      "9 9\n"
     ]
    }
   ],
   "source": [
    "for i,j in enumerate(range(10)):\n",
    "    print(i,j)"
   ]
  },
  {
   "cell_type": "code",
   "execution_count": 199,
   "id": "26163fe5",
   "metadata": {},
   "outputs": [],
   "source": [
    "def fun(a,b):\n",
    "    return a*b,a+b,a/b"
   ]
  },
  {
   "cell_type": "code",
   "execution_count": 202,
   "id": "10becb51",
   "metadata": {},
   "outputs": [],
   "source": [
    "b = fun(2,3)"
   ]
  },
  {
   "cell_type": "code",
   "execution_count": 200,
   "id": "40c7c9fa",
   "metadata": {},
   "outputs": [
    {
     "data": {
      "text/plain": [
       "1"
      ]
     },
     "execution_count": 200,
     "metadata": {},
     "output_type": "execute_result"
    }
   ],
   "source": []
  },
  {
   "cell_type": "code",
   "execution_count": 164,
   "id": "313a9c98",
   "metadata": {},
   "outputs": [
    {
     "data": {
      "text/plain": [
       "'None'"
      ]
     },
     "execution_count": 164,
     "metadata": {},
     "output_type": "execute_result"
    }
   ],
   "source": [
    "str(b)"
   ]
  },
  {
   "cell_type": "code",
   "execution_count": 155,
   "id": "94c6e8f5",
   "metadata": {},
   "outputs": [],
   "source": [
    "a = None"
   ]
  },
  {
   "cell_type": "code",
   "execution_count": 161,
   "id": "388601f3",
   "metadata": {},
   "outputs": [
    {
     "name": "stdout",
     "output_type": "stream",
     "text": [
      "a is none\n"
     ]
    }
   ],
   "source": [
    "if type(a) == type(None):\n",
    "    print(\"a is none\")\n",
    "else:\n",
    "    print(\"a is not none\")"
   ]
  },
  {
   "cell_type": "code",
   "execution_count": 158,
   "id": "02d27346",
   "metadata": {},
   "outputs": [
    {
     "data": {
      "text/plain": [
       "\"<class 'NoneType'>\""
      ]
     },
     "execution_count": 158,
     "metadata": {},
     "output_type": "execute_result"
    }
   ],
   "source": [
    "str(type(a))"
   ]
  },
  {
   "cell_type": "code",
   "execution_count": 175,
   "id": "a8d7340d",
   "metadata": {},
   "outputs": [
    {
     "data": {
      "text/plain": [
       "-0.5"
      ]
     },
     "execution_count": 175,
     "metadata": {},
     "output_type": "execute_result"
    }
   ],
   "source": [
    "1+2*3/(3-7)"
   ]
  },
  {
   "cell_type": "code",
   "execution_count": 197,
   "id": "62cd9f64",
   "metadata": {},
   "outputs": [],
   "source": [
    "a,_,_ = fun(10,2)"
   ]
  },
  {
   "cell_type": "code",
   "execution_count": 189,
   "id": "3b8e6062",
   "metadata": {},
   "outputs": [],
   "source": [
    "del(a)"
   ]
  },
  {
   "cell_type": "code",
   "execution_count": 190,
   "id": "69877f3c",
   "metadata": {},
   "outputs": [],
   "source": [
    "a=[1,2,3,4,5]"
   ]
  },
  {
   "cell_type": "code",
   "execution_count": 191,
   "id": "5818af6e",
   "metadata": {},
   "outputs": [],
   "source": [
    "b=[1,2,3,a]"
   ]
  },
  {
   "cell_type": "code",
   "execution_count": 198,
   "id": "bd9bf9bb",
   "metadata": {},
   "outputs": [
    {
     "data": {
      "text/plain": [
       "20"
      ]
     },
     "execution_count": 198,
     "metadata": {},
     "output_type": "execute_result"
    }
   ],
   "source": [
    "a"
   ]
  },
  {
   "cell_type": "code",
   "execution_count": 193,
   "id": "6f54ca6d",
   "metadata": {},
   "outputs": [],
   "source": [
    "del(b)"
   ]
  },
  {
   "cell_type": "code",
   "execution_count": 194,
   "id": "d73db2ce",
   "metadata": {},
   "outputs": [
    {
     "data": {
      "text/plain": [
       "[1, 2, 3, 4, 5]"
      ]
     },
     "execution_count": 194,
     "metadata": {},
     "output_type": "execute_result"
    }
   ],
   "source": [
    "a"
   ]
  },
  {
   "cell_type": "code",
   "execution_count": 195,
   "id": "88a85ce2",
   "metadata": {},
   "outputs": [
    {
     "ename": "NameError",
     "evalue": "name 'b' is not defined",
     "output_type": "error",
     "traceback": [
      "\u001b[1;31m---------------------------------------------------------------------------\u001b[0m",
      "\u001b[1;31mNameError\u001b[0m                                 Traceback (most recent call last)",
      "\u001b[1;32m~\\AppData\\Local\\Temp/ipykernel_5732/1685013873.py\u001b[0m in \u001b[0;36m<module>\u001b[1;34m\u001b[0m\n\u001b[1;32m----> 1\u001b[1;33m \u001b[0mb\u001b[0m\u001b[1;33m\u001b[0m\u001b[1;33m\u001b[0m\u001b[0m\n\u001b[0m",
      "\u001b[1;31mNameError\u001b[0m: name 'b' is not defined"
     ]
    }
   ],
   "source": [
    "b"
   ]
  },
  {
   "cell_type": "code",
   "execution_count": 203,
   "id": "e73c5d28",
   "metadata": {},
   "outputs": [],
   "source": [
    "def test(a:3,b):\n",
    "    print(a)"
   ]
  },
  {
   "cell_type": "code",
   "execution_count": 205,
   "id": "f4c22993",
   "metadata": {},
   "outputs": [
    {
     "name": "stdout",
     "output_type": "stream",
     "text": [
      "2\n"
     ]
    }
   ],
   "source": [
    "test(a=2,b=3)"
   ]
  },
  {
   "cell_type": "code",
   "execution_count": 215,
   "id": "1bf442d3",
   "metadata": {},
   "outputs": [],
   "source": [
    "if None:\n",
    "    print(\"hello\")"
   ]
  },
  {
   "cell_type": "code",
   "execution_count": 217,
   "id": "2fe8380f",
   "metadata": {},
   "outputs": [
    {
     "data": {
      "text/plain": [
       "False"
      ]
     },
     "execution_count": 217,
     "metadata": {},
     "output_type": "execute_result"
    }
   ],
   "source": [
    "None==0"
   ]
  },
  {
   "cell_type": "code",
   "execution_count": 228,
   "id": "a094dc6e",
   "metadata": {},
   "outputs": [
    {
     "data": {
      "text/plain": [
       "[[[True, True, True], [True, False, True]],\n",
       " [[False, True, True], [False, False, False]]]"
      ]
     },
     "execution_count": 228,
     "metadata": {},
     "output_type": "execute_result"
    }
   ],
   "source": [
    "[[[i,j,bool(i+j)] for j in [True,False]] for i in [True,False]]"
   ]
  },
  {
   "cell_type": "code",
   "execution_count": 238,
   "id": "30984109",
   "metadata": {},
   "outputs": [],
   "source": [
    "def test1(a=\"sudh\",*args):\n",
    "    print(args[0])\n",
    "    return args"
   ]
  },
  {
   "cell_type": "code",
   "execution_count": 239,
   "id": "9a9d655e",
   "metadata": {},
   "outputs": [
    {
     "name": "stdout",
     "output_type": "stream",
     "text": [
      "asadv\n"
     ]
    },
    {
     "data": {
      "text/plain": [
       "('asadv', 'aooo')"
      ]
     },
     "execution_count": 239,
     "metadata": {},
     "output_type": "execute_result"
    }
   ],
   "source": [
    "test1(\"sca\",\"asadv\",\"aooo\")"
   ]
  },
  {
   "cell_type": "code",
   "execution_count": 247,
   "id": "e0b74532",
   "metadata": {},
   "outputs": [],
   "source": [
    "def test(*args):\n",
    "    l=[]\n",
    "    [l.extend(i) if type(i)==list else l.extend([]) for i in args]\n",
    "    return l"
   ]
  },
  {
   "cell_type": "code",
   "execution_count": 248,
   "id": "de50fd07",
   "metadata": {},
   "outputs": [
    {
     "data": {
      "text/plain": [
       "[1, 2, 3, 4, 5, 6]"
      ]
     },
     "execution_count": 248,
     "metadata": {},
     "output_type": "execute_result"
    }
   ],
   "source": [
    "test([1,2,3],[4,5,6],\"gjvgjv\",56)"
   ]
  },
  {
   "cell_type": "code",
   "execution_count": 268,
   "id": "f4b07b19",
   "metadata": {},
   "outputs": [],
   "source": [
    "def test(a,*args,**kwargs):\n",
    "    '''Enter a and b\n",
    "    test(a=2,b=3)'''\n",
    "    print(args,kwargs)"
   ]
  },
  {
   "cell_type": "code",
   "execution_count": 274,
   "id": "82f6f45c",
   "metadata": {},
   "outputs": [
    {
     "name": "stdout",
     "output_type": "stream",
     "text": [
      "(34, 45) {'b': 9, 'c': 10}\n"
     ]
    }
   ],
   "source": [
    "test(23,34,45,b=9,c=10)"
   ]
  },
  {
   "cell_type": "code",
   "execution_count": 316,
   "id": "131c1d21",
   "metadata": {},
   "outputs": [],
   "source": [
    "def fun1(*args):\n",
    "    dic = {}\n",
    "    for i in args:\n",
    "        s = type(i)\n",
    "        if s in dic:\n",
    "            dic[s].append(i)\n",
    "        else:\n",
    "            dic[s]=[]\n",
    "            dic[s].append(i)\n",
    "    return list(dic.values())"
   ]
  },
  {
   "cell_type": "code",
   "execution_count": 320,
   "id": "82015e8e",
   "metadata": {},
   "outputs": [],
   "source": [
    "def fun2(*args,**kwargs):\n",
    "    l = []\n",
    "    for i in args:\n",
    "        if(type(i)) == list:\n",
    "            l.extend(i)\n",
    "    for k,v in kwargs.items():\n",
    "        if type(v) == list:\n",
    "            l.extend(v)\n",
    "    return l"
   ]
  },
  {
   "cell_type": "code",
   "execution_count": 322,
   "id": "10fdaa5c",
   "metadata": {},
   "outputs": [
    {
     "name": "stdout",
     "output_type": "stream",
     "text": [
      "[[90, 34, 89], [90.0, 89.7], ['sjgv'], [[7890, 976], [456]], [(45, 89)], [(4+5j)]]\n"
     ]
    }
   ],
   "source": [
    "print(fun1(90,34,90.0,89.7,\"sjgv\",[7890,976],[456],(45,89),(89),4+5j))"
   ]
  },
  {
   "cell_type": "code",
   "execution_count": 323,
   "id": "d77588ba",
   "metadata": {},
   "outputs": [
    {
     "data": {
      "text/plain": [
       "[23, 45, 78, 34, 56, 12, 234, 56, 12]"
      ]
     },
     "execution_count": 323,
     "metadata": {},
     "output_type": "execute_result"
    }
   ],
   "source": [
    "fun2([23,45,78],[34,56,12],23,\"a\",l=[234,56,12],k=34)\n"
   ]
  },
  {
   "cell_type": "code",
   "execution_count": 324,
   "id": "bcf24eab",
   "metadata": {},
   "outputs": [
    {
     "name": "stdout",
     "output_type": "stream",
     "text": [
      "\n"
     ]
    }
   ],
   "source": [
    "print()"
   ]
  },
  {
   "cell_type": "code",
   "execution_count": 326,
   "id": "6d6fb91e",
   "metadata": {},
   "outputs": [
    {
     "data": {
      "text/plain": [
       "<function __main__.<lambda>(x)>"
      ]
     },
     "execution_count": 326,
     "metadata": {},
     "output_type": "execute_result"
    }
   ],
   "source": [
    "lambda x:x*2"
   ]
  },
  {
   "cell_type": "code",
   "execution_count": 327,
   "id": "7c830e8d",
   "metadata": {},
   "outputs": [],
   "source": [
    "a=10\n",
    "b=20\n",
    "\n",
    "m = lambda x,y : x+y"
   ]
  },
  {
   "cell_type": "code",
   "execution_count": 328,
   "id": "5f1cb023",
   "metadata": {},
   "outputs": [
    {
     "data": {
      "text/plain": [
       "30"
      ]
     },
     "execution_count": 328,
     "metadata": {},
     "output_type": "execute_result"
    }
   ],
   "source": [
    "m(a,b)"
   ]
  },
  {
   "cell_type": "code",
   "execution_count": 334,
   "id": "39a91bde",
   "metadata": {},
   "outputs": [
    {
     "ename": "SyntaxError",
     "evalue": "invalid syntax (Temp/ipykernel_5732/2774347911.py, line 3)",
     "output_type": "error",
     "traceback": [
      "\u001b[1;36m  File \u001b[1;32m\"C:\\Users\\Shashwat\\AppData\\Local\\Temp/ipykernel_5732/2774347911.py\"\u001b[1;36m, line \u001b[1;32m3\u001b[0m\n\u001b[1;33m    global r=a/b\u001b[0m\n\u001b[1;37m            ^\u001b[0m\n\u001b[1;31mSyntaxError\u001b[0m\u001b[1;31m:\u001b[0m invalid syntax\n"
     ]
    }
   ],
   "source": [
    "r = 10\n",
    "def test(a,b):\n",
    "    global r=a/b\n",
    "    print(r)"
   ]
  },
  {
   "cell_type": "code",
   "execution_count": 333,
   "id": "a71b6c04",
   "metadata": {},
   "outputs": [
    {
     "name": "stdout",
     "output_type": "stream",
     "text": [
      "1.0\n"
     ]
    }
   ],
   "source": [
    "test(10,10)"
   ]
  },
  {
   "cell_type": "code",
   "execution_count": 335,
   "id": "5e0b7c2a",
   "metadata": {},
   "outputs": [
    {
     "data": {
      "text/plain": [
       "10"
      ]
     },
     "execution_count": 335,
     "metadata": {},
     "output_type": "execute_result"
    }
   ],
   "source": [
    "r"
   ]
  },
  {
   "cell_type": "code",
   "execution_count": 348,
   "id": "dafcdd4f",
   "metadata": {},
   "outputs": [],
   "source": [
    "i = iter(\"sudh\")"
   ]
  },
  {
   "cell_type": "code",
   "execution_count": 347,
   "id": "a2c327c1",
   "metadata": {},
   "outputs": [
    {
     "data": {
      "text/plain": [
       "'s'"
      ]
     },
     "execution_count": 347,
     "metadata": {},
     "output_type": "execute_result"
    }
   ],
   "source": [
    "next(i)"
   ]
  },
  {
   "cell_type": "code",
   "execution_count": 349,
   "id": "8dfcfb8c",
   "metadata": {},
   "outputs": [],
   "source": [
    "s = [1,2,3,4]"
   ]
  },
  {
   "cell_type": "code",
   "execution_count": 352,
   "id": "87e94b40",
   "metadata": {},
   "outputs": [
    {
     "data": {
      "text/plain": [
       "1"
      ]
     },
     "execution_count": 352,
     "metadata": {},
     "output_type": "execute_result"
    }
   ],
   "source": [
    "next(iter(s))"
   ]
  },
  {
   "cell_type": "code",
   "execution_count": 1,
   "id": "5e17a2e0",
   "metadata": {},
   "outputs": [],
   "source": [
    "k = iter(\"shash\")"
   ]
  },
  {
   "cell_type": "code",
   "execution_count": 2,
   "id": "7bd985ff",
   "metadata": {},
   "outputs": [
    {
     "data": {
      "text/plain": [
       "'s'"
      ]
     },
     "execution_count": 2,
     "metadata": {},
     "output_type": "execute_result"
    }
   ],
   "source": [
    "next(k,\"done\")"
   ]
  },
  {
   "cell_type": "code",
   "execution_count": 3,
   "id": "17f91713",
   "metadata": {},
   "outputs": [],
   "source": [
    "def test4(n):\n",
    "    l=[]\n",
    "    for i in range(n):\n",
    "        l.append(i**3)\n",
    "        \n",
    "    return l"
   ]
  },
  {
   "cell_type": "code",
   "execution_count": 11,
   "id": "9faacd66",
   "metadata": {},
   "outputs": [
    {
     "ename": "KeyboardInterrupt",
     "evalue": "",
     "output_type": "error",
     "traceback": [
      "\u001b[1;31m---------------------------------------------------------------------------\u001b[0m",
      "\u001b[1;31mKeyboardInterrupt\u001b[0m                         Traceback (most recent call last)",
      "\u001b[1;32m~\\AppData\\Local\\Temp/ipykernel_2528/2689609894.py\u001b[0m in \u001b[0;36m<module>\u001b[1;34m\u001b[0m\n\u001b[1;32m----> 1\u001b[1;33m \u001b[0mtest4\u001b[0m\u001b[1;33m(\u001b[0m\u001b[1;36m1000000000\u001b[0m\u001b[1;33m)\u001b[0m\u001b[1;33m\u001b[0m\u001b[1;33m\u001b[0m\u001b[0m\n\u001b[0m",
      "\u001b[1;32m~\\AppData\\Local\\Temp/ipykernel_2528/4127426299.py\u001b[0m in \u001b[0;36mtest4\u001b[1;34m(n)\u001b[0m\n\u001b[0;32m      2\u001b[0m     \u001b[0ml\u001b[0m\u001b[1;33m=\u001b[0m\u001b[1;33m[\u001b[0m\u001b[1;33m]\u001b[0m\u001b[1;33m\u001b[0m\u001b[1;33m\u001b[0m\u001b[0m\n\u001b[0;32m      3\u001b[0m     \u001b[1;32mfor\u001b[0m \u001b[0mi\u001b[0m \u001b[1;32min\u001b[0m \u001b[0mrange\u001b[0m\u001b[1;33m(\u001b[0m\u001b[0mn\u001b[0m\u001b[1;33m)\u001b[0m\u001b[1;33m:\u001b[0m\u001b[1;33m\u001b[0m\u001b[1;33m\u001b[0m\u001b[0m\n\u001b[1;32m----> 4\u001b[1;33m         \u001b[0ml\u001b[0m\u001b[1;33m.\u001b[0m\u001b[0mappend\u001b[0m\u001b[1;33m(\u001b[0m\u001b[0mi\u001b[0m\u001b[1;33m**\u001b[0m\u001b[1;36m3\u001b[0m\u001b[1;33m)\u001b[0m\u001b[1;33m\u001b[0m\u001b[1;33m\u001b[0m\u001b[0m\n\u001b[0m\u001b[0;32m      5\u001b[0m \u001b[1;33m\u001b[0m\u001b[0m\n\u001b[0;32m      6\u001b[0m     \u001b[1;32mreturn\u001b[0m \u001b[0ml\u001b[0m\u001b[1;33m\u001b[0m\u001b[1;33m\u001b[0m\u001b[0m\n",
      "\u001b[1;31mKeyboardInterrupt\u001b[0m: "
     ]
    }
   ],
   "source": [
    "test4(1000000000)"
   ]
  },
  {
   "cell_type": "code",
   "execution_count": 1,
   "id": "d4c69992",
   "metadata": {},
   "outputs": [],
   "source": [
    "def test4(n):\n",
    "    l=[]\n",
    "    for i in range(n):\n",
    "        yield i**3"
   ]
  },
  {
   "cell_type": "code",
   "execution_count": 3,
   "id": "77cc1da0",
   "metadata": {},
   "outputs": [],
   "source": [
    "i = test4(30)"
   ]
  },
  {
   "cell_type": "code",
   "execution_count": 18,
   "id": "c584f0ae",
   "metadata": {},
   "outputs": [
    {
     "data": {
      "text/plain": [
       "2744"
      ]
     },
     "execution_count": 18,
     "metadata": {},
     "output_type": "execute_result"
    }
   ],
   "source": [
    "next(i)"
   ]
  },
  {
   "cell_type": "code",
   "execution_count": 20,
   "id": "969cbb7b",
   "metadata": {},
   "outputs": [
    {
     "name": "stdout",
     "output_type": "stream",
     "text": [
      "0\n",
      "1\n",
      "8\n",
      "27\n",
      "64\n",
      "125\n",
      "216\n",
      "343\n",
      "512\n",
      "729\n",
      "1000\n",
      "1331\n",
      "1728\n",
      "2197\n",
      "2744\n",
      "3375\n",
      "4096\n",
      "4913\n",
      "5832\n",
      "6859\n",
      "8000\n",
      "9261\n",
      "10648\n",
      "12167\n",
      "13824\n",
      "15625\n",
      "17576\n",
      "19683\n",
      "21952\n",
      "24389\n",
      "27000\n",
      "29791\n",
      "32768\n",
      "35937\n",
      "39304\n",
      "42875\n",
      "46656\n",
      "50653\n",
      "54872\n",
      "59319\n"
     ]
    }
   ],
   "source": [
    "for i in test4(40):\n",
    "    print(i)"
   ]
  },
  {
   "cell_type": "code",
   "execution_count": 22,
   "id": "ce208c9e",
   "metadata": {},
   "outputs": [],
   "source": [
    "def genefib(n):\n",
    "    a=1\n",
    "    b=1\n",
    "    for i in range(n):\n",
    "        yield a\n",
    "        s=a+b\n",
    "        a=b\n",
    "        b=s"
   ]
  },
  {
   "cell_type": "code",
   "execution_count": 35,
   "id": "75376064",
   "metadata": {},
   "outputs": [],
   "source": [
    "i = genefib(100000000000)"
   ]
  },
  {
   "cell_type": "code",
   "execution_count": 177,
   "id": "a89932d3",
   "metadata": {},
   "outputs": [
    {
     "data": {
      "text/plain": [
       "212207101440105399533740733471"
      ]
     },
     "execution_count": 177,
     "metadata": {},
     "output_type": "execute_result"
    }
   ],
   "source": [
    "next(i)"
   ]
  },
  {
   "cell_type": "code",
   "execution_count": null,
   "id": "7b4cff97",
   "metadata": {},
   "outputs": [],
   "source": []
  },
  {
   "cell_type": "code",
   "execution_count": null,
   "id": "e83b2792",
   "metadata": {},
   "outputs": [],
   "source": []
  },
  {
   "cell_type": "code",
   "execution_count": null,
   "id": "b6171a40",
   "metadata": {},
   "outputs": [],
   "source": []
  },
  {
   "cell_type": "code",
   "execution_count": 183,
   "id": "54b9a6dc",
   "metadata": {},
   "outputs": [],
   "source": [
    "f = open(\"test.txt\",\"w\")"
   ]
  },
  {
   "cell_type": "code",
   "execution_count": 184,
   "id": "c713e721",
   "metadata": {},
   "outputs": [
    {
     "data": {
      "text/plain": [
       "13"
      ]
     },
     "execution_count": 184,
     "metadata": {},
     "output_type": "execute_result"
    }
   ],
   "source": [
    "f.write(r\"vfvfvdfsdvsfv\")"
   ]
  },
  {
   "cell_type": "code",
   "execution_count": 185,
   "id": "4f810727",
   "metadata": {},
   "outputs": [],
   "source": [
    "f.close()"
   ]
  },
  {
   "cell_type": "code",
   "execution_count": 196,
   "id": "eb405345",
   "metadata": {},
   "outputs": [],
   "source": [
    "f = open(\"test.txt\",\"w\")"
   ]
  },
  {
   "cell_type": "code",
   "execution_count": 194,
   "id": "44e81602",
   "metadata": {},
   "outputs": [
    {
     "data": {
      "text/plain": [
       "10"
      ]
     },
     "execution_count": 194,
     "metadata": {},
     "output_type": "execute_result"
    }
   ],
   "source": [
    "f.seek(10)"
   ]
  },
  {
   "cell_type": "code",
   "execution_count": 195,
   "id": "3b84d6d6",
   "metadata": {},
   "outputs": [
    {
     "data": {
      "text/plain": [
       "'sfv'"
      ]
     },
     "execution_count": 195,
     "metadata": {},
     "output_type": "execute_result"
    }
   ],
   "source": [
    "f.read()"
   ]
  },
  {
   "cell_type": "code",
   "execution_count": 199,
   "id": "b5013998",
   "metadata": {},
   "outputs": [],
   "source": [
    "f.flush()"
   ]
  },
  {
   "cell_type": "code",
   "execution_count": 198,
   "id": "c9359fa8",
   "metadata": {},
   "outputs": [
    {
     "data": {
      "text/plain": [
       "5"
      ]
     },
     "execution_count": 198,
     "metadata": {},
     "output_type": "execute_result"
    }
   ],
   "source": [
    "f.write(\"hello\")"
   ]
  },
  {
   "cell_type": "code",
   "execution_count": 200,
   "id": "8c06ffb2",
   "metadata": {},
   "outputs": [],
   "source": [
    "import os"
   ]
  },
  {
   "cell_type": "code",
   "execution_count": 201,
   "id": "c5a123d5",
   "metadata": {},
   "outputs": [
    {
     "data": {
      "text/plain": [
       "'C:\\\\Users\\\\Shashwat\\\\Desktop\\\\Ineuron\\\\Practice'"
      ]
     },
     "execution_count": 201,
     "metadata": {},
     "output_type": "execute_result"
    }
   ],
   "source": [
    "pwd()"
   ]
  },
  {
   "cell_type": "code",
   "execution_count": 204,
   "id": "edece9ea",
   "metadata": {},
   "outputs": [],
   "source": [
    "os.chdir(\"C:\\\\Users\\\\Shashwat\\\\Desktop\\\\Ineuron\")"
   ]
  },
  {
   "cell_type": "code",
   "execution_count": 205,
   "id": "1bd188af",
   "metadata": {},
   "outputs": [
    {
     "data": {
      "text/plain": [
       "'C:\\\\Users\\\\Shashwat\\\\Desktop\\\\Ineuron'"
      ]
     },
     "execution_count": 205,
     "metadata": {},
     "output_type": "execute_result"
    }
   ],
   "source": [
    "pwd()"
   ]
  },
  {
   "cell_type": "code",
   "execution_count": 206,
   "id": "3f9bd8ef",
   "metadata": {},
   "outputs": [],
   "source": [
    "os.chdir('C:\\\\Users\\\\Shashwat\\\\Desktop\\\\Ineuron\\\\Practice')"
   ]
  },
  {
   "cell_type": "code",
   "execution_count": 210,
   "id": "b2aeb42a",
   "metadata": {},
   "outputs": [
    {
     "ename": "FileExistsError",
     "evalue": "[WinError 183] Cannot create a file when that file already exists: 'Demo'",
     "output_type": "error",
     "traceback": [
      "\u001b[1;31m---------------------------------------------------------------------------\u001b[0m",
      "\u001b[1;31mFileExistsError\u001b[0m                           Traceback (most recent call last)",
      "\u001b[1;32m~\\AppData\\Local\\Temp/ipykernel_8240/1680574623.py\u001b[0m in \u001b[0;36m<module>\u001b[1;34m\u001b[0m\n\u001b[1;32m----> 1\u001b[1;33m \u001b[0mos\u001b[0m\u001b[1;33m.\u001b[0m\u001b[0mmkdir\u001b[0m\u001b[1;33m(\u001b[0m\u001b[1;34m\"Demo\"\u001b[0m\u001b[1;33m)\u001b[0m\u001b[1;33m\u001b[0m\u001b[1;33m\u001b[0m\u001b[0m\n\u001b[0m",
      "\u001b[1;31mFileExistsError\u001b[0m: [WinError 183] Cannot create a file when that file already exists: 'Demo'"
     ]
    }
   ],
   "source": [
    "os.mkdir(\"Demo\")"
   ]
  },
  {
   "cell_type": "code",
   "execution_count": 211,
   "id": "12b45964",
   "metadata": {},
   "outputs": [
    {
     "data": {
      "text/plain": [
       "['.ipynb_checkpoints', 'Demo', 'test.txt', 'Untitled.ipynb']"
      ]
     },
     "execution_count": 211,
     "metadata": {},
     "output_type": "execute_result"
    }
   ],
   "source": [
    "os.listdir()"
   ]
  },
  {
   "cell_type": "code",
   "execution_count": 2,
   "id": "ef0c736c",
   "metadata": {},
   "outputs": [],
   "source": [
    "import os\n",
    "os.mkdir(\"Demo\")\n",
    "os.chdir(\"C:\\\\Users\\\\Shashwat\\\\Desktop\\\\Ineuron\\\\Practice\\\\Demo\")"
   ]
  },
  {
   "cell_type": "code",
   "execution_count": 3,
   "id": "8f5f1779",
   "metadata": {},
   "outputs": [],
   "source": [
    "for i in range(10):\n",
    "    f = open(\"file{}\".format(i),\"w+\")\n",
    "    f.write(\"hello{}\".format(i))\n",
    "    f.close()"
   ]
  },
  {
   "cell_type": "code",
   "execution_count": 4,
   "id": "21896d3a",
   "metadata": {},
   "outputs": [],
   "source": [
    "data = []\n",
    "for i in range(10):\n",
    "    f = open(\"file{}\".format(i),\"r\")\n",
    "    data.append(f.read())\n",
    "    f.close()"
   ]
  },
  {
   "cell_type": "code",
   "execution_count": 5,
   "id": "6bb18bd6",
   "metadata": {},
   "outputs": [
    {
     "data": {
      "text/plain": [
       "['hello0',\n",
       " 'hello1',\n",
       " 'hello2',\n",
       " 'hello3',\n",
       " 'hello4',\n",
       " 'hello5',\n",
       " 'hello6',\n",
       " 'hello7',\n",
       " 'hello8',\n",
       " 'hello9']"
      ]
     },
     "execution_count": 5,
     "metadata": {},
     "output_type": "execute_result"
    }
   ],
   "source": [
    "data"
   ]
  },
  {
   "cell_type": "code",
   "execution_count": 6,
   "id": "4c49f5c8",
   "metadata": {},
   "outputs": [
    {
     "ename": "FileExistsError",
     "evalue": "[WinError 183] Cannot create a file when that file already exists: 'Demo_2'",
     "output_type": "error",
     "traceback": [
      "\u001b[1;31m---------------------------------------------------------------------------\u001b[0m",
      "\u001b[1;31mFileExistsError\u001b[0m                           Traceback (most recent call last)",
      "\u001b[1;32m~\\AppData\\Local\\Temp/ipykernel_9800/679011258.py\u001b[0m in \u001b[0;36m<module>\u001b[1;34m\u001b[0m\n\u001b[0;32m      1\u001b[0m \u001b[0mos\u001b[0m\u001b[1;33m.\u001b[0m\u001b[0mchdir\u001b[0m\u001b[1;33m(\u001b[0m\u001b[1;34m\"C:\\\\Users\\\\Shashwat\\\\Desktop\\\\Ineuron\\\\Practice\"\u001b[0m\u001b[1;33m)\u001b[0m\u001b[1;33m\u001b[0m\u001b[1;33m\u001b[0m\u001b[0m\n\u001b[1;32m----> 2\u001b[1;33m \u001b[0mos\u001b[0m\u001b[1;33m.\u001b[0m\u001b[0mmkdir\u001b[0m\u001b[1;33m(\u001b[0m\u001b[1;34m\"Demo_2\"\u001b[0m\u001b[1;33m)\u001b[0m\u001b[1;33m\u001b[0m\u001b[1;33m\u001b[0m\u001b[0m\n\u001b[0m",
      "\u001b[1;31mFileExistsError\u001b[0m: [WinError 183] Cannot create a file when that file already exists: 'Demo_2'"
     ]
    }
   ],
   "source": [
    "os.chdir(\"C:\\\\Users\\\\Shashwat\\\\Desktop\\\\Ineuron\\\\Practice\")\n",
    "os.mkdir(\"Demo_2\")"
   ]
  },
  {
   "cell_type": "code",
   "execution_count": 7,
   "id": "173a0444",
   "metadata": {},
   "outputs": [],
   "source": [
    "os.chdir(\"C:\\\\Users\\\\Shashwat\\\\Desktop\\\\Ineuron\\\\Practice\")"
   ]
  },
  {
   "cell_type": "code",
   "execution_count": 8,
   "id": "c6e010a1",
   "metadata": {},
   "outputs": [],
   "source": [
    "import shutil"
   ]
  },
  {
   "cell_type": "code",
   "execution_count": 9,
   "id": "2d3e2a54",
   "metadata": {},
   "outputs": [
    {
     "ename": "Error",
     "evalue": "Destination path 'C:\\Users\\Shashwat\\Desktop\\Ineuron\\Practice\\Demo_2\\Demo' already exists",
     "output_type": "error",
     "traceback": [
      "\u001b[1;31m---------------------------------------------------------------------------\u001b[0m",
      "\u001b[1;31mError\u001b[0m                                     Traceback (most recent call last)",
      "\u001b[1;32m~\\AppData\\Local\\Temp/ipykernel_9800/3367183187.py\u001b[0m in \u001b[0;36m<module>\u001b[1;34m\u001b[0m\n\u001b[1;32m----> 1\u001b[1;33m \u001b[0mshutil\u001b[0m\u001b[1;33m.\u001b[0m\u001b[0mmove\u001b[0m\u001b[1;33m(\u001b[0m\u001b[1;34m\"C:\\\\Users\\\\Shashwat\\\\Desktop\\\\Ineuron\\\\Practice\\\\Demo\\\\\"\u001b[0m\u001b[1;33m,\u001b[0m\u001b[1;34m\"C:\\\\Users\\\\Shashwat\\\\Desktop\\\\Ineuron\\\\Practice\\\\Demo_2\"\u001b[0m\u001b[1;33m)\u001b[0m\u001b[1;33m\u001b[0m\u001b[1;33m\u001b[0m\u001b[0m\n\u001b[0m",
      "\u001b[1;32mC:\\ProgramData\\Anaconda3\\lib\\shutil.py\u001b[0m in \u001b[0;36mmove\u001b[1;34m(src, dst, copy_function)\u001b[0m\n\u001b[0;32m    810\u001b[0m \u001b[1;33m\u001b[0m\u001b[0m\n\u001b[0;32m    811\u001b[0m         \u001b[1;32mif\u001b[0m \u001b[0mos\u001b[0m\u001b[1;33m.\u001b[0m\u001b[0mpath\u001b[0m\u001b[1;33m.\u001b[0m\u001b[0mexists\u001b[0m\u001b[1;33m(\u001b[0m\u001b[0mreal_dst\u001b[0m\u001b[1;33m)\u001b[0m\u001b[1;33m:\u001b[0m\u001b[1;33m\u001b[0m\u001b[1;33m\u001b[0m\u001b[0m\n\u001b[1;32m--> 812\u001b[1;33m             \u001b[1;32mraise\u001b[0m \u001b[0mError\u001b[0m\u001b[1;33m(\u001b[0m\u001b[1;34m\"Destination path '%s' already exists\"\u001b[0m \u001b[1;33m%\u001b[0m \u001b[0mreal_dst\u001b[0m\u001b[1;33m)\u001b[0m\u001b[1;33m\u001b[0m\u001b[1;33m\u001b[0m\u001b[0m\n\u001b[0m\u001b[0;32m    813\u001b[0m     \u001b[1;32mtry\u001b[0m\u001b[1;33m:\u001b[0m\u001b[1;33m\u001b[0m\u001b[1;33m\u001b[0m\u001b[0m\n\u001b[0;32m    814\u001b[0m         \u001b[0mos\u001b[0m\u001b[1;33m.\u001b[0m\u001b[0mrename\u001b[0m\u001b[1;33m(\u001b[0m\u001b[0msrc\u001b[0m\u001b[1;33m,\u001b[0m \u001b[0mreal_dst\u001b[0m\u001b[1;33m)\u001b[0m\u001b[1;33m\u001b[0m\u001b[1;33m\u001b[0m\u001b[0m\n",
      "\u001b[1;31mError\u001b[0m: Destination path 'C:\\Users\\Shashwat\\Desktop\\Ineuron\\Practice\\Demo_2\\Demo' already exists"
     ]
    }
   ],
   "source": [
    "shutil.move(\"C:\\\\Users\\\\Shashwat\\\\Desktop\\\\Ineuron\\\\Practice\\\\Demo\\\\\",\"C:\\\\Users\\\\Shashwat\\\\Desktop\\\\Ineuron\\\\Practice\\\\Demo_2\")"
   ]
  },
  {
   "cell_type": "code",
   "execution_count": 10,
   "id": "7eec2ad9",
   "metadata": {},
   "outputs": [
    {
     "ename": "FileExistsError",
     "evalue": "[WinError 183] Cannot create a file when that file already exists: 'Demo'",
     "output_type": "error",
     "traceback": [
      "\u001b[1;31m---------------------------------------------------------------------------\u001b[0m",
      "\u001b[1;31mFileExistsError\u001b[0m                           Traceback (most recent call last)",
      "\u001b[1;32m~\\AppData\\Local\\Temp/ipykernel_9800/369569500.py\u001b[0m in \u001b[0;36m<module>\u001b[1;34m\u001b[0m\n\u001b[1;32m----> 1\u001b[1;33m \u001b[0mos\u001b[0m\u001b[1;33m.\u001b[0m\u001b[0mmkdir\u001b[0m\u001b[1;33m(\u001b[0m\u001b[1;34m\"Demo\"\u001b[0m\u001b[1;33m)\u001b[0m\u001b[1;33m\u001b[0m\u001b[1;33m\u001b[0m\u001b[0m\n\u001b[0m\u001b[0;32m      2\u001b[0m \u001b[0mos\u001b[0m\u001b[1;33m.\u001b[0m\u001b[0mchdir\u001b[0m\u001b[1;33m(\u001b[0m\u001b[1;34m\"C:\\\\Users\\\\Shashwat\\\\Desktop\\\\Ineuron\\\\Practice\\\\Demo\"\u001b[0m\u001b[1;33m)\u001b[0m\u001b[1;33m\u001b[0m\u001b[1;33m\u001b[0m\u001b[0m\n",
      "\u001b[1;31mFileExistsError\u001b[0m: [WinError 183] Cannot create a file when that file already exists: 'Demo'"
     ]
    }
   ],
   "source": [
    "os.mkdir(\"Demo\")\n",
    "os.chdir(\"C:\\\\Users\\\\Shashwat\\\\Desktop\\\\Ineuron\\\\Practice\\\\Demo\")"
   ]
  },
  {
   "cell_type": "code",
   "execution_count": 11,
   "id": "6dc69f9e",
   "metadata": {},
   "outputs": [],
   "source": [
    "f = open(\"new_file.txt\",\"w\")\n",
    "f.write(\" \".join(data))\n",
    "f.close()"
   ]
  },
  {
   "cell_type": "code",
   "execution_count": 14,
   "id": "e441cdfe",
   "metadata": {},
   "outputs": [],
   "source": [
    "os.chdir(\"C:\\\\Users\\\\Shashwat\\\\Desktop\\\\Ineuron\\\\ineuron_assignments\\\\Python\\\\python programming basic\")"
   ]
  },
  {
   "cell_type": "code",
   "execution_count": 15,
   "id": "39956037",
   "metadata": {},
   "outputs": [
    {
     "data": {
      "text/plain": [
       "['.ipynb_checkpoints',\n",
       " 'Assignment_1.ipynb',\n",
       " 'Assignment_2.ipynb',\n",
       " 'Assignment_3.ipynb',\n",
       " 'Assignment_4.ipynb']"
      ]
     },
     "execution_count": 15,
     "metadata": {},
     "output_type": "execute_result"
    }
   ],
   "source": [
    "os.listdir()"
   ]
  },
  {
   "cell_type": "code",
   "execution_count": 62,
   "id": "25eb4c08",
   "metadata": {},
   "outputs": [],
   "source": [
    "f1 = open('Assignment_2.ipynb','r')"
   ]
  },
  {
   "cell_type": "code",
   "execution_count": 66,
   "id": "91f304b5",
   "metadata": {},
   "outputs": [
    {
     "data": {
      "text/plain": [
       "0"
      ]
     },
     "execution_count": 66,
     "metadata": {},
     "output_type": "execute_result"
    }
   ],
   "source": [
    "f1.seek(0)"
   ]
  },
  {
   "cell_type": "code",
   "execution_count": 63,
   "id": "2d42b8fb",
   "metadata": {},
   "outputs": [],
   "source": [
    "data = f1.read()"
   ]
  },
  {
   "cell_type": "code",
   "execution_count": 64,
   "id": "8033ca12",
   "metadata": {},
   "outputs": [
    {
     "data": {
      "text/plain": [
       "'{\\n \"cells\": [\\n  {\\n   \"cell_type\": \"markdown\",\\n   \"id\": \"ae0bd0d3\",\\n   \"metadata\": {},\\n   \"source\": [\\n    \"1. Write a Python program to convert kilometers to miles?\"\\n   ]\\n  },\\n  {\\n   \"cell_type\": \"code\",\\n   \"execution_count\": null,\\n   \"id\": \"15e19106\",\\n   \"metadata\": {},\\n   \"outputs\": [],\\n   \"source\": []\\n  },\\n  {\\n   \"cell_type\": \"markdown\",\\n   \"id\": \"beeb233c\",\\n   \"metadata\": {},\\n   \"source\": [\\n    \"2. Write a Python program to convert Celsius to Fahrenheit?\"\\n   ]\\n  },\\n  {\\n   \"cell_type\": \"code\",\\n   \"execution_count\": null,\\n   \"id\": \"d9d04382\",\\n   \"metadata\": {},\\n   \"outputs\": [],\\n   \"source\": []\\n  },\\n  {\\n   \"cell_type\": \"markdown\",\\n   \"id\": \"983c4441\",\\n   \"metadata\": {},\\n   \"source\": [\\n    \"3. Write a Python program to display calendar?\"\\n   ]\\n  },\\n  {\\n   \"cell_type\": \"code\",\\n   \"execution_count\": null,\\n   \"id\": \"6cafd02d\",\\n   \"metadata\": {},\\n   \"outputs\": [],\\n   \"source\": []\\n  },\\n  {\\n   \"cell_type\": \"markdown\",\\n   \"id\": \"28b9ed6f\",\\n   \"metadata\": {},\\n   \"source\": [\\n    \"4. Write a Python program to solve quadratic equation?\"\\n   ]\\n  },\\n  {\\n   \"cell_type\": \"code\",\\n   \"execution_count\": null,\\n   \"id\": \"85dec669\",\\n   \"metadata\": {},\\n   \"outputs\": [],\\n   \"source\": []\\n  },\\n  {\\n   \"cell_type\": \"markdown\",\\n   \"id\": \"a4ad5526\",\\n   \"metadata\": {},\\n   \"source\": [\\n    \"5. Write a Python program to swap two variables without temp variable?\"\\n   ]\\n  },\\n  {\\n   \"cell_type\": \"code\",\\n   \"execution_count\": null,\\n   \"id\": \"dfa31a82\",\\n   \"metadata\": {},\\n   \"outputs\": [],\\n   \"source\": [\\n    \"a = 10\\\\n\",\\n    \"b = 20\\\\n\",\\n    \"print(\\\\\"Before Swap\\\\\")\\\\n\",\\n    \"print(\\\\\"a:\\\\\",a,\\\\\"b:\\\\\",b)\\\\n\",\\n    \"a,b = b,a\\\\n\",\\n    \"print(\\\\\"After Swap\\\\\")\\\\n\",\\n    \"print(\\\\\"a:\\\\\",a,\\\\\"b:\\\\\",b)\"\\n   ]\\n  }\\n ],\\n \"metadata\": {\\n  \"kernelspec\": {\\n   \"display_name\": \"Python 3 (ipykernel)\",\\n   \"language\": \"python\",\\n   \"name\": \"python3\"\\n  },\\n  \"language_info\": {\\n   \"codemirror_mode\": {\\n    \"name\": \"ipython\",\\n    \"version\": 3\\n   },\\n   \"file_extension\": \".py\",\\n   \"mimetype\": \"text/x-python\",\\n   \"name\": \"python\",\\n   \"nbconvert_exporter\": \"python\",\\n   \"pygments_lexer\": \"ipython3\",\\n   \"version\": \"3.9.7\"\\n  }\\n },\\n \"nbformat\": 4,\\n \"nbformat_minor\": 5\\n}\\n'"
      ]
     },
     "execution_count": 64,
     "metadata": {},
     "output_type": "execute_result"
    }
   ],
   "source": [
    "data"
   ]
  },
  {
   "cell_type": "code",
   "execution_count": 55,
   "id": "5c58b00b",
   "metadata": {},
   "outputs": [],
   "source": [
    "f1.close()"
   ]
  },
  {
   "cell_type": "code",
   "execution_count": 95,
   "id": "32c55e14",
   "metadata": {},
   "outputs": [],
   "source": [
    "f = open('Assignment_6.ipynb','w+')"
   ]
  },
  {
   "cell_type": "code",
   "execution_count": 60,
   "id": "f14f8f7f",
   "metadata": {},
   "outputs": [
    {
     "data": {
      "text/plain": [
       "697"
      ]
     },
     "execution_count": 60,
     "metadata": {},
     "output_type": "execute_result"
    }
   ],
   "source": [
    "f.write(data)"
   ]
  },
  {
   "cell_type": "code",
   "execution_count": 61,
   "id": "aef1380b",
   "metadata": {},
   "outputs": [],
   "source": [
    "f.close()"
   ]
  },
  {
   "cell_type": "code",
   "execution_count": 67,
   "id": "d7d1886a",
   "metadata": {
    "collapsed": true
   },
   "outputs": [
    {
     "name": "stdout",
     "output_type": "stream",
     "text": [
      "{\n",
      "\n",
      "\n",
      " \n",
      "\"\n",
      "c\n",
      "e\n",
      "l\n",
      "l\n",
      "s\n",
      "\"\n",
      ":\n",
      " \n",
      "[\n",
      "\n",
      "\n",
      " \n",
      " \n",
      "{\n",
      "\n",
      "\n",
      " \n",
      " \n",
      " \n",
      "\"\n",
      "c\n",
      "e\n",
      "l\n",
      "l\n",
      "_\n",
      "t\n",
      "y\n",
      "p\n",
      "e\n",
      "\"\n",
      ":\n",
      " \n",
      "\"\n",
      "m\n",
      "a\n",
      "r\n",
      "k\n",
      "d\n",
      "o\n",
      "w\n",
      "n\n",
      "\"\n",
      ",\n",
      "\n",
      "\n",
      " \n",
      " \n",
      " \n",
      "\"\n",
      "i\n",
      "d\n",
      "\"\n",
      ":\n",
      " \n",
      "\"\n",
      "a\n",
      "e\n",
      "0\n",
      "b\n",
      "d\n",
      "0\n",
      "d\n",
      "3\n",
      "\"\n",
      ",\n",
      "\n",
      "\n",
      " \n",
      " \n",
      " \n",
      "\"\n",
      "m\n",
      "e\n",
      "t\n",
      "a\n",
      "d\n",
      "a\n",
      "t\n",
      "a\n",
      "\"\n",
      ":\n",
      " \n",
      "{\n",
      "}\n",
      ",\n",
      "\n",
      "\n",
      " \n",
      " \n",
      " \n",
      "\"\n",
      "s\n",
      "o\n",
      "u\n",
      "r\n",
      "c\n",
      "e\n",
      "\"\n",
      ":\n",
      " \n",
      "[\n",
      "\n",
      "\n",
      " \n",
      " \n",
      " \n",
      " \n",
      "\"\n",
      "1\n",
      ".\n",
      " \n",
      "W\n",
      "r\n",
      "i\n",
      "t\n",
      "e\n",
      " \n",
      "a\n",
      " \n",
      "P\n",
      "y\n",
      "t\n",
      "h\n",
      "o\n",
      "n\n",
      " \n",
      "p\n",
      "r\n",
      "o\n",
      "g\n",
      "r\n",
      "a\n",
      "m\n",
      " \n",
      "t\n",
      "o\n",
      " \n",
      "c\n",
      "o\n",
      "n\n",
      "v\n",
      "e\n",
      "r\n",
      "t\n",
      " \n",
      "k\n",
      "i\n",
      "l\n",
      "o\n",
      "m\n",
      "e\n",
      "t\n",
      "e\n",
      "r\n",
      "s\n",
      " \n",
      "t\n",
      "o\n",
      " \n",
      "m\n",
      "i\n",
      "l\n",
      "e\n",
      "s\n",
      "?\n",
      "\"\n",
      "\n",
      "\n",
      " \n",
      " \n",
      " \n",
      "]\n",
      "\n",
      "\n",
      " \n",
      " \n",
      "}\n",
      ",\n",
      "\n",
      "\n",
      " \n",
      " \n",
      "{\n",
      "\n",
      "\n",
      " \n",
      " \n",
      " \n",
      "\"\n",
      "c\n",
      "e\n",
      "l\n",
      "l\n",
      "_\n",
      "t\n",
      "y\n",
      "p\n",
      "e\n",
      "\"\n",
      ":\n",
      " \n",
      "\"\n",
      "c\n",
      "o\n",
      "d\n",
      "e\n",
      "\"\n",
      ",\n",
      "\n",
      "\n",
      " \n",
      " \n",
      " \n",
      "\"\n",
      "e\n",
      "x\n",
      "e\n",
      "c\n",
      "u\n",
      "t\n",
      "i\n",
      "o\n",
      "n\n",
      "_\n",
      "c\n",
      "o\n",
      "u\n",
      "n\n",
      "t\n",
      "\"\n",
      ":\n",
      " \n",
      "n\n",
      "u\n",
      "l\n",
      "l\n",
      ",\n",
      "\n",
      "\n",
      " \n",
      " \n",
      " \n",
      "\"\n",
      "i\n",
      "d\n",
      "\"\n",
      ":\n",
      " \n",
      "\"\n",
      "1\n",
      "5\n",
      "e\n",
      "1\n",
      "9\n",
      "1\n",
      "0\n",
      "6\n",
      "\"\n",
      ",\n",
      "\n",
      "\n",
      " \n",
      " \n",
      " \n",
      "\"\n",
      "m\n",
      "e\n",
      "t\n",
      "a\n",
      "d\n",
      "a\n",
      "t\n",
      "a\n",
      "\"\n",
      ":\n",
      " \n",
      "{\n",
      "}\n",
      ",\n",
      "\n",
      "\n",
      " \n",
      " \n",
      " \n",
      "\"\n",
      "o\n",
      "u\n",
      "t\n",
      "p\n",
      "u\n",
      "t\n",
      "s\n",
      "\"\n",
      ":\n",
      " \n",
      "[\n",
      "]\n",
      ",\n",
      "\n",
      "\n",
      " \n",
      " \n",
      " \n",
      "\"\n",
      "s\n",
      "o\n",
      "u\n",
      "r\n",
      "c\n",
      "e\n",
      "\"\n",
      ":\n",
      " \n",
      "[\n",
      "]\n",
      "\n",
      "\n",
      " \n",
      " \n",
      "}\n",
      ",\n",
      "\n",
      "\n",
      " \n",
      " \n",
      "{\n",
      "\n",
      "\n",
      " \n",
      " \n",
      " \n",
      "\"\n",
      "c\n",
      "e\n",
      "l\n",
      "l\n",
      "_\n",
      "t\n",
      "y\n",
      "p\n",
      "e\n",
      "\"\n",
      ":\n",
      " \n",
      "\"\n",
      "m\n",
      "a\n",
      "r\n",
      "k\n",
      "d\n",
      "o\n",
      "w\n",
      "n\n",
      "\"\n",
      ",\n",
      "\n",
      "\n",
      " \n",
      " \n",
      " \n",
      "\"\n",
      "i\n",
      "d\n",
      "\"\n",
      ":\n",
      " \n",
      "\"\n",
      "b\n",
      "e\n",
      "e\n",
      "b\n",
      "2\n",
      "3\n",
      "3\n",
      "c\n",
      "\"\n",
      ",\n",
      "\n",
      "\n",
      " \n",
      " \n",
      " \n",
      "\"\n",
      "m\n",
      "e\n",
      "t\n",
      "a\n",
      "d\n",
      "a\n",
      "t\n",
      "a\n",
      "\"\n",
      ":\n",
      " \n",
      "{\n",
      "}\n",
      ",\n",
      "\n",
      "\n",
      " \n",
      " \n",
      " \n",
      "\"\n",
      "s\n",
      "o\n",
      "u\n",
      "r\n",
      "c\n",
      "e\n",
      "\"\n",
      ":\n",
      " \n",
      "[\n",
      "\n",
      "\n",
      " \n",
      " \n",
      " \n",
      " \n",
      "\"\n",
      "2\n",
      ".\n",
      " \n",
      "W\n",
      "r\n",
      "i\n",
      "t\n",
      "e\n",
      " \n",
      "a\n",
      " \n",
      "P\n",
      "y\n",
      "t\n",
      "h\n",
      "o\n",
      "n\n",
      " \n",
      "p\n",
      "r\n",
      "o\n",
      "g\n",
      "r\n",
      "a\n",
      "m\n",
      " \n",
      "t\n",
      "o\n",
      " \n",
      "c\n",
      "o\n",
      "n\n",
      "v\n",
      "e\n",
      "r\n",
      "t\n",
      " \n",
      "C\n",
      "e\n",
      "l\n",
      "s\n",
      "i\n",
      "u\n",
      "s\n",
      " \n",
      "t\n",
      "o\n",
      " \n",
      "F\n",
      "a\n",
      "h\n",
      "r\n",
      "e\n",
      "n\n",
      "h\n",
      "e\n",
      "i\n",
      "t\n",
      "?\n",
      "\"\n",
      "\n",
      "\n",
      " \n",
      " \n",
      " \n",
      "]\n",
      "\n",
      "\n",
      " \n",
      " \n",
      "}\n",
      ",\n",
      "\n",
      "\n",
      " \n",
      " \n",
      "{\n",
      "\n",
      "\n",
      " \n",
      " \n",
      " \n",
      "\"\n",
      "c\n",
      "e\n",
      "l\n",
      "l\n",
      "_\n",
      "t\n",
      "y\n",
      "p\n",
      "e\n",
      "\"\n",
      ":\n",
      " \n",
      "\"\n",
      "c\n",
      "o\n",
      "d\n",
      "e\n",
      "\"\n",
      ",\n",
      "\n",
      "\n",
      " \n",
      " \n",
      " \n",
      "\"\n",
      "e\n",
      "x\n",
      "e\n",
      "c\n",
      "u\n",
      "t\n",
      "i\n",
      "o\n",
      "n\n",
      "_\n",
      "c\n",
      "o\n",
      "u\n",
      "n\n",
      "t\n",
      "\"\n",
      ":\n",
      " \n",
      "n\n",
      "u\n",
      "l\n",
      "l\n",
      ",\n",
      "\n",
      "\n",
      " \n",
      " \n",
      " \n",
      "\"\n",
      "i\n",
      "d\n",
      "\"\n",
      ":\n",
      " \n",
      "\"\n",
      "d\n",
      "9\n",
      "d\n",
      "0\n",
      "4\n",
      "3\n",
      "8\n",
      "2\n",
      "\"\n",
      ",\n",
      "\n",
      "\n",
      " \n",
      " \n",
      " \n",
      "\"\n",
      "m\n",
      "e\n",
      "t\n",
      "a\n",
      "d\n",
      "a\n",
      "t\n",
      "a\n",
      "\"\n",
      ":\n",
      " \n",
      "{\n",
      "}\n",
      ",\n",
      "\n",
      "\n",
      " \n",
      " \n",
      " \n",
      "\"\n",
      "o\n",
      "u\n",
      "t\n",
      "p\n",
      "u\n",
      "t\n",
      "s\n",
      "\"\n",
      ":\n",
      " \n",
      "[\n",
      "]\n",
      ",\n",
      "\n",
      "\n",
      " \n",
      " \n",
      " \n",
      "\"\n",
      "s\n",
      "o\n",
      "u\n",
      "r\n",
      "c\n",
      "e\n",
      "\"\n",
      ":\n",
      " \n",
      "[\n",
      "]\n",
      "\n",
      "\n",
      " \n",
      " \n",
      "}\n",
      ",\n",
      "\n",
      "\n",
      " \n",
      " \n",
      "{\n",
      "\n",
      "\n",
      " \n",
      " \n",
      " \n",
      "\"\n",
      "c\n",
      "e\n",
      "l\n",
      "l\n",
      "_\n",
      "t\n",
      "y\n",
      "p\n",
      "e\n",
      "\"\n",
      ":\n",
      " \n",
      "\"\n",
      "m\n",
      "a\n",
      "r\n",
      "k\n",
      "d\n",
      "o\n",
      "w\n",
      "n\n",
      "\"\n",
      ",\n",
      "\n",
      "\n",
      " \n",
      " \n",
      " \n",
      "\"\n",
      "i\n",
      "d\n",
      "\"\n",
      ":\n",
      " \n",
      "\"\n",
      "9\n",
      "8\n",
      "3\n",
      "c\n",
      "4\n",
      "4\n",
      "4\n",
      "1\n",
      "\"\n",
      ",\n",
      "\n",
      "\n",
      " \n",
      " \n",
      " \n",
      "\"\n",
      "m\n",
      "e\n",
      "t\n",
      "a\n",
      "d\n",
      "a\n",
      "t\n",
      "a\n",
      "\"\n",
      ":\n",
      " \n",
      "{\n",
      "}\n",
      ",\n",
      "\n",
      "\n",
      " \n",
      " \n",
      " \n",
      "\"\n",
      "s\n",
      "o\n",
      "u\n",
      "r\n",
      "c\n",
      "e\n",
      "\"\n",
      ":\n",
      " \n",
      "[\n",
      "\n",
      "\n",
      " \n",
      " \n",
      " \n",
      " \n",
      "\"\n",
      "3\n",
      ".\n",
      " \n",
      "W\n",
      "r\n",
      "i\n",
      "t\n",
      "e\n",
      " \n",
      "a\n",
      " \n",
      "P\n",
      "y\n",
      "t\n",
      "h\n",
      "o\n",
      "n\n",
      " \n",
      "p\n",
      "r\n",
      "o\n",
      "g\n",
      "r\n",
      "a\n",
      "m\n",
      " \n",
      "t\n",
      "o\n",
      " \n",
      "d\n",
      "i\n",
      "s\n",
      "p\n",
      "l\n",
      "a\n",
      "y\n",
      " \n",
      "c\n",
      "a\n",
      "l\n",
      "e\n",
      "n\n",
      "d\n",
      "a\n",
      "r\n",
      "?\n",
      "\"\n",
      "\n",
      "\n",
      " \n",
      " \n",
      " \n",
      "]\n",
      "\n",
      "\n",
      " \n",
      " \n",
      "}\n",
      ",\n",
      "\n",
      "\n",
      " \n",
      " \n",
      "{\n",
      "\n",
      "\n",
      " \n",
      " \n",
      " \n",
      "\"\n",
      "c\n",
      "e\n",
      "l\n",
      "l\n",
      "_\n",
      "t\n",
      "y\n",
      "p\n",
      "e\n",
      "\"\n",
      ":\n",
      " \n",
      "\"\n",
      "c\n",
      "o\n",
      "d\n",
      "e\n",
      "\"\n",
      ",\n",
      "\n",
      "\n",
      " \n",
      " \n",
      " \n",
      "\"\n",
      "e\n",
      "x\n",
      "e\n",
      "c\n",
      "u\n",
      "t\n",
      "i\n",
      "o\n",
      "n\n",
      "_\n",
      "c\n",
      "o\n",
      "u\n",
      "n\n",
      "t\n",
      "\"\n",
      ":\n",
      " \n",
      "n\n",
      "u\n",
      "l\n",
      "l\n",
      ",\n",
      "\n",
      "\n",
      " \n",
      " \n",
      " \n",
      "\"\n",
      "i\n",
      "d\n",
      "\"\n",
      ":\n",
      " \n",
      "\"\n",
      "6\n",
      "c\n",
      "a\n",
      "f\n",
      "d\n",
      "0\n",
      "2\n",
      "d\n",
      "\"\n",
      ",\n",
      "\n",
      "\n",
      " \n",
      " \n",
      " \n",
      "\"\n",
      "m\n",
      "e\n",
      "t\n",
      "a\n",
      "d\n",
      "a\n",
      "t\n",
      "a\n",
      "\"\n",
      ":\n",
      " \n",
      "{\n",
      "}\n",
      ",\n",
      "\n",
      "\n",
      " \n",
      " \n",
      " \n",
      "\"\n",
      "o\n",
      "u\n",
      "t\n",
      "p\n",
      "u\n",
      "t\n",
      "s\n",
      "\"\n",
      ":\n",
      " \n",
      "[\n",
      "]\n",
      ",\n",
      "\n",
      "\n",
      " \n",
      " \n",
      " \n",
      "\"\n",
      "s\n",
      "o\n",
      "u\n",
      "r\n",
      "c\n",
      "e\n",
      "\"\n",
      ":\n",
      " \n",
      "[\n",
      "]\n",
      "\n",
      "\n",
      " \n",
      " \n",
      "}\n",
      ",\n",
      "\n",
      "\n",
      " \n",
      " \n",
      "{\n",
      "\n",
      "\n",
      " \n",
      " \n",
      " \n",
      "\"\n",
      "c\n",
      "e\n",
      "l\n",
      "l\n",
      "_\n",
      "t\n",
      "y\n",
      "p\n",
      "e\n",
      "\"\n",
      ":\n",
      " \n",
      "\"\n",
      "m\n",
      "a\n",
      "r\n",
      "k\n",
      "d\n",
      "o\n",
      "w\n",
      "n\n",
      "\"\n",
      ",\n",
      "\n",
      "\n",
      " \n",
      " \n",
      " \n",
      "\"\n",
      "i\n",
      "d\n",
      "\"\n",
      ":\n",
      " \n",
      "\"\n",
      "2\n",
      "8\n",
      "b\n",
      "9\n",
      "e\n",
      "d\n",
      "6\n",
      "f\n",
      "\"\n",
      ",\n",
      "\n",
      "\n",
      " \n",
      " \n",
      " \n",
      "\"\n",
      "m\n",
      "e\n",
      "t\n",
      "a\n",
      "d\n",
      "a\n",
      "t\n",
      "a\n",
      "\"\n",
      ":\n",
      " \n",
      "{\n",
      "}\n",
      ",\n",
      "\n",
      "\n",
      " \n",
      " \n",
      " \n",
      "\"\n",
      "s\n",
      "o\n",
      "u\n",
      "r\n",
      "c\n",
      "e\n",
      "\"\n",
      ":\n",
      " \n",
      "[\n",
      "\n",
      "\n",
      " \n",
      " \n",
      " \n",
      " \n",
      "\"\n",
      "4\n",
      ".\n",
      " \n",
      "W\n",
      "r\n",
      "i\n",
      "t\n",
      "e\n",
      " \n",
      "a\n",
      " \n",
      "P\n",
      "y\n",
      "t\n",
      "h\n",
      "o\n",
      "n\n",
      " \n",
      "p\n",
      "r\n",
      "o\n",
      "g\n",
      "r\n",
      "a\n",
      "m\n",
      " \n",
      "t\n",
      "o\n",
      " \n",
      "s\n",
      "o\n",
      "l\n",
      "v\n",
      "e\n",
      " \n",
      "q\n",
      "u\n",
      "a\n",
      "d\n",
      "r\n",
      "a\n",
      "t\n",
      "i\n",
      "c\n",
      " \n",
      "e\n",
      "q\n",
      "u\n",
      "a\n",
      "t\n",
      "i\n",
      "o\n",
      "n\n",
      "?\n",
      "\"\n",
      "\n",
      "\n",
      " \n",
      " \n",
      " \n",
      "]\n",
      "\n",
      "\n",
      " \n",
      " \n",
      "}\n",
      ",\n",
      "\n",
      "\n",
      " \n",
      " \n",
      "{\n",
      "\n",
      "\n",
      " \n",
      " \n",
      " \n",
      "\"\n",
      "c\n",
      "e\n",
      "l\n",
      "l\n",
      "_\n",
      "t\n",
      "y\n",
      "p\n",
      "e\n",
      "\"\n",
      ":\n",
      " \n",
      "\"\n",
      "c\n",
      "o\n",
      "d\n",
      "e\n",
      "\"\n",
      ",\n",
      "\n",
      "\n",
      " \n",
      " \n",
      " \n",
      "\"\n",
      "e\n",
      "x\n",
      "e\n",
      "c\n",
      "u\n",
      "t\n",
      "i\n",
      "o\n",
      "n\n",
      "_\n",
      "c\n",
      "o\n",
      "u\n",
      "n\n",
      "t\n",
      "\"\n",
      ":\n",
      " \n",
      "n\n",
      "u\n",
      "l\n",
      "l\n",
      ",\n",
      "\n",
      "\n",
      " \n",
      " \n",
      " \n",
      "\"\n",
      "i\n",
      "d\n",
      "\"\n",
      ":\n",
      " \n",
      "\"\n",
      "8\n",
      "5\n",
      "d\n",
      "e\n",
      "c\n",
      "6\n",
      "6\n",
      "9\n",
      "\"\n",
      ",\n",
      "\n",
      "\n",
      " \n",
      " \n",
      " \n",
      "\"\n",
      "m\n",
      "e\n",
      "t\n",
      "a\n",
      "d\n",
      "a\n",
      "t\n",
      "a\n",
      "\"\n",
      ":\n",
      " \n",
      "{\n",
      "}\n",
      ",\n",
      "\n",
      "\n",
      " \n",
      " \n",
      " \n",
      "\"\n",
      "o\n",
      "u\n",
      "t\n",
      "p\n",
      "u\n",
      "t\n",
      "s\n",
      "\"\n",
      ":\n",
      " \n",
      "[\n",
      "]\n",
      ",\n",
      "\n",
      "\n",
      " \n",
      " \n",
      " \n",
      "\"\n",
      "s\n",
      "o\n",
      "u\n",
      "r\n",
      "c\n",
      "e\n",
      "\"\n",
      ":\n",
      " \n",
      "[\n",
      "]\n",
      "\n",
      "\n",
      " \n",
      " \n",
      "}\n",
      ",\n",
      "\n",
      "\n",
      " \n",
      " \n",
      "{\n",
      "\n",
      "\n",
      " \n",
      " \n",
      " \n",
      "\"\n",
      "c\n",
      "e\n",
      "l\n",
      "l\n",
      "_\n",
      "t\n",
      "y\n",
      "p\n",
      "e\n",
      "\"\n",
      ":\n",
      " \n",
      "\"\n",
      "m\n",
      "a\n",
      "r\n",
      "k\n",
      "d\n",
      "o\n",
      "w\n",
      "n\n",
      "\"\n",
      ",\n",
      "\n",
      "\n",
      " \n",
      " \n",
      " \n",
      "\"\n",
      "i\n",
      "d\n",
      "\"\n",
      ":\n",
      " \n",
      "\"\n",
      "a\n",
      "4\n",
      "a\n",
      "d\n",
      "5\n",
      "5\n",
      "2\n",
      "6\n",
      "\"\n",
      ",\n",
      "\n",
      "\n",
      " \n",
      " \n",
      " \n",
      "\"\n",
      "m\n",
      "e\n",
      "t\n",
      "a\n",
      "d\n",
      "a\n",
      "t\n",
      "a\n",
      "\"\n",
      ":\n",
      " \n",
      "{\n",
      "}\n",
      ",\n",
      "\n",
      "\n",
      " \n",
      " \n",
      " \n",
      "\"\n",
      "s\n",
      "o\n",
      "u\n",
      "r\n",
      "c\n",
      "e\n",
      "\"\n",
      ":\n",
      " \n",
      "[\n",
      "\n",
      "\n",
      " \n",
      " \n",
      " \n",
      " \n",
      "\"\n",
      "5\n",
      ".\n",
      " \n",
      "W\n",
      "r\n",
      "i\n",
      "t\n",
      "e\n",
      " \n",
      "a\n",
      " \n",
      "P\n",
      "y\n",
      "t\n",
      "h\n",
      "o\n",
      "n\n",
      " \n",
      "p\n",
      "r\n",
      "o\n",
      "g\n",
      "r\n",
      "a\n",
      "m\n",
      " \n",
      "t\n",
      "o\n",
      " \n",
      "s\n",
      "w\n",
      "a\n",
      "p\n",
      " \n",
      "t\n",
      "w\n",
      "o\n",
      " \n",
      "v\n",
      "a\n",
      "r\n",
      "i\n",
      "a\n",
      "b\n",
      "l\n",
      "e\n",
      "s\n",
      " \n",
      "w\n",
      "i\n",
      "t\n",
      "h\n",
      "o\n",
      "u\n",
      "t\n",
      " \n",
      "t\n",
      "e\n",
      "m\n",
      "p\n",
      " \n",
      "v\n",
      "a\n",
      "r\n",
      "i\n",
      "a\n",
      "b\n",
      "l\n",
      "e\n",
      "?\n",
      "\"\n",
      "\n",
      "\n",
      " \n",
      " \n",
      " \n",
      "]\n",
      "\n",
      "\n",
      " \n",
      " \n",
      "}\n",
      ",\n",
      "\n",
      "\n",
      " \n",
      " \n",
      "{\n",
      "\n",
      "\n",
      " \n",
      " \n",
      " \n",
      "\"\n",
      "c\n",
      "e\n",
      "l\n",
      "l\n",
      "_\n",
      "t\n",
      "y\n",
      "p\n",
      "e\n",
      "\"\n",
      ":\n",
      " \n",
      "\"\n",
      "c\n",
      "o\n",
      "d\n",
      "e\n",
      "\"\n",
      ",\n",
      "\n",
      "\n",
      " \n",
      " \n",
      " \n",
      "\"\n",
      "e\n",
      "x\n",
      "e\n",
      "c\n",
      "u\n",
      "t\n",
      "i\n",
      "o\n",
      "n\n",
      "_\n",
      "c\n",
      "o\n",
      "u\n",
      "n\n",
      "t\n",
      "\"\n",
      ":\n",
      " \n",
      "n\n",
      "u\n",
      "l\n",
      "l\n",
      ",\n",
      "\n",
      "\n",
      " \n",
      " \n",
      " \n",
      "\"\n",
      "i\n",
      "d\n",
      "\"\n",
      ":\n",
      " \n",
      "\"\n",
      "d\n",
      "f\n",
      "a\n",
      "3\n",
      "1\n",
      "a\n",
      "8\n",
      "2\n",
      "\"\n",
      ",\n",
      "\n",
      "\n",
      " \n",
      " \n",
      " \n",
      "\"\n",
      "m\n",
      "e\n",
      "t\n",
      "a\n",
      "d\n",
      "a\n",
      "t\n",
      "a\n",
      "\"\n",
      ":\n",
      " \n",
      "{\n",
      "}\n",
      ",\n",
      "\n",
      "\n",
      " \n",
      " \n",
      " \n",
      "\"\n",
      "o\n",
      "u\n",
      "t\n",
      "p\n",
      "u\n",
      "t\n",
      "s\n",
      "\"\n",
      ":\n",
      " \n",
      "[\n",
      "]\n",
      ",\n",
      "\n",
      "\n",
      " \n",
      " \n",
      " \n",
      "\"\n",
      "s\n",
      "o\n",
      "u\n",
      "r\n",
      "c\n",
      "e\n",
      "\"\n",
      ":\n",
      " \n",
      "[\n",
      "\n",
      "\n",
      " \n",
      " \n",
      " \n",
      " \n",
      "\"\n",
      "a\n",
      " \n",
      "=\n",
      " \n",
      "1\n",
      "0\n",
      "\\\n",
      "n\n",
      "\"\n",
      ",\n",
      "\n",
      "\n",
      " \n",
      " \n",
      " \n",
      " \n",
      "\"\n",
      "b\n",
      " \n",
      "=\n",
      " \n",
      "2\n",
      "0\n",
      "\\\n",
      "n\n",
      "\"\n",
      ",\n",
      "\n",
      "\n",
      " \n",
      " \n",
      " \n",
      " \n",
      "\"\n",
      "p\n",
      "r\n",
      "i\n",
      "n\n",
      "t\n",
      "(\n",
      "\\\n",
      "\"\n",
      "B\n",
      "e\n",
      "f\n",
      "o\n",
      "r\n",
      "e\n",
      " \n",
      "S\n",
      "w\n",
      "a\n",
      "p\n",
      "\\\n",
      "\"\n",
      ")\n",
      "\\\n",
      "n\n",
      "\"\n",
      ",\n",
      "\n",
      "\n",
      " \n",
      " \n",
      " \n",
      " \n",
      "\"\n",
      "p\n",
      "r\n",
      "i\n",
      "n\n",
      "t\n",
      "(\n",
      "\\\n",
      "\"\n",
      "a\n",
      ":\n",
      "\\\n",
      "\"\n",
      ",\n",
      "a\n",
      ",\n",
      "\\\n",
      "\"\n",
      "b\n",
      ":\n",
      "\\\n",
      "\"\n",
      ",\n",
      "b\n",
      ")\n",
      "\\\n",
      "n\n",
      "\"\n",
      ",\n",
      "\n",
      "\n",
      " \n",
      " \n",
      " \n",
      " \n",
      "\"\n",
      "a\n",
      ",\n",
      "b\n",
      " \n",
      "=\n",
      " \n",
      "b\n",
      ",\n",
      "a\n",
      "\\\n",
      "n\n",
      "\"\n",
      ",\n",
      "\n",
      "\n",
      " \n",
      " \n",
      " \n",
      " \n",
      "\"\n",
      "p\n",
      "r\n",
      "i\n",
      "n\n",
      "t\n",
      "(\n",
      "\\\n",
      "\"\n",
      "A\n",
      "f\n",
      "t\n",
      "e\n",
      "r\n",
      " \n",
      "S\n",
      "w\n",
      "a\n",
      "p\n",
      "\\\n",
      "\"\n",
      ")\n",
      "\\\n",
      "n\n",
      "\"\n",
      ",\n",
      "\n",
      "\n",
      " \n",
      " \n",
      " \n",
      " \n",
      "\"\n",
      "p\n",
      "r\n",
      "i\n",
      "n\n",
      "t\n",
      "(\n",
      "\\\n",
      "\"\n",
      "a\n",
      ":\n",
      "\\\n",
      "\"\n",
      ",\n",
      "a\n",
      ",\n",
      "\\\n",
      "\"\n",
      "b\n",
      ":\n",
      "\\\n",
      "\"\n",
      ",\n",
      "b\n",
      ")\n",
      "\"\n",
      "\n",
      "\n",
      " \n",
      " \n",
      " \n",
      "]\n",
      "\n",
      "\n",
      " \n",
      " \n",
      "}\n",
      "\n",
      "\n",
      " \n",
      "]\n",
      ",\n",
      "\n",
      "\n",
      " \n",
      "\"\n",
      "m\n",
      "e\n",
      "t\n",
      "a\n",
      "d\n",
      "a\n",
      "t\n",
      "a\n",
      "\"\n",
      ":\n",
      " \n",
      "{\n",
      "\n",
      "\n",
      " \n",
      " \n",
      "\"\n",
      "k\n",
      "e\n",
      "r\n",
      "n\n",
      "e\n",
      "l\n",
      "s\n",
      "p\n",
      "e\n",
      "c\n",
      "\"\n",
      ":\n",
      " \n",
      "{\n",
      "\n",
      "\n",
      " \n",
      " \n",
      " \n",
      "\"\n",
      "d\n",
      "i\n",
      "s\n",
      "p\n",
      "l\n",
      "a\n",
      "y\n",
      "_\n",
      "n\n",
      "a\n",
      "m\n",
      "e\n",
      "\"\n",
      ":\n",
      " \n",
      "\"\n",
      "P\n",
      "y\n",
      "t\n",
      "h\n",
      "o\n",
      "n\n",
      " \n",
      "3\n",
      " \n",
      "(\n",
      "i\n",
      "p\n",
      "y\n",
      "k\n",
      "e\n",
      "r\n",
      "n\n",
      "e\n",
      "l\n",
      ")\n",
      "\"\n",
      ",\n",
      "\n",
      "\n",
      " \n",
      " \n",
      " \n",
      "\"\n",
      "l\n",
      "a\n",
      "n\n",
      "g\n",
      "u\n",
      "a\n",
      "g\n",
      "e\n",
      "\"\n",
      ":\n",
      " \n",
      "\"\n",
      "p\n",
      "y\n",
      "t\n",
      "h\n",
      "o\n",
      "n\n",
      "\"\n",
      ",\n",
      "\n",
      "\n",
      " \n",
      " \n",
      " \n",
      "\"\n",
      "n\n",
      "a\n",
      "m\n",
      "e\n",
      "\"\n",
      ":\n",
      " \n",
      "\"\n",
      "p\n",
      "y\n",
      "t\n",
      "h\n",
      "o\n",
      "n\n",
      "3\n",
      "\"\n",
      "\n",
      "\n",
      " \n",
      " \n",
      "}\n",
      ",\n",
      "\n",
      "\n",
      " \n",
      " \n",
      "\"\n",
      "l\n",
      "a\n",
      "n\n",
      "g\n",
      "u\n",
      "a\n",
      "g\n",
      "e\n",
      "_\n",
      "i\n",
      "n\n",
      "f\n",
      "o\n",
      "\"\n",
      ":\n",
      " \n",
      "{\n",
      "\n",
      "\n",
      " \n",
      " \n",
      " \n",
      "\"\n",
      "c\n",
      "o\n",
      "d\n",
      "e\n",
      "m\n",
      "i\n",
      "r\n",
      "r\n",
      "o\n",
      "r\n",
      "_\n",
      "m\n",
      "o\n",
      "d\n",
      "e\n",
      "\"\n",
      ":\n",
      " \n",
      "{\n",
      "\n",
      "\n",
      " \n",
      " \n",
      " \n",
      " \n",
      "\"\n",
      "n\n",
      "a\n",
      "m\n",
      "e\n",
      "\"\n",
      ":\n",
      " \n",
      "\"\n",
      "i\n",
      "p\n",
      "y\n",
      "t\n",
      "h\n",
      "o\n",
      "n\n",
      "\"\n",
      ",\n",
      "\n",
      "\n",
      " \n",
      " \n",
      " \n",
      " \n",
      "\"\n",
      "v\n",
      "e\n",
      "r\n",
      "s\n",
      "i\n",
      "o\n",
      "n\n",
      "\"\n",
      ":\n",
      " \n",
      "3\n",
      "\n",
      "\n",
      " \n",
      " \n",
      " \n",
      "}\n",
      ",\n",
      "\n",
      "\n",
      " \n",
      " \n",
      " \n",
      "\"\n",
      "f\n",
      "i\n",
      "l\n",
      "e\n",
      "_\n",
      "e\n",
      "x\n",
      "t\n",
      "e\n",
      "n\n",
      "s\n",
      "i\n",
      "o\n",
      "n\n",
      "\"\n",
      ":\n",
      " \n",
      "\"\n",
      ".\n",
      "p\n",
      "y\n",
      "\"\n",
      ",\n",
      "\n",
      "\n",
      " \n",
      " \n",
      " \n",
      "\"\n",
      "m\n",
      "i\n",
      "m\n",
      "e\n",
      "t\n",
      "y\n",
      "p\n",
      "e\n",
      "\"\n",
      ":\n",
      " \n",
      "\"\n",
      "t\n",
      "e\n",
      "x\n",
      "t\n",
      "/\n",
      "x\n",
      "-\n",
      "p\n",
      "y\n",
      "t\n",
      "h\n",
      "o\n",
      "n\n",
      "\"\n",
      ",\n",
      "\n",
      "\n",
      " \n",
      " \n",
      " \n",
      "\"\n",
      "n\n",
      "a\n",
      "m\n",
      "e\n",
      "\"\n",
      ":\n",
      " \n",
      "\"\n",
      "p\n",
      "y\n",
      "t\n",
      "h\n",
      "o\n",
      "n\n",
      "\"\n",
      ",\n",
      "\n",
      "\n",
      " \n",
      " \n",
      " \n",
      "\"\n",
      "n\n",
      "b\n",
      "c\n",
      "o\n",
      "n\n",
      "v\n",
      "e\n",
      "r\n",
      "t\n",
      "_\n",
      "e\n",
      "x\n",
      "p\n",
      "o\n",
      "r\n",
      "t\n",
      "e\n",
      "r\n",
      "\"\n",
      ":\n",
      " \n",
      "\"\n",
      "p\n",
      "y\n",
      "t\n",
      "h\n",
      "o\n",
      "n\n",
      "\"\n",
      ",\n",
      "\n",
      "\n",
      " \n",
      " \n",
      " \n",
      "\"\n",
      "p\n",
      "y\n",
      "g\n",
      "m\n",
      "e\n",
      "n\n",
      "t\n",
      "s\n",
      "_\n",
      "l\n",
      "e\n",
      "x\n",
      "e\n",
      "r\n",
      "\"\n",
      ":\n",
      " \n",
      "\"\n",
      "i\n",
      "p\n",
      "y\n",
      "t\n",
      "h\n",
      "o\n",
      "n\n",
      "3\n",
      "\"\n",
      ",\n",
      "\n",
      "\n",
      " \n",
      " \n",
      " \n",
      "\"\n",
      "v\n",
      "e\n",
      "r\n",
      "s\n",
      "i\n",
      "o\n",
      "n\n",
      "\"\n",
      ":\n",
      " \n",
      "\"\n",
      "3\n",
      ".\n",
      "9\n",
      ".\n",
      "7\n",
      "\"\n",
      "\n",
      "\n",
      " \n",
      " \n",
      "}\n",
      "\n",
      "\n",
      " \n",
      "}\n",
      ",\n",
      "\n",
      "\n",
      " \n",
      "\"\n",
      "n\n",
      "b\n",
      "f\n",
      "o\n",
      "r\n",
      "m\n",
      "a\n",
      "t\n",
      "\"\n",
      ":\n",
      " \n",
      "4\n",
      ",\n",
      "\n",
      "\n",
      " \n",
      "\"\n",
      "n\n",
      "b\n",
      "f\n",
      "o\n",
      "r\n",
      "m\n",
      "a\n",
      "t\n",
      "_\n",
      "m\n",
      "i\n",
      "n\n",
      "o\n",
      "r\n",
      "\"\n",
      ":\n",
      " \n",
      "5\n",
      "\n",
      "\n",
      "}\n",
      "\n",
      "\n"
     ]
    }
   ],
   "source": [
    "f1.seek(0)\n",
    "for i in f1.read():\n",
    "    print(i)"
   ]
  },
  {
   "cell_type": "code",
   "execution_count": 69,
   "id": "49b5aeb7",
   "metadata": {},
   "outputs": [],
   "source": [
    "f1.seek(0)\n",
    "data = f1.readlines()"
   ]
  },
  {
   "cell_type": "code",
   "execution_count": 75,
   "id": "6ca83d06",
   "metadata": {},
   "outputs": [
    {
     "name": "stdout",
     "output_type": "stream",
     "text": [
      "    \"1. Write a Python program to convert kilometers to miles?\"\n",
      "\n",
      "    \"2. Write a Python program to convert Celsius to Fahrenheit?\"\n",
      "\n",
      "    \"3. Write a Python program to display calendar?\"\n",
      "\n",
      "    \"4. Write a Python program to solve quadratic equation?\"\n",
      "\n",
      "    \"5. Write a Python program to swap two variables without temp variable?\"\n",
      "\n",
      "    \"a = 10\\n\",\n",
      "\n"
     ]
    }
   ],
   "source": [
    "pr = False\n",
    "for i in data:\n",
    "    if pr:\n",
    "        print(i)\n",
    "        pr = False\n",
    "    if i == '   \"source\": [\\n':\n",
    "        pr = True"
   ]
  },
  {
   "cell_type": "code",
   "execution_count": 71,
   "id": "064b11af",
   "metadata": {
    "collapsed": true
   },
   "outputs": [
    {
     "data": {
      "text/plain": [
       "['{\\n',\n",
       " ' \"cells\": [\\n',\n",
       " '  {\\n',\n",
       " '   \"cell_type\": \"markdown\",\\n',\n",
       " '   \"id\": \"ae0bd0d3\",\\n',\n",
       " '   \"metadata\": {},\\n',\n",
       " '   \"source\": [\\n',\n",
       " '    \"1. Write a Python program to convert kilometers to miles?\"\\n',\n",
       " '   ]\\n',\n",
       " '  },\\n',\n",
       " '  {\\n',\n",
       " '   \"cell_type\": \"code\",\\n',\n",
       " '   \"execution_count\": null,\\n',\n",
       " '   \"id\": \"15e19106\",\\n',\n",
       " '   \"metadata\": {},\\n',\n",
       " '   \"outputs\": [],\\n',\n",
       " '   \"source\": []\\n',\n",
       " '  },\\n',\n",
       " '  {\\n',\n",
       " '   \"cell_type\": \"markdown\",\\n',\n",
       " '   \"id\": \"beeb233c\",\\n',\n",
       " '   \"metadata\": {},\\n',\n",
       " '   \"source\": [\\n',\n",
       " '    \"2. Write a Python program to convert Celsius to Fahrenheit?\"\\n',\n",
       " '   ]\\n',\n",
       " '  },\\n',\n",
       " '  {\\n',\n",
       " '   \"cell_type\": \"code\",\\n',\n",
       " '   \"execution_count\": null,\\n',\n",
       " '   \"id\": \"d9d04382\",\\n',\n",
       " '   \"metadata\": {},\\n',\n",
       " '   \"outputs\": [],\\n',\n",
       " '   \"source\": []\\n',\n",
       " '  },\\n',\n",
       " '  {\\n',\n",
       " '   \"cell_type\": \"markdown\",\\n',\n",
       " '   \"id\": \"983c4441\",\\n',\n",
       " '   \"metadata\": {},\\n',\n",
       " '   \"source\": [\\n',\n",
       " '    \"3. Write a Python program to display calendar?\"\\n',\n",
       " '   ]\\n',\n",
       " '  },\\n',\n",
       " '  {\\n',\n",
       " '   \"cell_type\": \"code\",\\n',\n",
       " '   \"execution_count\": null,\\n',\n",
       " '   \"id\": \"6cafd02d\",\\n',\n",
       " '   \"metadata\": {},\\n',\n",
       " '   \"outputs\": [],\\n',\n",
       " '   \"source\": []\\n',\n",
       " '  },\\n',\n",
       " '  {\\n',\n",
       " '   \"cell_type\": \"markdown\",\\n',\n",
       " '   \"id\": \"28b9ed6f\",\\n',\n",
       " '   \"metadata\": {},\\n',\n",
       " '   \"source\": [\\n',\n",
       " '    \"4. Write a Python program to solve quadratic equation?\"\\n',\n",
       " '   ]\\n',\n",
       " '  },\\n',\n",
       " '  {\\n',\n",
       " '   \"cell_type\": \"code\",\\n',\n",
       " '   \"execution_count\": null,\\n',\n",
       " '   \"id\": \"85dec669\",\\n',\n",
       " '   \"metadata\": {},\\n',\n",
       " '   \"outputs\": [],\\n',\n",
       " '   \"source\": []\\n',\n",
       " '  },\\n',\n",
       " '  {\\n',\n",
       " '   \"cell_type\": \"markdown\",\\n',\n",
       " '   \"id\": \"a4ad5526\",\\n',\n",
       " '   \"metadata\": {},\\n',\n",
       " '   \"source\": [\\n',\n",
       " '    \"5. Write a Python program to swap two variables without temp variable?\"\\n',\n",
       " '   ]\\n',\n",
       " '  },\\n',\n",
       " '  {\\n',\n",
       " '   \"cell_type\": \"code\",\\n',\n",
       " '   \"execution_count\": null,\\n',\n",
       " '   \"id\": \"dfa31a82\",\\n',\n",
       " '   \"metadata\": {},\\n',\n",
       " '   \"outputs\": [],\\n',\n",
       " '   \"source\": [\\n',\n",
       " '    \"a = 10\\\\n\",\\n',\n",
       " '    \"b = 20\\\\n\",\\n',\n",
       " '    \"print(\\\\\"Before Swap\\\\\")\\\\n\",\\n',\n",
       " '    \"print(\\\\\"a:\\\\\",a,\\\\\"b:\\\\\",b)\\\\n\",\\n',\n",
       " '    \"a,b = b,a\\\\n\",\\n',\n",
       " '    \"print(\\\\\"After Swap\\\\\")\\\\n\",\\n',\n",
       " '    \"print(\\\\\"a:\\\\\",a,\\\\\"b:\\\\\",b)\"\\n',\n",
       " '   ]\\n',\n",
       " '  }\\n',\n",
       " ' ],\\n',\n",
       " ' \"metadata\": {\\n',\n",
       " '  \"kernelspec\": {\\n',\n",
       " '   \"display_name\": \"Python 3 (ipykernel)\",\\n',\n",
       " '   \"language\": \"python\",\\n',\n",
       " '   \"name\": \"python3\"\\n',\n",
       " '  },\\n',\n",
       " '  \"language_info\": {\\n',\n",
       " '   \"codemirror_mode\": {\\n',\n",
       " '    \"name\": \"ipython\",\\n',\n",
       " '    \"version\": 3\\n',\n",
       " '   },\\n',\n",
       " '   \"file_extension\": \".py\",\\n',\n",
       " '   \"mimetype\": \"text/x-python\",\\n',\n",
       " '   \"name\": \"python\",\\n',\n",
       " '   \"nbconvert_exporter\": \"python\",\\n',\n",
       " '   \"pygments_lexer\": \"ipython3\",\\n',\n",
       " '   \"version\": \"3.9.7\"\\n',\n",
       " '  }\\n',\n",
       " ' },\\n',\n",
       " ' \"nbformat\": 4,\\n',\n",
       " ' \"nbformat_minor\": 5\\n',\n",
       " '}\\n']"
      ]
     },
     "execution_count": 71,
     "metadata": {},
     "output_type": "execute_result"
    }
   ],
   "source": [
    "data"
   ]
  },
  {
   "cell_type": "code",
   "execution_count": 83,
   "id": "5a5f87f9",
   "metadata": {},
   "outputs": [],
   "source": [
    "f1.seek(0)\n",
    "d = f1.read()\n",
    "d = d.replace('null','None')\n",
    "data_2 = eval(d)"
   ]
  },
  {
   "cell_type": "code",
   "execution_count": 88,
   "id": "d1ef74ab",
   "metadata": {},
   "outputs": [
    {
     "data": {
      "text/plain": [
       "'markdown'"
      ]
     },
     "execution_count": 88,
     "metadata": {},
     "output_type": "execute_result"
    }
   ],
   "source": [
    "data_2['cells'][0]['cell_type']"
   ]
  },
  {
   "cell_type": "code",
   "execution_count": 92,
   "id": "709300b6",
   "metadata": {},
   "outputs": [],
   "source": [
    "for i in data_2['cells']:\n",
    "    if i['cell_type'] == 'markdown':\n",
    "        i['source'][0] = \"Hello_word{}\".format(i['source'][0])"
   ]
  },
  {
   "cell_type": "code",
   "execution_count": 99,
   "id": "fe0c2be1",
   "metadata": {},
   "outputs": [
    {
     "data": {
      "text/plain": [
       "{'cells': [{'cell_type': 'markdown',\n",
       "   'id': 'ae0bd0d3',\n",
       "   'metadata': {},\n",
       "   'source': ['Hello_word1. Write a Python program to convert kilometers to miles?']},\n",
       "  {'cell_type': 'code',\n",
       "   'execution_count': None,\n",
       "   'id': '15e19106',\n",
       "   'metadata': {},\n",
       "   'outputs': [],\n",
       "   'source': []},\n",
       "  {'cell_type': 'markdown',\n",
       "   'id': 'beeb233c',\n",
       "   'metadata': {},\n",
       "   'source': ['Hello_word2. Write a Python program to convert Celsius to Fahrenheit?']},\n",
       "  {'cell_type': 'code',\n",
       "   'execution_count': None,\n",
       "   'id': 'd9d04382',\n",
       "   'metadata': {},\n",
       "   'outputs': [],\n",
       "   'source': []},\n",
       "  {'cell_type': 'markdown',\n",
       "   'id': '983c4441',\n",
       "   'metadata': {},\n",
       "   'source': ['Hello_word3. Write a Python program to display calendar?']},\n",
       "  {'cell_type': 'code',\n",
       "   'execution_count': None,\n",
       "   'id': '6cafd02d',\n",
       "   'metadata': {},\n",
       "   'outputs': [],\n",
       "   'source': []},\n",
       "  {'cell_type': 'markdown',\n",
       "   'id': '28b9ed6f',\n",
       "   'metadata': {},\n",
       "   'source': ['Hello_word4. Write a Python program to solve quadratic equation?']},\n",
       "  {'cell_type': 'code',\n",
       "   'execution_count': None,\n",
       "   'id': '85dec669',\n",
       "   'metadata': {},\n",
       "   'outputs': [],\n",
       "   'source': []},\n",
       "  {'cell_type': 'markdown',\n",
       "   'id': 'a4ad5526',\n",
       "   'metadata': {},\n",
       "   'source': ['Hello_word5. Write a Python program to swap two variables without temp variable?']},\n",
       "  {'cell_type': 'code',\n",
       "   'execution_count': None,\n",
       "   'id': 'dfa31a82',\n",
       "   'metadata': {},\n",
       "   'outputs': [],\n",
       "   'source': ['a = 10\\n',\n",
       "    'b = 20\\n',\n",
       "    'print(\"Before Swap\")\\n',\n",
       "    'print(\"a:\",a,\"b:\",b)\\n',\n",
       "    'a,b = b,a\\n',\n",
       "    'print(\"After Swap\")\\n',\n",
       "    'print(\"a:\",a,\"b:\",b)']}],\n",
       " 'metadata': {'kernelspec': {'display_name': 'Python 3 (ipykernel)',\n",
       "   'language': 'python',\n",
       "   'name': 'python3'},\n",
       "  'language_info': {'codemirror_mode': {'name': 'ipython', 'version': 3},\n",
       "   'file_extension': '.py',\n",
       "   'mimetype': 'text/x-python',\n",
       "   'name': 'python',\n",
       "   'nbconvert_exporter': 'python',\n",
       "   'pygments_lexer': 'ipython3',\n",
       "   'version': '3.9.7'}},\n",
       " 'nbformat': 4,\n",
       " 'nbformat_minor': 5}"
      ]
     },
     "execution_count": 99,
     "metadata": {},
     "output_type": "execute_result"
    }
   ],
   "source": [
    "data_2"
   ]
  },
  {
   "cell_type": "code",
   "execution_count": 94,
   "id": "997c3d2d",
   "metadata": {},
   "outputs": [
    {
     "data": {
      "text/plain": [
       "'{\\'cells\\': [{\\'cell_type\\': \\'markdown\\', \\'id\\': \\'ae0bd0d3\\', \\'metadata\\': {}, \\'source\\': [\\'Hello_word1. Write a Python program to convert kilometers to miles?\\']}, {\\'cell_type\\': \\'code\\', \\'execution_count\\': None, \\'id\\': \\'15e19106\\', \\'metadata\\': {}, \\'outputs\\': [], \\'source\\': []}, {\\'cell_type\\': \\'markdown\\', \\'id\\': \\'beeb233c\\', \\'metadata\\': {}, \\'source\\': [\\'Hello_word2. Write a Python program to convert Celsius to Fahrenheit?\\']}, {\\'cell_type\\': \\'code\\', \\'execution_count\\': None, \\'id\\': \\'d9d04382\\', \\'metadata\\': {}, \\'outputs\\': [], \\'source\\': []}, {\\'cell_type\\': \\'markdown\\', \\'id\\': \\'983c4441\\', \\'metadata\\': {}, \\'source\\': [\\'Hello_word3. Write a Python program to display calendar?\\']}, {\\'cell_type\\': \\'code\\', \\'execution_count\\': None, \\'id\\': \\'6cafd02d\\', \\'metadata\\': {}, \\'outputs\\': [], \\'source\\': []}, {\\'cell_type\\': \\'markdown\\', \\'id\\': \\'28b9ed6f\\', \\'metadata\\': {}, \\'source\\': [\\'Hello_word4. Write a Python program to solve quadratic equation?\\']}, {\\'cell_type\\': \\'code\\', \\'execution_count\\': None, \\'id\\': \\'85dec669\\', \\'metadata\\': {}, \\'outputs\\': [], \\'source\\': []}, {\\'cell_type\\': \\'markdown\\', \\'id\\': \\'a4ad5526\\', \\'metadata\\': {}, \\'source\\': [\\'Hello_word5. Write a Python program to swap two variables without temp variable?\\']}, {\\'cell_type\\': \\'code\\', \\'execution_count\\': None, \\'id\\': \\'dfa31a82\\', \\'metadata\\': {}, \\'outputs\\': [], \\'source\\': [\\'a = 10\\\\n\\', \\'b = 20\\\\n\\', \\'print(\"Before Swap\")\\\\n\\', \\'print(\"a:\",a,\"b:\",b)\\\\n\\', \\'a,b = b,a\\\\n\\', \\'print(\"After Swap\")\\\\n\\', \\'print(\"a:\",a,\"b:\",b)\\']}], \\'metadata\\': {\\'kernelspec\\': {\\'display_name\\': \\'Python 3 (ipykernel)\\', \\'language\\': \\'python\\', \\'name\\': \\'python3\\'}, \\'language_info\\': {\\'codemirror_mode\\': {\\'name\\': \\'ipython\\', \\'version\\': 3}, \\'file_extension\\': \\'.py\\', \\'mimetype\\': \\'text/x-python\\', \\'name\\': \\'python\\', \\'nbconvert_exporter\\': \\'python\\', \\'pygments_lexer\\': \\'ipython3\\', \\'version\\': \\'3.9.7\\'}}, \\'nbformat\\': 4, \\'nbformat_minor\\': 5}'"
      ]
     },
     "execution_count": 94,
     "metadata": {},
     "output_type": "execute_result"
    }
   ],
   "source": [
    "str(data_2)"
   ]
  },
  {
   "cell_type": "code",
   "execution_count": 97,
   "id": "1072c326",
   "metadata": {},
   "outputs": [
    {
     "data": {
      "text/plain": [
       "1799"
      ]
     },
     "execution_count": 97,
     "metadata": {},
     "output_type": "execute_result"
    }
   ],
   "source": [
    "f = open('Assignment_6.ipynb','w+')\n",
    "f.write(str(data_2))"
   ]
  },
  {
   "cell_type": "code",
   "execution_count": 98,
   "id": "30779d48",
   "metadata": {},
   "outputs": [],
   "source": [
    "f.close()"
   ]
  },
  {
   "cell_type": "code",
   "execution_count": 100,
   "id": "bfa62259",
   "metadata": {},
   "outputs": [],
   "source": [
    "import json"
   ]
  },
  {
   "cell_type": "code",
   "execution_count": 103,
   "id": "c2a0b4bd",
   "metadata": {},
   "outputs": [],
   "source": [
    "d2 = json.dumps(data_2,indent=1)"
   ]
  },
  {
   "cell_type": "code",
   "execution_count": 104,
   "id": "1c75b882",
   "metadata": {},
   "outputs": [
    {
     "data": {
      "text/plain": [
       "'{\\n \"cells\": [\\n  {\\n   \"cell_type\": \"markdown\",\\n   \"id\": \"ae0bd0d3\",\\n   \"metadata\": {},\\n   \"source\": [\\n    \"Hello_word1. Write a Python program to convert kilometers to miles?\"\\n   ]\\n  },\\n  {\\n   \"cell_type\": \"code\",\\n   \"execution_count\": null,\\n   \"id\": \"15e19106\",\\n   \"metadata\": {},\\n   \"outputs\": [],\\n   \"source\": []\\n  },\\n  {\\n   \"cell_type\": \"markdown\",\\n   \"id\": \"beeb233c\",\\n   \"metadata\": {},\\n   \"source\": [\\n    \"Hello_word2. Write a Python program to convert Celsius to Fahrenheit?\"\\n   ]\\n  },\\n  {\\n   \"cell_type\": \"code\",\\n   \"execution_count\": null,\\n   \"id\": \"d9d04382\",\\n   \"metadata\": {},\\n   \"outputs\": [],\\n   \"source\": []\\n  },\\n  {\\n   \"cell_type\": \"markdown\",\\n   \"id\": \"983c4441\",\\n   \"metadata\": {},\\n   \"source\": [\\n    \"Hello_word3. Write a Python program to display calendar?\"\\n   ]\\n  },\\n  {\\n   \"cell_type\": \"code\",\\n   \"execution_count\": null,\\n   \"id\": \"6cafd02d\",\\n   \"metadata\": {},\\n   \"outputs\": [],\\n   \"source\": []\\n  },\\n  {\\n   \"cell_type\": \"markdown\",\\n   \"id\": \"28b9ed6f\",\\n   \"metadata\": {},\\n   \"source\": [\\n    \"Hello_word4. Write a Python program to solve quadratic equation?\"\\n   ]\\n  },\\n  {\\n   \"cell_type\": \"code\",\\n   \"execution_count\": null,\\n   \"id\": \"85dec669\",\\n   \"metadata\": {},\\n   \"outputs\": [],\\n   \"source\": []\\n  },\\n  {\\n   \"cell_type\": \"markdown\",\\n   \"id\": \"a4ad5526\",\\n   \"metadata\": {},\\n   \"source\": [\\n    \"Hello_word5. Write a Python program to swap two variables without temp variable?\"\\n   ]\\n  },\\n  {\\n   \"cell_type\": \"code\",\\n   \"execution_count\": null,\\n   \"id\": \"dfa31a82\",\\n   \"metadata\": {},\\n   \"outputs\": [],\\n   \"source\": [\\n    \"a = 10\\\\n\",\\n    \"b = 20\\\\n\",\\n    \"print(\\\\\"Before Swap\\\\\")\\\\n\",\\n    \"print(\\\\\"a:\\\\\",a,\\\\\"b:\\\\\",b)\\\\n\",\\n    \"a,b = b,a\\\\n\",\\n    \"print(\\\\\"After Swap\\\\\")\\\\n\",\\n    \"print(\\\\\"a:\\\\\",a,\\\\\"b:\\\\\",b)\"\\n   ]\\n  }\\n ],\\n \"metadata\": {\\n  \"kernelspec\": {\\n   \"display_name\": \"Python 3 (ipykernel)\",\\n   \"language\": \"python\",\\n   \"name\": \"python3\"\\n  },\\n  \"language_info\": {\\n   \"codemirror_mode\": {\\n    \"name\": \"ipython\",\\n    \"version\": 3\\n   },\\n   \"file_extension\": \".py\",\\n   \"mimetype\": \"text/x-python\",\\n   \"name\": \"python\",\\n   \"nbconvert_exporter\": \"python\",\\n   \"pygments_lexer\": \"ipython3\",\\n   \"version\": \"3.9.7\"\\n  }\\n },\\n \"nbformat\": 4,\\n \"nbformat_minor\": 5\\n}'"
      ]
     },
     "execution_count": 104,
     "metadata": {},
     "output_type": "execute_result"
    }
   ],
   "source": [
    "d2"
   ]
  },
  {
   "cell_type": "code",
   "execution_count": 105,
   "id": "6fcbe425",
   "metadata": {},
   "outputs": [],
   "source": [
    "f = open('Assignment_6.ipynb','w+')\n",
    "f.write(d2)\n",
    "f.close()"
   ]
  },
  {
   "cell_type": "markdown",
   "id": "ff52e797",
   "metadata": {},
   "source": [
    "### To edit ipynb"
   ]
  },
  {
   "cell_type": "code",
   "execution_count": 34,
   "id": "0423368e",
   "metadata": {},
   "outputs": [],
   "source": [
    "import os\n",
    "import json\n",
    "from docx import Document\n",
    "\n",
    "def edit(z):\n",
    "    os.chdir(\"C:\\\\Users\\\\Shashwat\\\\Downloads\\\\\")\n",
    "    doc = Document('Assignment_{}.docx'.format(z))\n",
    "    text = []\n",
    "    for i in doc.paragraphs:\n",
    "        if len(i.text)>0:\n",
    "            text.append(i.text)       \n",
    "\n",
    "    os.chdir(\"C:\\\\Users\\\\Shashwat\\\\Desktop\\\\Ineuron\\\\ineuron_assignments\\\\Python\\\\python programming basic\")\n",
    "\n",
    "    f1 = open('demo.ipynb','r')\n",
    "    f1.seek(0)\n",
    "    d = f1.read()\n",
    "    d = d.replace('null','None')\n",
    "    data_2 = eval(d)\n",
    "\n",
    "    j = 0\n",
    "    for i in data_2['cells']:\n",
    "        if i['cell_type'] == 'markdown' and len(text)>j:\n",
    "            i['source'] = text[j]\n",
    "            j = j + 1\n",
    "\n",
    "\n",
    "    d2 = json.dumps(data_2,indent=1)\n",
    "    f = open('Assignment_{}.ipynb'.format(z),'w+')\n",
    "    f.write(d2)\n",
    "    f.close()"
   ]
  },
  {
   "cell_type": "code",
   "execution_count": 35,
   "id": "b07231ad",
   "metadata": {},
   "outputs": [],
   "source": [
    "edit(2)"
   ]
  },
  {
   "cell_type": "markdown",
   "id": "c3c133d7",
   "metadata": {},
   "source": [
    "# Logging"
   ]
  },
  {
   "cell_type": "code",
   "execution_count": 4,
   "id": "7f4c9d84",
   "metadata": {},
   "outputs": [],
   "source": [
    "import logging as lg\n",
    "import os"
   ]
  },
  {
   "cell_type": "code",
   "execution_count": 38,
   "id": "af59544e",
   "metadata": {},
   "outputs": [],
   "source": []
  },
  {
   "cell_type": "code",
   "execution_count": 3,
   "id": "98ad0fcf",
   "metadata": {},
   "outputs": [
    {
     "ename": "FileExistsError",
     "evalue": "[WinError 183] Cannot create a file when that file already exists: 'logging'",
     "output_type": "error",
     "traceback": [
      "\u001b[1;31m---------------------------------------------------------------------------\u001b[0m",
      "\u001b[1;31mFileExistsError\u001b[0m                           Traceback (most recent call last)",
      "\u001b[1;32m~\\AppData\\Local\\Temp/ipykernel_12296/1195690185.py\u001b[0m in \u001b[0;36m<module>\u001b[1;34m\u001b[0m\n\u001b[0;32m      1\u001b[0m \u001b[0mos\u001b[0m\u001b[1;33m.\u001b[0m\u001b[0mchdir\u001b[0m\u001b[1;33m(\u001b[0m\u001b[1;34m'C:\\\\Users\\\\Shashwat\\\\Desktop\\\\Ineuron\\\\Practice'\u001b[0m\u001b[1;33m)\u001b[0m\u001b[1;33m\u001b[0m\u001b[1;33m\u001b[0m\u001b[0m\n\u001b[1;32m----> 2\u001b[1;33m \u001b[0mos\u001b[0m\u001b[1;33m.\u001b[0m\u001b[0mmkdir\u001b[0m\u001b[1;33m(\u001b[0m\u001b[1;34m'logging'\u001b[0m\u001b[1;33m)\u001b[0m\u001b[1;33m\u001b[0m\u001b[1;33m\u001b[0m\u001b[0m\n\u001b[0m",
      "\u001b[1;31mFileExistsError\u001b[0m: [WinError 183] Cannot create a file when that file already exists: 'logging'"
     ]
    }
   ],
   "source": [
    "os.chdir('C:\\\\Users\\\\Shashwat\\\\Desktop\\\\Ineuron\\\\Practice')\n",
    "os.mkdir('logging')"
   ]
  },
  {
   "cell_type": "code",
   "execution_count": 5,
   "id": "17884632",
   "metadata": {},
   "outputs": [],
   "source": [
    "os.chdir('C:\\\\Users\\\\Shashwat\\\\Desktop\\\\Ineuron\\\\Practice\\\\logging')"
   ]
  },
  {
   "cell_type": "code",
   "execution_count": 6,
   "id": "0782301c",
   "metadata": {},
   "outputs": [
    {
     "data": {
      "text/plain": [
       "'C:\\\\Users\\\\Shashwat\\\\Desktop\\\\Ineuron\\\\Practice\\\\logging'"
      ]
     },
     "execution_count": 6,
     "metadata": {},
     "output_type": "execute_result"
    }
   ],
   "source": [
    "pwd()"
   ]
  },
  {
   "cell_type": "code",
   "execution_count": null,
   "id": "7c7cf26b",
   "metadata": {},
   "outputs": [],
   "source": []
  },
  {
   "cell_type": "code",
   "execution_count": 19,
   "id": "65231e48",
   "metadata": {},
   "outputs": [],
   "source": [
    "lg.basicConfig(filename = 'test.log' , level = lg.INFO, format = '%(asctime)s %(message)s')"
   ]
  },
  {
   "cell_type": "code",
   "execution_count": 20,
   "id": "6ade810c",
   "metadata": {},
   "outputs": [],
   "source": [
    "lg.info(\" i am going to start my program\")"
   ]
  },
  {
   "cell_type": "code",
   "execution_count": 21,
   "id": "7e54bb79",
   "metadata": {},
   "outputs": [],
   "source": [
    "lg.warning(\"this is a first warning of my program to modify it.\")"
   ]
  },
  {
   "cell_type": "code",
   "execution_count": 22,
   "id": "2707615c",
   "metadata": {},
   "outputs": [],
   "source": [
    "lg.error('this is msg for error')"
   ]
  },
  {
   "cell_type": "code",
   "execution_count": 23,
   "id": "0caf9cde",
   "metadata": {},
   "outputs": [
    {
     "ename": "TypeError",
     "evalue": "can only concatenate str (not \"int\") to str",
     "output_type": "error",
     "traceback": [
      "\u001b[1;31m---------------------------------------------------------------------------\u001b[0m",
      "\u001b[1;31mTypeError\u001b[0m                                 Traceback (most recent call last)",
      "\u001b[1;32m~\\AppData\\Local\\Temp/ipykernel_2084/3890190122.py\u001b[0m in \u001b[0;36m<module>\u001b[1;34m\u001b[0m\n\u001b[1;32m----> 1\u001b[1;33m \u001b[1;34m\"sfedfaef\"\u001b[0m\u001b[1;33m+\u001b[0m\u001b[1;36m345\u001b[0m\u001b[1;33m\u001b[0m\u001b[1;33m\u001b[0m\u001b[0m\n\u001b[0m",
      "\u001b[1;31mTypeError\u001b[0m: can only concatenate str (not \"int\") to str"
     ]
    }
   ],
   "source": [
    "\"sfedfaef\"+345"
   ]
  },
  {
   "cell_type": "code",
   "execution_count": 24,
   "id": "f2971555",
   "metadata": {},
   "outputs": [],
   "source": [
    "def test(a,b):\n",
    "    try:\n",
    "        lg.info(\"{} {}\".format(a,b))\n",
    "        div = a/b\n",
    "        return div\n",
    "    except Exception as e:\n",
    "        print(\"you can check your log\")\n",
    "        lg.error(\"error has occur\")\n",
    "        lg.exception(str(e))"
   ]
  },
  {
   "cell_type": "code",
   "execution_count": 25,
   "id": "4675f2a8",
   "metadata": {},
   "outputs": [
    {
     "name": "stdout",
     "output_type": "stream",
     "text": [
      "you can check your log\n"
     ]
    }
   ],
   "source": [
    "test(4,0)"
   ]
  },
  {
   "cell_type": "code",
   "execution_count": 10,
   "id": "3d309c1d",
   "metadata": {},
   "outputs": [],
   "source": [
    "lg.basicConfig(filename = 'test1.log',level = lg.INFO)"
   ]
  },
  {
   "cell_type": "code",
   "execution_count": 11,
   "id": "e3479737",
   "metadata": {},
   "outputs": [],
   "source": [
    "def test(a,b):\n",
    "    lg.info(\"this is a start of function\")\n",
    "    return a+b"
   ]
  },
  {
   "cell_type": "code",
   "execution_count": 12,
   "id": "d821cb9e",
   "metadata": {},
   "outputs": [
    {
     "data": {
      "text/plain": [
       "5"
      ]
     },
     "execution_count": 12,
     "metadata": {},
     "output_type": "execute_result"
    }
   ],
   "source": [
    "test(2,3)"
   ]
  },
  {
   "cell_type": "code",
   "execution_count": 26,
   "id": "dca9f2b0",
   "metadata": {},
   "outputs": [],
   "source": [
    "lg.shutdown()"
   ]
  },
  {
   "cell_type": "code",
   "execution_count": null,
   "id": "de7b15c9",
   "metadata": {},
   "outputs": [],
   "source": []
  },
  {
   "cell_type": "code",
   "execution_count": null,
   "id": "c30176b6",
   "metadata": {},
   "outputs": [],
   "source": []
  },
  {
   "cell_type": "code",
   "execution_count": 1,
   "id": "e99acd59",
   "metadata": {},
   "outputs": [],
   "source": [
    "import logging as lg\n",
    "import os\n",
    "os.chdir('C:\\\\Users\\\\Shashwat\\\\Desktop\\\\Ineuron\\\\Practice\\\\logging')"
   ]
  },
  {
   "cell_type": "code",
   "execution_count": 2,
   "id": "7703acfb",
   "metadata": {},
   "outputs": [],
   "source": [
    "lg.basicConfig(filename=\"test2.log\",level=lg.INFO,format = '%(asctime)s %(message)s')"
   ]
  },
  {
   "cell_type": "code",
   "execution_count": 7,
   "id": "77ecb341",
   "metadata": {},
   "outputs": [],
   "source": [
    "def sumit(*args):\n",
    "    try:\n",
    "        lg.info(\"Starting sum\")\n",
    "        s = 0\n",
    "        for i in args:\n",
    "            lg.info(\"For argument {}\".format(i))\n",
    "            s = s + i\n",
    "        lg.info(\"Done adding and returning value\")\n",
    "        return s\n",
    "    except Exception as e:\n",
    "        lg.error(\"please input only integers\")\n",
    "        lg.exception(str(e))"
   ]
  },
  {
   "cell_type": "code",
   "execution_count": 8,
   "id": "fc3c3be1",
   "metadata": {},
   "outputs": [
    {
     "data": {
      "text/plain": [
       "270"
      ]
     },
     "execution_count": 8,
     "metadata": {},
     "output_type": "execute_result"
    }
   ],
   "source": [
    "sumit(23,34,56,123,34)"
   ]
  },
  {
   "cell_type": "code",
   "execution_count": 9,
   "id": "6c565b8c",
   "metadata": {},
   "outputs": [],
   "source": [
    "f  = open('test2.log')"
   ]
  },
  {
   "cell_type": "code",
   "execution_count": 10,
   "id": "c46fd34d",
   "metadata": {},
   "outputs": [
    {
     "data": {
      "text/plain": [
       "'INFO:root:Starting sum\\nINFO:root:For argument 23\\nINFO:root:For argument 34\\nINFO:root:For argument 56\\nINFO:root:For argument 123\\nINFO:root:For argument dfgf\\nERROR:root:please input oly intergers\\nERROR:root:unsupported operand type(s) for +: \\'int\\' and \\'str\\'\\nTraceback (most recent call last):\\n  File \"C:\\\\Users\\\\Shashwat\\\\AppData\\\\Local\\\\Temp/ipykernel_648/546201242.py\", line 7, in sumit\\n    s = s + i\\nTypeError: unsupported operand type(s) for +: \\'int\\' and \\'str\\'\\nINFO:root:Starting sum\\nINFO:root:For argument 23\\nINFO:root:Done adding and returning value\\nINFO:root:For argument 34\\nINFO:root:Done adding and returning value\\nINFO:root:For argument 56\\nINFO:root:Done adding and returning value\\nINFO:root:For argument 123\\nINFO:root:Done adding and returning value\\nINFO:root:For argument dfgf\\nERROR:root:please input only integers\\nERROR:root:unsupported operand type(s) for +: \\'int\\' and \\'str\\'\\nTraceback (most recent call last):\\n  File \"C:\\\\Users\\\\Shashwat\\\\AppData\\\\Local\\\\Temp/ipykernel_648/2057063990.py\", line 7, in sumit\\n    s = s + i\\nTypeError: unsupported operand type(s) for +: \\'int\\' and \\'str\\'\\nINFO:root:Starting sum\\nINFO:root:For argument 23\\nINFO:root:For argument 34\\nINFO:root:For argument 56\\nINFO:root:For argument 123\\nINFO:root:For argument 34\\nINFO:root:Done adding and returning value\\n'"
      ]
     },
     "execution_count": 10,
     "metadata": {},
     "output_type": "execute_result"
    }
   ],
   "source": [
    "f.read()"
   ]
  },
  {
   "cell_type": "code",
   "execution_count": null,
   "id": "5ecfa453",
   "metadata": {},
   "outputs": [],
   "source": []
  },
  {
   "cell_type": "code",
   "execution_count": null,
   "id": "96f59a55",
   "metadata": {},
   "outputs": [],
   "source": []
  },
  {
   "cell_type": "code",
   "execution_count": null,
   "id": "dfe12218",
   "metadata": {},
   "outputs": [],
   "source": []
  },
  {
   "cell_type": "code",
   "execution_count": null,
   "id": "e3062129",
   "metadata": {},
   "outputs": [],
   "source": []
  },
  {
   "cell_type": "code",
   "execution_count": 2,
   "id": "3dbec945",
   "metadata": {},
   "outputs": [
    {
     "name": "stderr",
     "output_type": "stream",
     "text": [
      "%(asctime)s %(name)s %(levelname)s %(message)s\n",
      "2021-12-26 17:15:19,642 logger1.area1 INFO this is info for logger1\n"
     ]
    }
   ],
   "source": [
    "import logging as lg\n",
    "import os, sys\n",
    "os.chdir('C:\\\\Users\\\\Shashwat\\\\Desktop\\\\Ineuron\\\\Practice\\\\logging')\n",
    "\n",
    "lg.basicConfig(filename = 'test4.log', level = lg.DEBUG, format = '%(asctime)s %(name)s %(levelname)s %(message)s')\n",
    "\n",
    "console_log = lg.StreamHandler()\n",
    "console_log.setLevel(lg.DEBUG)\n",
    "os.chmod(os.getcwd(),777)\n",
    "format_ = lg.Formatter('%(asctime)s %(name)s %(levelname)s %(message)s')\n",
    "console_log.setFormatter(format_)\n",
    "\n",
    "lg.getLogger('logger1.area1').addHandler(console_log)\n",
    "\n",
    "lg.info('this is my first log')\n",
    "\n",
    "logger1 = lg.getLogger('logger1.area1')\n",
    "logger2 = lg.getLogger('logger2.area2')\n",
    "\n",
    "logger1.info('this is info for logger1')\n",
    "logger2.debug('this is debug for l2')\n",
    "logger2.info('this is info for l2')"
   ]
  },
  {
   "cell_type": "code",
   "execution_count": 7,
   "id": "e4522b16",
   "metadata": {},
   "outputs": [
    {
     "ename": "NameError",
     "evalue": "name 'sys' is not defined",
     "output_type": "error",
     "traceback": [
      "\u001b[1;31m---------------------------------------------------------------------------\u001b[0m",
      "\u001b[1;31mNameError\u001b[0m                                 Traceback (most recent call last)",
      "\u001b[1;32m~\\AppData\\Local\\Temp/ipykernel_7244/1278367299.py\u001b[0m in \u001b[0;36m<module>\u001b[1;34m\u001b[0m\n\u001b[1;32m----> 1\u001b[1;33m \u001b[0msys\u001b[0m\u001b[1;33m.\u001b[0m\u001b[0mstdout\u001b[0m\u001b[1;33m\u001b[0m\u001b[1;33m\u001b[0m\u001b[0m\n\u001b[0m",
      "\u001b[1;31mNameError\u001b[0m: name 'sys' is not defined"
     ]
    }
   ],
   "source": [
    "sys.stdout"
   ]
  },
  {
   "cell_type": "code",
   "execution_count": null,
   "id": "e5b82263",
   "metadata": {},
   "outputs": [],
   "source": []
  },
  {
   "cell_type": "code",
   "execution_count": null,
   "id": "b8e55dab",
   "metadata": {},
   "outputs": [],
   "source": []
  },
  {
   "cell_type": "code",
   "execution_count": null,
   "id": "7bf5d053",
   "metadata": {},
   "outputs": [],
   "source": []
  },
  {
   "cell_type": "code",
   "execution_count": null,
   "id": "0e4cff3f",
   "metadata": {},
   "outputs": [],
   "source": []
  },
  {
   "cell_type": "code",
   "execution_count": 8,
   "id": "29cf0ae9",
   "metadata": {},
   "outputs": [],
   "source": [
    "def testdebug():\n",
    "    ipdb.set_trace()\n",
    "    l = []\n",
    "    for i in range(10):\n",
    "        l.append(i)\n",
    "        print(\"we have appended data {}\".format(i))\n",
    "    return l"
   ]
  },
  {
   "cell_type": "code",
   "execution_count": 10,
   "id": "bae3d656",
   "metadata": {},
   "outputs": [
    {
     "name": "stdout",
     "output_type": "stream",
     "text": [
      "> \u001b[1;32mc:\\users\\shashwat\\appdata\\local\\temp\\ipykernel_6704\\2163329093.py\u001b[0m(3)\u001b[0;36mtestdebug\u001b[1;34m()\u001b[0m\n",
      "\n",
      "ipdb> j 5\n",
      "*** Jump failed: can't jump into the body of a for loop\n",
      "ipdb> \n",
      "*** Jump failed: can't jump into the body of a for loop\n",
      "ipdb> j 4\n",
      "> \u001b[1;32mc:\\users\\shashwat\\appdata\\local\\temp\\ipykernel_6704\\2163329093.py\u001b[0m(4)\u001b[0;36mtestdebug\u001b[1;34m()\u001b[0m\n",
      "\n",
      "ipdb> \n",
      "> \u001b[1;32mc:\\users\\shashwat\\appdata\\local\\temp\\ipykernel_6704\\2163329093.py\u001b[0m(4)\u001b[0;36mtestdebug\u001b[1;34m()\u001b[0m\n",
      "\n",
      "ipdb> \n",
      "> \u001b[1;32mc:\\users\\shashwat\\appdata\\local\\temp\\ipykernel_6704\\2163329093.py\u001b[0m(4)\u001b[0;36mtestdebug\u001b[1;34m()\u001b[0m\n",
      "\n",
      "ipdb> \n",
      "> \u001b[1;32mc:\\users\\shashwat\\appdata\\local\\temp\\ipykernel_6704\\2163329093.py\u001b[0m(4)\u001b[0;36mtestdebug\u001b[1;34m()\u001b[0m\n",
      "\n",
      "ipdb> \n",
      "> \u001b[1;32mc:\\users\\shashwat\\appdata\\local\\temp\\ipykernel_6704\\2163329093.py\u001b[0m(4)\u001b[0;36mtestdebug\u001b[1;34m()\u001b[0m\n",
      "\n",
      "ipdb> n\n",
      "> \u001b[1;32mc:\\users\\shashwat\\appdata\\local\\temp\\ipykernel_6704\\2163329093.py\u001b[0m(5)\u001b[0;36mtestdebug\u001b[1;34m()\u001b[0m\n",
      "\n",
      "ipdb> n\n",
      "UnboundLocalError: local variable 'l' referenced before assignment\n",
      "> \u001b[1;32mc:\\users\\shashwat\\appdata\\local\\temp\\ipykernel_6704\\2163329093.py\u001b[0m(5)\u001b[0;36mtestdebug\u001b[1;34m()\u001b[0m\n",
      "\n",
      "ipdb> n\n",
      "--Return--\n",
      "None\n",
      "> \u001b[1;32mc:\\users\\shashwat\\appdata\\local\\temp\\ipykernel_6704\\2163329093.py\u001b[0m(5)\u001b[0;36mtestdebug\u001b[1;34m()\u001b[0m\n",
      "\n",
      "ipdb> n\n",
      "UnboundLocalError: local variable 'l' referenced before assignment\n",
      "> \u001b[1;32mc:\\users\\shashwat\\appdata\\local\\temp\\ipykernel_6704\\3801750879.py\u001b[0m(1)\u001b[0;36m<module>\u001b[1;34m()\u001b[0m\n",
      "\n",
      "--KeyboardInterrupt--\n",
      "\n",
      "KeyboardInterrupt: Interrupted by user\n"
     ]
    },
    {
     "ename": "UnboundLocalError",
     "evalue": "local variable 'l' referenced before assignment",
     "output_type": "error",
     "traceback": [
      "\u001b[1;31m---------------------------------------------------------------------------\u001b[0m",
      "\u001b[1;31mUnboundLocalError\u001b[0m                         Traceback (most recent call last)",
      "\u001b[1;32m~\\AppData\\Local\\Temp/ipykernel_6704/3801750879.py\u001b[0m in \u001b[0;36m<module>\u001b[1;34m\u001b[0m\n\u001b[1;32m----> 1\u001b[1;33m \u001b[0mtestdebug\u001b[0m\u001b[1;33m(\u001b[0m\u001b[1;33m)\u001b[0m\u001b[1;33m\u001b[0m\u001b[1;33m\u001b[0m\u001b[0m\n\u001b[0m",
      "\u001b[1;32m~\\AppData\\Local\\Temp/ipykernel_6704/2163329093.py\u001b[0m in \u001b[0;36mtestdebug\u001b[1;34m()\u001b[0m\n\u001b[0;32m      3\u001b[0m     \u001b[0ml\u001b[0m \u001b[1;33m=\u001b[0m \u001b[1;33m[\u001b[0m\u001b[1;33m]\u001b[0m\u001b[1;33m\u001b[0m\u001b[1;33m\u001b[0m\u001b[0m\n\u001b[0;32m      4\u001b[0m     \u001b[1;32mfor\u001b[0m \u001b[0mi\u001b[0m \u001b[1;32min\u001b[0m \u001b[0mrange\u001b[0m\u001b[1;33m(\u001b[0m\u001b[1;36m10\u001b[0m\u001b[1;33m)\u001b[0m\u001b[1;33m:\u001b[0m\u001b[1;33m\u001b[0m\u001b[1;33m\u001b[0m\u001b[0m\n\u001b[1;32m----> 5\u001b[1;33m         \u001b[0ml\u001b[0m\u001b[1;33m.\u001b[0m\u001b[0mappend\u001b[0m\u001b[1;33m(\u001b[0m\u001b[0mi\u001b[0m\u001b[1;33m)\u001b[0m\u001b[1;33m\u001b[0m\u001b[1;33m\u001b[0m\u001b[0m\n\u001b[0m\u001b[0;32m      6\u001b[0m         \u001b[0mprint\u001b[0m\u001b[1;33m(\u001b[0m\u001b[1;34m\"we have appended data {}\"\u001b[0m\u001b[1;33m.\u001b[0m\u001b[0mformat\u001b[0m\u001b[1;33m(\u001b[0m\u001b[0mi\u001b[0m\u001b[1;33m)\u001b[0m\u001b[1;33m)\u001b[0m\u001b[1;33m\u001b[0m\u001b[1;33m\u001b[0m\u001b[0m\n\u001b[0;32m      7\u001b[0m     \u001b[1;32mreturn\u001b[0m \u001b[0ml\u001b[0m\u001b[1;33m\u001b[0m\u001b[1;33m\u001b[0m\u001b[0m\n",
      "\u001b[1;31mUnboundLocalError\u001b[0m: local variable 'l' referenced before assignment"
     ]
    }
   ],
   "source": [
    "testdebug()"
   ]
  },
  {
   "cell_type": "code",
   "execution_count": 7,
   "id": "2d3c1f44",
   "metadata": {},
   "outputs": [],
   "source": [
    "import ipdb"
   ]
  },
  {
   "cell_type": "code",
   "execution_count": null,
   "id": "193bff2d",
   "metadata": {},
   "outputs": [],
   "source": []
  },
  {
   "cell_type": "code",
   "execution_count": null,
   "id": "0fc4af4a",
   "metadata": {},
   "outputs": [],
   "source": []
  },
  {
   "cell_type": "code",
   "execution_count": 12,
   "id": "b996c72e",
   "metadata": {},
   "outputs": [
    {
     "data": {
      "text/plain": [
       "'C:\\\\Users\\\\Shashwat\\\\Desktop\\\\Ineuron\\\\Practice\\\\logging'"
      ]
     },
     "execution_count": 12,
     "metadata": {},
     "output_type": "execute_result"
    }
   ],
   "source": [
    "pwd()"
   ]
  },
  {
   "cell_type": "code",
   "execution_count": 13,
   "id": "368c99f3",
   "metadata": {},
   "outputs": [],
   "source": [
    "os.chdir('C:\\\\Users\\\\Shashwat\\\\Desktop\\\\Ineuron\\\\Practice')"
   ]
  },
  {
   "cell_type": "markdown",
   "id": "d16fbc55",
   "metadata": {},
   "source": [
    "# class"
   ]
  },
  {
   "cell_type": "code",
   "execution_count": 16,
   "id": "a0ff94b2",
   "metadata": {},
   "outputs": [
    {
     "name": "stdout",
     "output_type": "stream",
     "text": [
      "this is my first eveer module\n"
     ]
    }
   ],
   "source": [
    "import test1"
   ]
  },
  {
   "cell_type": "code",
   "execution_count": null,
   "id": "53673827",
   "metadata": {},
   "outputs": [],
   "source": []
  }
 ],
 "metadata": {
  "kernelspec": {
   "display_name": "Python 3 (ipykernel)",
   "language": "python",
   "name": "python3"
  },
  "language_info": {
   "codemirror_mode": {
    "name": "ipython",
    "version": 3
   },
   "file_extension": ".py",
   "mimetype": "text/x-python",
   "name": "python",
   "nbconvert_exporter": "python",
   "pygments_lexer": "ipython3",
   "version": "3.9.7"
  }
 },
 "nbformat": 4,
 "nbformat_minor": 5
}
